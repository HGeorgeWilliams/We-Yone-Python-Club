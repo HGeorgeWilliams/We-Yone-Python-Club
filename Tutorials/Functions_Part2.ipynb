{
  "nbformat": 4,
  "nbformat_minor": 0,
  "metadata": {
    "colab": {
      "name": "Functions_Part2.ipynb",
      "provenance": [],
      "collapsed_sections": [],
      "authorship_tag": "ABX9TyOLB1aU7L3lOHAoOBXIIQpo",
      "include_colab_link": true
    },
    "kernelspec": {
      "name": "python3",
      "display_name": "Python 3"
    }
  },
  "cells": [
    {
      "cell_type": "markdown",
      "metadata": {
        "id": "view-in-github",
        "colab_type": "text"
      },
      "source": [
        "<a href=\"https://colab.research.google.com/github/HGeorgeWilliams/We-Yone-Python-Club/blob/master/Tutorials/Functions_Part2.ipynb\" target=\"_parent\"><img src=\"https://colab.research.google.com/assets/colab-badge.svg\" alt=\"Open In Colab\"/></a>"
      ]
    },
    {
      "cell_type": "markdown",
      "metadata": {
        "id": "ME_OFocM7liO",
        "colab_type": "text"
      },
      "source": [
        "# **Python 101: Introduction to Functions in Python 2**\n",
        "\n",
        "\n"
      ]
    },
    {
      "cell_type": "markdown",
      "metadata": {
        "id": "8r1dpR357-0C",
        "colab_type": "text"
      },
      "source": [
        "# Summary\n",
        "\n",
        "\n",
        "---\n",
        "\n",
        "\n",
        "This tutorial builds on my previous [tutorial](https://colab.research.google.com/github/HGeorgeWilliams/We-Yone-Python-Club/blob/master/Tutorials/Functions.ipynb) on functions, which introduces people with a basic programming knowledge to defining and calling functions in Python. In this tutorial, I will take you through foolproofing functions and writing function results to a Microsoft Excel file.\n",
        "<br><br>\n",
        "A video recording of this tutorial is available on my [YouTube channel](https://youtu.be/o9Kig68tRF0).\n",
        "<br>\n",
        "<br>\n",
        "Visit my [GitHub page](https://github.com/HGeorgeWilliams/We-Yone-Python-Club) for more tutorials and resources in this series. \n"
      ]
    },
    {
      "cell_type": "markdown",
      "metadata": {
        "colab_type": "text",
        "id": "W-fqP4DTH_AM"
      },
      "source": [
        "For the rest of this tutorial, we want to work from the directory holding the source files I have prepared for this session."
      ]
    },
    {
      "cell_type": "code",
      "metadata": {
        "colab_type": "code",
        "id": "sssJBGtlICEK",
        "colab": {}
      },
      "source": [
        "import os # import the operating system interface package\n",
        "\n",
        "# import module for downloading files from url\n",
        "# The block of code below installs the module first\n",
        "# if it is is not currently installed\n",
        "\n",
        "try:\n",
        "\n",
        "    import wget \n",
        "\n",
        "except ImportError:\n",
        "\n",
        "    !pip install wget \n",
        "    import wget "
      ],
      "execution_count": null,
      "outputs": []
    },
    {
      "cell_type": "code",
      "metadata": {
        "colab_type": "code",
        "id": "3pvtGRLeIEaI",
        "colab": {}
      },
      "source": [
        "# download source files from GitHub (This cell needs to be run only once)\n",
        "\n",
        "current_directory = os.getcwd() # get current directory\n",
        "os.mkdir('source_files_aug8') # create directory to save files\n",
        "source_file_path = current_directory + '/source_files_aug8'#source file path\n",
        "os.chdir(source_file_path) # make source file folder the working directory\n",
        "\n",
        "# download plotdata.xlsx\n",
        "wget.download('https://github.com/HGeorgeWilliams/We-Yone-Python-Club/' + \n",
        "             'raw/master/Tutorials/source_files_aug2/plotdata.xlsx')"
      ],
      "execution_count": null,
      "outputs": []
    },
    {
      "cell_type": "markdown",
      "metadata": {
        "id": "0yl_Jn7yE1SL",
        "colab_type": "text"
      },
      "source": [
        "# Argument Data Types and Error Checks\n",
        "\n",
        "\n",
        "---\n",
        "To prevent misuse, Python allows you to specify the data type of each input argument. During <br> the function call, Python provides hints to the user, on the data type of each argument. \n"
      ]
    },
    {
      "cell_type": "markdown",
      "metadata": {
        "id": "_ndKJaO2VknR",
        "colab_type": "text"
      },
      "source": [
        "Let's write a function that calculates and returns the age of a person in terms years, months, and days."
      ]
    },
    {
      "cell_type": "code",
      "metadata": {
        "id": "wtaRQc7V41It",
        "colab_type": "code",
        "colab": {}
      },
      "source": [
        "# import modules responsible of date/time calculations in python\n",
        "\n",
        "from datetime import datetime\n",
        "from dateutil import relativedelta\n",
        "\n",
        "def age_calculator(name: str, birth_year: int, birth_month: int, birth_day: int):\n",
        "   \n",
        "    today = datetime.today() # get today's date\n",
        "    \n",
        "    # convert dob to same format as today (datetime.datetime object)\n",
        "\n",
        "    dob = str(birth_year) + str(birth_month) + str(birth_day) # convert dob to string\n",
        "    dob = datetime.strptime(dob, '%Y%m%d')  # convert string to datetime.datetime object\n",
        "    \n",
        "    # compute age \n",
        " \n",
        "    age = relativedelta.relativedelta(today, dob) \n",
        "    \n",
        "    num_year = age.years # number of calendar years since person was born\n",
        "    num_month = age.months # number of calendar months since last birthday\n",
        "    num_day = age.days  # number of days since last calendar month after birthday\n",
        "\n",
        "    print('{}, you are {} years, {} months and {} days old.'.format(name,\n",
        "                                                                    num_year, num_month, num_day))\n",
        "    \n",
        "    return num_year, num_month, num_day"
      ],
      "execution_count": null,
      "outputs": []
    },
    {
      "cell_type": "markdown",
      "metadata": {
        "id": "Wrx92uqzUNZh",
        "colab_type": "text"
      },
      "source": [
        "Run the function for the scenarios stated below:\n",
        "<br>\n",
        "\n",
        "\n",
        "1.   A child, Musa, born on 7 - 10 - 2018\n",
        "2.   A dog born, Tiger, born on 28 - 02 - 2020\n",
        "\n"
      ]
    },
    {
      "cell_type": "code",
      "metadata": {
        "id": "65b5xZm0VDB1",
        "colab_type": "code",
        "colab": {}
      },
      "source": [
        "# A child, Musa, born on 7 - 10 - 2018\n",
        "\n",
        "year, month, day = age_calculator(name = 'Musa', birth_year = 2019, birth_month = 10, birth_day = 7)"
      ],
      "execution_count": null,
      "outputs": []
    },
    {
      "cell_type": "code",
      "metadata": {
        "id": "aIc1o4Y3UK6i",
        "colab_type": "code",
        "colab": {}
      },
      "source": [
        "# A dog born, Tiger, born on 29 - 02 - 2019\n",
        "\n",
        "year, month, day = age_calculator(name = 'Tiger', birth_year = 2020.6,\n",
        "                                  birth_month = 2, birth_day = 28)"
      ],
      "execution_count": null,
      "outputs": []
    },
    {
      "cell_type": "markdown",
      "metadata": {
        "id": "5OWZD2d1WZZ9",
        "colab_type": "text"
      },
      "source": [
        "Now, change the dates to floats and run the examples again. What do you notice? \n",
        "<br>\n",
        "<br>\n",
        "To address this, we should introduce some error checks in the function."
      ]
    },
    {
      "cell_type": "code",
      "metadata": {
        "colab_type": "code",
        "id": "Jlz3sIBIXnuT",
        "colab": {}
      },
      "source": [
        "\n",
        "def age_calculator(name: str, birth_year : int, birth_month: int, birth_day: int):\n",
        "\n",
        "    # initial error check\n",
        "\n",
        "    if type(name) != str:\n",
        "\n",
        "       print('The argument, name, should be a string!')\n",
        "       return None, None, None \n",
        "\n",
        "    if type(birth_year) != int or birth_year < 0:\n",
        " \n",
        "       print('The argument, birth_year, should be a positive integer!')\n",
        "       return None, None, None \n",
        "    \n",
        "    if type(birth_month) != int or birth_month < 0 or birth_month > 12:\n",
        " \n",
        "       print('The argument, birth_month, should be a positive integer between 1 and 12!')\n",
        "       return None, None, None \n",
        "    \n",
        "    if type(birth_day) != int or birth_day < 0 or birth_day > 31:\n",
        " \n",
        "       print('The argument, birth_day, should be a positive integer between 1 and 31!')\n",
        "       return None, None, None \n",
        "    \n",
        "    # get today's date\n",
        "\n",
        "    today = datetime.today() \n",
        "    \n",
        "    # convert dob to same format as today (datetime.datetime object)\n",
        "\n",
        "    dob = str(birth_year) + str(birth_month) + str(birth_day) # convert dob to string\n",
        "\n",
        "    # second error check\n",
        "\n",
        "    try: \n",
        "\n",
        "       dob = datetime.strptime(dob, '%Y%m%d')  # convert string to datetime.datetime object\n",
        "\n",
        "    except:\n",
        "      \n",
        "      # statement to execute if there is an error\n",
        "\n",
        "      print('Invalid date of birth!')\n",
        "      return None, None, None \n",
        "\n",
        "    # third error check \n",
        "\n",
        "    if dob > today: # check if dob is in the future\n",
        "\n",
        "       print('Date of birth cannot be in the future!')\n",
        "       return None, None, None \n",
        "    \n",
        "    # compute age \n",
        " \n",
        "    age = relativedelta.relativedelta(today, dob) \n",
        "    \n",
        "    num_year = age.years # number of calendar years since person was born\n",
        "    num_month = age.months # number of calendar months since last birthday\n",
        "    num_day = age.days  # number of days since last calendar month after birthday\n",
        "\n",
        "    print('{}, you are {} years, {} months and {} days old.'.format(name, num_year,\n",
        "                                                                    num_month, num_day))\n",
        "    \n",
        "    return num_year, num_month, num_day"
      ],
      "execution_count": null,
      "outputs": []
    },
    {
      "cell_type": "markdown",
      "metadata": {
        "id": "LKB1CX2Xe42N",
        "colab_type": "text"
      },
      "source": [
        "Run the function again but this time with invalid arguments."
      ]
    },
    {
      "cell_type": "code",
      "metadata": {
        "colab_type": "code",
        "id": "b5iLU4A0YOhM",
        "colab": {}
      },
      "source": [
        "year, month, day = age_calculator(name = 'House', birth_year = 2020, birth_month = 6, birth_day = 31)"
      ],
      "execution_count": null,
      "outputs": []
    },
    {
      "cell_type": "markdown",
      "metadata": {
        "id": "-VFev5z3gVYh",
        "colab_type": "text"
      },
      "source": [
        "In the previous function calls, we unpacked the output arguments of the function directly. This, however, doesn't need to be the case - you could assing the outputs (which are encased in a tuple) to a single variable, from which individual outputs could be accessed via slicing. "
      ]
    },
    {
      "cell_type": "code",
      "metadata": {
        "colab_type": "code",
        "id": "xicWQ62FgYUt",
        "colab": {}
      },
      "source": [
        "age = age_calculator(name = 'Musa', birth_year = 2020, birth_month = 6, birth_day = 30)\n",
        "num_year = age[0] # number of calendar years since birth\n",
        "num_month = age[1]  #  number of calendar months since last birthday\n",
        "num_day = age[2]  #  number of days since last calendar month birthday\n",
        "print(num_year, num_month, num_day)"
      ],
      "execution_count": null,
      "outputs": []
    },
    {
      "cell_type": "markdown",
      "metadata": {
        "id": "7_T32nOTH2At",
        "colab_type": "text"
      },
      "source": [
        "# Reading and Writing to Excel Files\n",
        "\n",
        "\n",
        "---\n",
        "\n"
      ]
    },
    {
      "cell_type": "markdown",
      "metadata": {
        "id": "X6ijMmX_lK_X",
        "colab_type": "text"
      },
      "source": [
        "\n",
        "Let's write a function to calculate the ages (in years, months, and days) of a group of people whose dates of birth are contained in sheet **DOB** of the excel spreadsheet [plotdata.xlsx](https://github.com/HGeorgeWilliams/We-Yone-Python-Club/tree/master/Tutorials/source_files_aug2). The calculated ages should be returned as a table (with headings **Name**, **Years**, **Months**, and **Days**) in a separate sheet titled, **Age_Summary**. If you ran the first two cells of this notebook, you have already downloaded this file.\n",
        "<br>\n",
        "<br>"
      ]
    },
    {
      "cell_type": "code",
      "metadata": {
        "id": "8xvoB7-hmxLP",
        "colab_type": "code",
        "colab": {}
      },
      "source": [
        "import pandas as pd \n",
        "\n",
        "def compute_ages(input_file_path: str, output_file_path: str):\n",
        "\n",
        "  # import data\n",
        "\n",
        "  data = pd.read_excel(input_file_path, sheet_name = 'DOB') # import data\n",
        "\n",
        "  # get today's date\n",
        "\n",
        "  today = datetime.today() \n",
        "\n",
        "  year = [] # list to hold years for each row\n",
        "  month = [] # list to hold months for each row\n",
        "  day =[] # list to hold days for each row\n",
        "\n",
        "  for i in data.index:\n",
        "\n",
        "    dob = data.loc[i,'Date of Birth'] # DOB for row i\n",
        "    age = relativedelta.relativedelta(today, dob) # get date of birth\n",
        "    year.append(age.years) # save years\n",
        "    month.append(age.months) # save months\n",
        "    day.append(age.days) # save days\n",
        "  \n",
        "  # create output dictionary\n",
        "\n",
        "  output_dict = {'Name': data['Name'], 'Years': year, 'Months': month, 'Days': day}\n",
        "  \n",
        "  # create output table \n",
        "\n",
        "  output_table = pd.DataFrame(output_dict)\n",
        "\n",
        "  # export table to excel\n",
        "\n",
        "  if os.path.exists(output_file_path): # check whether file exists\n",
        "     \n",
        "     with pd.ExcelWriter(output_file_path, mode = 'a') as excel_writer: # establish link with excel\n",
        "         \n",
        "         output_table.to_excel(excel_writer, sheet_name = 'Age_Summary', index = False)# write data\n",
        "  \n",
        "  else:\n",
        "      \n",
        "     with pd.ExcelWriter(output_file_path, mode = 'w') as excel_writer: # establish link with excel\n",
        "         \n",
        "         output_table.to_excel(excel_writer, sheet_name = 'Age_Summary', index = False)# write data\n",
        "  \n",
        "  return output_table"
      ],
      "execution_count": null,
      "outputs": []
    },
    {
      "cell_type": "markdown",
      "metadata": {
        "id": "-QYcjRCCxIPp",
        "colab_type": "text"
      },
      "source": [
        "Now call the function. Since, our working directory is set to the directory containing the spreadsheet <br> file in question, there is no need to provide the full path to the file during the function call. "
      ]
    },
    {
      "cell_type": "code",
      "metadata": {
        "id": "c2kFO81B45a0",
        "colab_type": "code",
        "colab": {}
      },
      "source": [
        "# save to new workbook\n",
        "\n",
        "input_file = 'plotdata.xlsx'\n",
        "output_file = 'Result.xlsx'\n",
        "output_table = compute_ages(input_file, output_file)\n",
        "print(output_table)"
      ],
      "execution_count": null,
      "outputs": []
    },
    {
      "cell_type": "code",
      "metadata": {
        "colab_type": "code",
        "id": "OAOfCSi_9bX2",
        "colab": {}
      },
      "source": [
        "# save to input workbook\n",
        "\n",
        "input_file = 'plotdata.xlsx'\n",
        "output_file = input_file\n",
        "output_table = compute_ages(output_file)\n",
        "print(output_table)"
      ],
      "execution_count": null,
      "outputs": []
    },
    {
      "cell_type": "markdown",
      "metadata": {
        "id": "WM0NU1qOIJ7V",
        "colab_type": "text"
      },
      "source": [
        "# Default Arguments\n",
        "\n",
        "\n",
        "---\n",
        "\n",
        "It is possible to specify a default value for 1 or more of a function's input arguments. Python <br> automatically uses this default value if a value is not supplied for the argument, during a function call."
      ]
    },
    {
      "cell_type": "code",
      "metadata": {
        "id": "gvsjPHAuTmyY",
        "colab_type": "code",
        "colab": {}
      },
      "source": [
        "# function that greets someone with a specific message\n",
        "\n",
        "def greeting(name:str = 'human', message:str = \"what's up?\"):\n",
        "  print('Hi {}, {}'.format(name, message))"
      ],
      "execution_count": null,
      "outputs": []
    },
    {
      "cell_type": "code",
      "metadata": {
        "id": "WVheLC9xUA_V",
        "colab_type": "code",
        "colab": {}
      },
      "source": [
        "# call function with default values\n",
        "\n",
        "greeting()"
      ],
      "execution_count": null,
      "outputs": []
    },
    {
      "cell_type": "code",
      "metadata": {
        "colab_type": "code",
        "id": "LpX_PKThVDcZ",
        "colab": {}
      },
      "source": [
        "# call function with default greeting message\n",
        "\n",
        "greeting(name = 'Hindolo')"
      ],
      "execution_count": null,
      "outputs": []
    },
    {
      "cell_type": "code",
      "metadata": {
        "colab_type": "code",
        "id": "csLOHe9PVKZX",
        "colab": {}
      },
      "source": [
        "# call function with default name\n",
        "\n",
        "greeting(message = 'how are you?')"
      ],
      "execution_count": null,
      "outputs": []
    },
    {
      "cell_type": "code",
      "metadata": {
        "colab_type": "code",
        "id": "Jan1C2laVcIR",
        "colab": {}
      },
      "source": [
        "# call function with non-default arguments\n",
        "\n",
        "greeting(message = 'how are you?', name = 'Paul')"
      ],
      "execution_count": null,
      "outputs": []
    },
    {
      "cell_type": "markdown",
      "metadata": {
        "id": "1QhCNvNtV4nA",
        "colab_type": "text"
      },
      "source": [
        "You can define a function with a mix of arguments with and without default values. \n",
        "<br>\n",
        "<br>\n",
        "For example, let us write a function to calculate the total resistance and current flowing <br> in a parallel circuit of three resistors each with a minimum resistance of $1\\,\\Omega$. \n",
        "<br>\n",
        "<br>\n",
        "**Hint**: The reciprocal of the total resistance is the sum of the reciprocals of the resistances <br> of the individual resistors and the total current is the ratio of the total voltage to the total resistance. "
      ]
    },
    {
      "cell_type": "code",
      "metadata": {
        "id": "wj5ziAyYZeKx",
        "colab_type": "code",
        "colab": {}
      },
      "source": [
        "def analyse_parallel_circuit(voltage: float, R1: float = 1, R2: float = 1, R3: float = 1):\n",
        "\n",
        "   # error check for voltage value\n",
        "\n",
        "   if type(voltage) == str:\n",
        "\n",
        "     print('The circuit voltage should be numeric!')\n",
        "     return None, None\n",
        "   \n",
        "   # error check for resistances\n",
        "\n",
        "   resistors = ['R1', 'R2', 'R3']\n",
        "   resistances = [R1, R2, R3]\n",
        "   total_resistance_reciprocal = 0 # reciprocal of total resistance\n",
        "   \n",
        "   for index, value in enumerate(resistances): # loop over resistances\n",
        "       \n",
        "       if type(value) == str or value < 1:\n",
        "\n",
        "          print('{} should be numeric and not less than 1!'.format(resistors[index]))\n",
        "          return None, None\n",
        "\n",
        "       else:\n",
        "\n",
        "         total_resistance_reciprocal += 1/value # upate reciprocal of total resistance\n",
        "   \n",
        "   total_resistance = 1/total_resistance_reciprocal # get total resistance\n",
        "   total_current = voltage/total_resistance # get total current \n",
        "\n",
        "   return round(total_resistance, 2), round(total_current, 2) # reurn current and voltage to 2 dp "
      ],
      "execution_count": null,
      "outputs": []
    },
    {
      "cell_type": "markdown",
      "metadata": {
        "id": "mQb1BQ9-j7E6",
        "colab_type": "text"
      },
      "source": [
        "In the function above, the argument `voltage` is called a **positional argument**, and it is always required. The function, <br> however, can be called by providing the value of only this argument, since the other arguments have default values.  "
      ]
    },
    {
      "cell_type": "code",
      "metadata": {
        "id": "Sq2NJ8wbkQJt",
        "colab_type": "code",
        "colab": {}
      },
      "source": [
        "# call function without providing resistances\n",
        "\n",
        "R, I = analyse_parallel_circuit(voltage = 10) # call function\n",
        "print('Total Resistance = {} Ohms'.format(R)) # print total resistance\n",
        "print('Total Current = {} Amps'.format(I)) # print total current"
      ],
      "execution_count": null,
      "outputs": []
    },
    {
      "cell_type": "markdown",
      "metadata": {
        "id": "Z6ZpvoFamBKI",
        "colab_type": "text"
      },
      "source": [
        "An error is encountered, if a value is not provided for the voltage argument."
      ]
    },
    {
      "cell_type": "code",
      "metadata": {
        "colab_type": "code",
        "id": "jDXZX5jhlMaD",
        "colab": {}
      },
      "source": [
        "# call function without providing a value for the voltage argument\n",
        "\n",
        "R, I = analyse_parallel_circuit(R1 = 4, R2 = 1, R3 = 5) # call function\n",
        "print('Total Resistance = {} Ohms'.format(R)) # print total resistance\n",
        "print('Total Current = {} Amps'.format(I)) # print total current"
      ],
      "execution_count": null,
      "outputs": []
    },
    {
      "cell_type": "markdown",
      "metadata": {
        "id": "wqpOfsbznasc",
        "colab_type": "text"
      },
      "source": [
        "This can be corrected by providing a value for the voltage argument."
      ]
    },
    {
      "cell_type": "code",
      "metadata": {
        "colab_type": "code",
        "id": "NRnBzjYFpGmH",
        "colab": {}
      },
      "source": [
        "# call function without providing a value for the voltage argument\n",
        "\n",
        "R, I = analyse_parallel_circuit(R1 = 4, R2 = 1, R3 = 5, voltage = 1) # call function\n",
        "print('Total Resistance = {} Ohms'.format(R)) # print total resistance\n",
        "print('Total Current = {} Amps'.format(I)) # print total current"
      ],
      "execution_count": null,
      "outputs": []
    },
    {
      "cell_type": "markdown",
      "metadata": {
        "id": "ImbItvZSqBz9",
        "colab_type": "text"
      },
      "source": [
        "Test whether the function is indeed foolproof by deliberately calling it with invalid arguments. "
      ]
    },
    {
      "cell_type": "code",
      "metadata": {
        "colab_type": "code",
        "id": "KgZD6hjPrvLb",
        "colab": {}
      },
      "source": [
        "# call function with unsupported argument (R in this case)\n",
        "\n",
        "R, I = analyse_parallel_circuit(R = 4, R2 = 1, R3 = 5, voltage = 1) # call function\n",
        "print('Total Resistance = {} Ohms'.format(R)) # print total resistance\n",
        "print('Total Current = {} Amps'.format(I)) # print total current"
      ],
      "execution_count": null,
      "outputs": []
    },
    {
      "cell_type": "markdown",
      "metadata": {
        "id": "5vbB8AlbsAZ9",
        "colab_type": "text"
      },
      "source": [
        "Running the above cell will produce the following error:\n",
        "```\n",
        "analyse_parallel_circuit() got an unexpected keyword argument 'R'\n",
        "```\n",
        "This is due to the fact that `R` is not one of the function's input arguments.\n"
      ]
    },
    {
      "cell_type": "code",
      "metadata": {
        "colab_type": "code",
        "id": "OVzcqA2Ss5TE",
        "colab": {}
      },
      "source": [
        "# call function with R2 less than 1\n",
        "\n",
        "R, I = analyse_parallel_circuit(R1 = 4, R2 = 0.5, R3 = 5, voltage = 1) # call function\n",
        "print('Total Resistance = {} Ohms'.format(R)) # print total resistance\n",
        "print('Total Current = {} Amps'.format(I)) # print total current"
      ],
      "execution_count": null,
      "outputs": []
    },
    {
      "cell_type": "markdown",
      "metadata": {
        "id": "ra0PAlJCt1K2",
        "colab_type": "text"
      },
      "source": [
        "**Note:** When defining a function with both positional and default arguments, positional arguments should come before the default arguments. "
      ]
    }
  ]
}