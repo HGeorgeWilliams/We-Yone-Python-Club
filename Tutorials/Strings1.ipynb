{
  "nbformat": 4,
  "nbformat_minor": 0,
  "metadata": {
    "colab": {
      "name": "Strings1.ipynb",
      "provenance": [],
      "collapsed_sections": [],
      "authorship_tag": "ABX9TyMiIEDu0e9UuGMVt7glu7cb",
      "include_colab_link": true
    },
    "kernelspec": {
      "name": "python3",
      "display_name": "Python 3"
    }
  },
  "cells": [
    {
      "cell_type": "markdown",
      "metadata": {
        "id": "view-in-github",
        "colab_type": "text"
      },
      "source": [
        "<a href=\"https://colab.research.google.com/github/HGeorgeWilliams/We-Yone-Python-Club/blob/master/Tutorials/Strings1.ipynb\" target=\"_parent\"><img src=\"https://colab.research.google.com/assets/colab-badge.svg\" alt=\"Open In Colab\"/></a>"
      ]
    },
    {
      "cell_type": "markdown",
      "metadata": {
        "id": "c-Y_ZNW9h6YT",
        "colab_type": "text"
      },
      "source": [
        "# **Python 101: Basics of Strings**\n",
        "\n",
        "\n"
      ]
    },
    {
      "cell_type": "markdown",
      "metadata": {
        "id": "0_d7c8ObIhrj",
        "colab_type": "text"
      },
      "source": [
        "# Summary\n",
        "\n",
        "\n",
        "---\n",
        "\n",
        "\n",
        "This tutorial introduces the absolute beginner to the Python programming language. It gets you started with strings and `print()` statements and includes sample problems, as well as exercises for you to try at home. This tutorial only covers the basics of strings albeit to the depth required for most string operations in Python. For advanced use, see the tutorial **String2** available after 20th June, 2020. <br>\n",
        "<br>\n",
        "A video of this tutorial is available on my YouTube channel.\n",
        "<br>\n",
        "<br>\n",
        "See my [GitHub page](https://github.com/HGeorgeWilliams/We-Yone-Python-Club) for more tutorials and resources in this series. \n"
      ]
    },
    {
      "cell_type": "markdown",
      "metadata": {
        "id": "fbfDMgADk-sj",
        "colab_type": "text"
      },
      "source": [
        "# Strings\n",
        "\n",
        "\n",
        "---\n",
        "\n",
        "\n",
        "A string is a sequence of characters analogous to normal text. It is created by enclosing the sequence of characters in single quotes (`'...'`) or double quotes (`\"...\"`).  "
      ]
    },
    {
      "cell_type": "code",
      "metadata": {
        "id": "WzPQ94dwnw-2",
        "colab_type": "code",
        "colab": {}
      },
      "source": [
        "'Python'"
      ],
      "execution_count": 0,
      "outputs": []
    },
    {
      "cell_type": "code",
      "metadata": {
        "id": "086Pr0RpxsL7",
        "colab_type": "code",
        "colab": {}
      },
      "source": [
        "\"Python\""
      ],
      "execution_count": 0,
      "outputs": []
    },
    {
      "cell_type": "markdown",
      "metadata": {
        "id": "HbCqLkhNx0Xn",
        "colab_type": "text"
      },
      "source": [
        "To get rid of the quotes, use the `print( )` function."
      ]
    },
    {
      "cell_type": "code",
      "metadata": {
        "id": "_ck5PEG9xzJF",
        "colab_type": "code",
        "colab": {}
      },
      "source": [
        "print('Python')"
      ],
      "execution_count": 0,
      "outputs": []
    },
    {
      "cell_type": "markdown",
      "metadata": {
        "id": "ljpZg9mqyNz1",
        "colab_type": "text"
      },
      "source": [
        "You can also print numbers but you do not need quotes for this."
      ]
    },
    {
      "cell_type": "code",
      "metadata": {
        "id": "UMj-GhkCyY8S",
        "colab_type": "code",
        "colab": {}
      },
      "source": [
        "print(6)"
      ],
      "execution_count": 0,
      "outputs": []
    },
    {
      "cell_type": "markdown",
      "metadata": {
        "id": "keRn9F0CyeUU",
        "colab_type": "text"
      },
      "source": [
        "Strings can be assigned to variables. "
      ]
    },
    {
      "cell_type": "code",
      "metadata": {
        "id": "7M_dugDmysNY",
        "colab_type": "code",
        "colab": {}
      },
      "source": [
        "a = 'Hello World'\n",
        "print(a)"
      ],
      "execution_count": 0,
      "outputs": []
    },
    {
      "cell_type": "markdown",
      "metadata": {
        "id": "UBE5BPRi0YRu",
        "colab_type": "text"
      },
      "source": [
        "Verify that `a` is indeed a string"
      ]
    },
    {
      "cell_type": "code",
      "metadata": {
        "id": "Yx_p7k6T0fTx",
        "colab_type": "code",
        "colab": {}
      },
      "source": [
        "print(type(a))"
      ],
      "execution_count": 0,
      "outputs": []
    },
    {
      "cell_type": "markdown",
      "metadata": {
        "id": "xe6F9rsVzBtp",
        "colab_type": "text"
      },
      "source": [
        "Note: When printing variables, they do not have to be enclosed in quotes!"
      ]
    },
    {
      "cell_type": "code",
      "metadata": {
        "id": "hvc0Ufq8zpk2",
        "colab_type": "code",
        "colab": {}
      },
      "source": [
        "b = 4\n",
        "print(b)"
      ],
      "execution_count": 0,
      "outputs": []
    },
    {
      "cell_type": "markdown",
      "metadata": {
        "id": "yZoUkMVauxP1",
        "colab_type": "text"
      },
      "source": [
        "Strings can be concatenated (joining multiple strings). "
      ]
    },
    {
      "cell_type": "code",
      "metadata": {
        "id": "-JcBuxZh1g6C",
        "colab_type": "code",
        "colab": {}
      },
      "source": [
        "string = 'I love ' + 'Rice'\n",
        "print(string)"
      ],
      "execution_count": 0,
      "outputs": []
    },
    {
      "cell_type": "markdown",
      "metadata": {
        "id": "371yAAuR2BdX",
        "colab_type": "text"
      },
      "source": [
        "The same outcome can be realised by assigning the two strings to separate variables and concatenating the variables."
      ]
    },
    {
      "cell_type": "code",
      "metadata": {
        "id": "_gdJXKbZ1_JJ",
        "colab_type": "code",
        "colab": {}
      },
      "source": [
        "string1 = 'I love '\n",
        "string2 = 'Rice'\n",
        "new_string = string1+string2\n",
        "print(new_string)"
      ],
      "execution_count": 0,
      "outputs": []
    },
    {
      "cell_type": "markdown",
      "metadata": {
        "id": "_qlNIU-c2s_z",
        "colab_type": "text"
      },
      "source": [
        "You can also concatenate strings without the `+` sign.\n",
        "\n",
        "\n"
      ]
    },
    {
      "cell_type": "code",
      "metadata": {
        "id": "dEibk7UI26rm",
        "colab_type": "code",
        "colab": {}
      },
      "source": [
        "string3 = 'I love ' 'Rice'\n",
        "print(string3)"
      ],
      "execution_count": 0,
      "outputs": []
    },
    {
      "cell_type": "markdown",
      "metadata": {
        "id": "FeZbDS2l3j0D",
        "colab_type": "text"
      },
      "source": [
        "But you cannot do that with variables!"
      ]
    },
    {
      "cell_type": "code",
      "metadata": {
        "id": "KttqCKWs3uhe",
        "colab_type": "code",
        "colab": {}
      },
      "source": [
        "string4 = string1 string2"
      ],
      "execution_count": 0,
      "outputs": []
    },
    {
      "cell_type": "markdown",
      "metadata": {
        "id": "8_7gJbLb62LR",
        "colab_type": "text"
      },
      "source": [
        "You can concatenate strings and numbers. "
      ]
    },
    {
      "cell_type": "code",
      "metadata": {
        "id": "af9DAmHr7LZg",
        "colab_type": "code",
        "colab": {}
      },
      "source": [
        "c = a + b\n",
        "print(c)"
      ],
      "execution_count": 0,
      "outputs": []
    },
    {
      "cell_type": "markdown",
      "metadata": {
        "id": "D0eIwi_y7dwW",
        "colab_type": "text"
      },
      "source": [
        "Now convert `b` to string first and see what happens."
      ]
    },
    {
      "cell_type": "code",
      "metadata": {
        "id": "JHnvg_ji7Qr9",
        "colab_type": "code",
        "colab": {}
      },
      "source": [
        "c = a + str(b)\n",
        "print(c)"
      ],
      "execution_count": 0,
      "outputs": []
    },
    {
      "cell_type": "markdown",
      "metadata": {
        "id": "xm1tflV08gZl",
        "colab_type": "text"
      },
      "source": [
        "Strings and numbers can also be printed without converting the numbers to string first, by using placeholders and Python's `format()` function. "
      ]
    },
    {
      "cell_type": "markdown",
      "metadata": {
        "id": "rxW3LU5l_aT9",
        "colab_type": "text"
      },
      "source": [
        "Assuming we want to write a syntax for printing the statement: **`I have 2 daughters who are 2 and 10 years old`** in such a way that the number and ages of my daughters can be changed without re-writing the entire sentence. <br> \n"
      ]
    },
    {
      "cell_type": "markdown",
      "metadata": {
        "id": "zZbzTn-0DgTy",
        "colab_type": "text"
      },
      "source": [
        "For this, we replace the numbers in question with placeholders and use `format ()` to specify their values. \n"
      ]
    },
    {
      "cell_type": "code",
      "metadata": {
        "id": "g9BY4VGp_Y_F",
        "colab_type": "code",
        "colab": {}
      },
      "source": [
        "text='I have {} daughters who are {} and {} years old.'\n",
        "print(text.format(2,2,10))"
      ],
      "execution_count": 0,
      "outputs": []
    },
    {
      "cell_type": "markdown",
      "metadata": {
        "id": "4EdaQn2tCUhk",
        "colab_type": "text"
      },
      "source": [
        "Variables can also be used to specify these values."
      ]
    },
    {
      "cell_type": "code",
      "metadata": {
        "id": "qGfzIPwNCnIz",
        "colab_type": "code",
        "colab": {}
      },
      "source": [
        "val1 = 2\n",
        "val2 = 2\n",
        "val3 = 10\n",
        "print(text.format(val1,val2,val3))"
      ],
      "execution_count": 0,
      "outputs": []
    },
    {
      "cell_type": "markdown",
      "metadata": {
        "id": "YWFIESoxGjP_",
        "colab_type": "text"
      },
      "source": [
        "Strings are also arrays; therefore, you can access its individual elements (*slicing*). When accessing elements, it is important to note that Python indexing starts from $0$. This means, if the string is made up of 5 characters, the first character has an index of $0$ and the last, an index of $4$."
      ]
    },
    {
      "cell_type": "code",
      "metadata": {
        "id": "5k2jHg_QG4Sf",
        "colab_type": "code",
        "colab": {}
      },
      "source": [
        "sample_string='We Yone Python Club' \n",
        "l=len(sample_string) # number of characters in string including white space\n",
        "print(l) # print number of characters\n",
        "char1=sample_string[0] # print first character (take note of the square bracket!)\n",
        "print(char1) "
      ],
      "execution_count": 0,
      "outputs": []
    },
    {
      "cell_type": "markdown",
      "metadata": {
        "id": "WfHK9stQImXQ",
        "colab_type": "text"
      },
      "source": [
        "In the code above, we could tell Colab to print the number of characters in the string and its first character using one `print` statement.\n",
        "\n"
      ]
    },
    {
      "cell_type": "code",
      "metadata": {
        "id": "Dbk87YvsHTL2",
        "colab_type": "code",
        "colab": {}
      },
      "source": [
        "print('Number of characters = {} and character 1 = {}.'.format(l,char1))"
      ],
      "execution_count": 0,
      "outputs": []
    },
    {
      "cell_type": "markdown",
      "metadata": {
        "id": "krQlJFQKL9Xz",
        "colab_type": "text"
      },
      "source": [
        "Now, let's say we want to print the result in the following format:<br>\n",
        "> `Number of characters: 19` <br>\n",
        "> `Character 1: W` <br> \n",
        "\n",
        "We use `\\n` to instruct Python to start a next sequence of characters on a new line.\n"
      ]
    },
    {
      "cell_type": "code",
      "metadata": {
        "id": "VEE5aJKxLfAN",
        "colab_type": "code",
        "colab": {}
      },
      "source": [
        "print('Number of characters: {}\\nCharacter 1: {}'.format(l,char1))"
      ],
      "execution_count": 0,
      "outputs": []
    },
    {
      "cell_type": "markdown",
      "metadata": {
        "id": "_ch0-YivQL5Y",
        "colab_type": "text"
      },
      "source": [
        "Let's further assume we want to print the above, such that the `:` symbols in the two statements are vertically aligned. "
      ]
    },
    {
      "cell_type": "code",
      "metadata": {
        "id": "atnzd-lROqAP",
        "colab_type": "code",
        "colab": {}
      },
      "source": [
        "L1 = len('Number of characters:') \n",
        "L2 = len('Character 1:')\n",
        "L = L1-L2 # length of white space required\n",
        "print('Number of characters: {}\\nCharacter 1{}: {}'.format(l,L*' ',char1))"
      ],
      "execution_count": 0,
      "outputs": []
    },
    {
      "cell_type": "markdown",
      "metadata": {
        "id": "2QReaJw6R9cw",
        "colab_type": "text"
      },
      "source": [
        "Given a range of indices, you can extract the characters in that range. "
      ]
    },
    {
      "cell_type": "code",
      "metadata": {
        "id": "m5QwWeEvR85w",
        "colab_type": "code",
        "colab": {}
      },
      "source": [
        "sample_string[4:8] # characters from index 4 (included) to 8 (excluded). \n",
        "# This is equivalent to characters 5 to 8"
      ],
      "execution_count": 0,
      "outputs": []
    },
    {
      "cell_type": "code",
      "metadata": {
        "id": "vv5_CjbgT5Kq",
        "colab_type": "code",
        "colab": {}
      },
      "source": [
        "sample_string[:3] # characters from index 0 (included) to 3 (excluded). \n",
        "# This is equivalent to characters 1 to 3"
      ],
      "execution_count": 0,
      "outputs": []
    },
    {
      "cell_type": "code",
      "metadata": {
        "id": "GPYpnogRXhQe",
        "colab_type": "code",
        "colab": {}
      },
      "source": [
        "sample_string[14:] # characters from index 14 (included) to the end. \n",
        "# This is equivalent to characters 15 to the last."
      ],
      "execution_count": 0,
      "outputs": []
    },
    {
      "cell_type": "markdown",
      "metadata": {
        "id": "YFv7RGalPMS2",
        "colab_type": "text"
      },
      "source": [
        " A rule-of-thumb can be deduced from the preceding three examples:\n",
        "\n",
        "> If $l$ is the starting index of the range and $u$ the final index, the sliced string contains the $\\left(l+1\\right)^{th}$ to the $u^{th}$ characters. Conversely, if the sliced string should contain the $n^{th}$ to the $m^{th}$ characters, the starting and final indices should be $n-1$ and $m$.\n",
        "\n",
        "\n"
      ]
    },
    {
      "cell_type": "markdown",
      "metadata": {
        "id": "JZGfTSueMWxf",
        "colab_type": "text"
      },
      "source": [
        "You could skip some characters in the range by specifying an interval.\n",
        "\n",
        "\n",
        "\n"
      ]
    },
    {
      "cell_type": "code",
      "metadata": {
        "id": "lMYmVzVtTzKq",
        "colab_type": "code",
        "colab": {}
      },
      "source": [
        "sample_string[14:18:2] # characters from index 14 (included) to index 18 (excluded), at intervals of 2"
      ],
      "execution_count": 0,
      "outputs": []
    },
    {
      "cell_type": "markdown",
      "metadata": {
        "id": "Jq3f5689Ur2L",
        "colab_type": "text"
      },
      "source": [
        "If the entire string is to be sliced, the starting and final indices can be omitted."
      ]
    },
    {
      "cell_type": "code",
      "metadata": {
        "id": "lzpyKj4MXViY",
        "colab_type": "code",
        "colab": {}
      },
      "source": [
        "sample_string[::3] # characters from first to last, at intervals of 3"
      ],
      "execution_count": 0,
      "outputs": []
    },
    {
      "cell_type": "markdown",
      "metadata": {
        "id": "7a2Ehb9vX5Hv",
        "colab_type": "text"
      },
      "source": [
        "Negative indexing is also possible. Counting for negative indexing, however, starts from -1!\n",
        "\n"
      ]
    },
    {
      "cell_type": "code",
      "metadata": {
        "id": "g-RWCp7zX55R",
        "colab_type": "code",
        "colab": {}
      },
      "source": [
        "sample_string[-1] # last element"
      ],
      "execution_count": 0,
      "outputs": []
    },
    {
      "cell_type": "code",
      "metadata": {
        "id": "J8bfqqG7YfgH",
        "colab_type": "code",
        "colab": {}
      },
      "source": [
        "sample_string[-3] # third element from the right"
      ],
      "execution_count": 0,
      "outputs": []
    },
    {
      "cell_type": "code",
      "metadata": {
        "id": "C28kDyDRYspv",
        "colab_type": "code",
        "colab": {}
      },
      "source": [
        "sample_string[-4:] # last 4 elements"
      ],
      "execution_count": 0,
      "outputs": []
    },
    {
      "cell_type": "markdown",
      "metadata": {
        "id": "N_YIadAPL_vp",
        "colab_type": "text"
      },
      "source": [
        "# Strings with Special Characters\n",
        "\n",
        "\n",
        "---\n",
        "\n",
        "Special characters in this case are quotes `'` and backslashes `\\`, as in `DON'T` and `C:\\Tutorials\\notebooks\\Strings`. \n"
      ]
    },
    {
      "cell_type": "markdown",
      "metadata": {
        "id": "fcr_q1f3b_F3",
        "colab_type": "text"
      },
      "source": [
        "There are two ways to handle strings with quotes: "
      ]
    },
    {
      "cell_type": "code",
      "metadata": {
        "id": "CCJF1zoHcz1m",
        "colab_type": "code",
        "colab": {}
      },
      "source": [
        "print(\"DON'T\") # using double instead of single quotes"
      ],
      "execution_count": 0,
      "outputs": []
    },
    {
      "cell_type": "code",
      "metadata": {
        "id": "Ijxrp149dI_N",
        "colab_type": "code",
        "colab": {}
      },
      "source": [
        "print('DON\\'T') # using single quotes and a backslash \n",
        "#(this is called escaping the special character)"
      ],
      "execution_count": 0,
      "outputs": []
    },
    {
      "cell_type": "markdown",
      "metadata": {
        "id": "irfg6GwRigyE",
        "colab_type": "text"
      },
      "source": [
        "Strings with backslashes are specified as *raw strings* by adding an `r` before the first quote. With this, Python displays the string as it is."
      ]
    },
    {
      "cell_type": "code",
      "metadata": {
        "id": "uQSUi0YLiTB8",
        "colab_type": "code",
        "colab": {}
      },
      "source": [
        "print('C:\\Tutorials\\notebooks\\Strings') # without raw string (\\n interpreted as new line)"
      ],
      "execution_count": 0,
      "outputs": []
    },
    {
      "cell_type": "code",
      "metadata": {
        "id": "NYqsHjHqkD5B",
        "colab_type": "code",
        "colab": {}
      },
      "source": [
        "print(r'C:\\Tutorials\\notebooks\\Strings') # with raw string (\\n not interpreted as new line)"
      ],
      "execution_count": 0,
      "outputs": []
    },
    {
      "cell_type": "markdown",
      "metadata": {
        "id": "_ZZDcM4ZmIFs",
        "colab_type": "text"
      },
      "source": [
        "# Examples\n",
        "Simple problems based on the concepts covered in this tutorial.\n",
        "\n",
        "---\n",
        "\n"
      ]
    },
    {
      "cell_type": "markdown",
      "metadata": {
        "id": "dBqXsMNCH22K",
        "colab_type": "text"
      },
      "source": [
        "> 1. Write a program to get a single string from two strings such that: \n",
        ">>>\n",
        "(a).   the new string consists of two substrings separated by a string of 8 alternating `+` and `-` characters; <br>\n",
        "(b).   the first substring of the new string is the second string with its first two elements replaced with the last two elements of the first string;<br>\n",
        "(c).   the second substring of the new string is the first string with its last two elements replaced with the first two elements of the second string; <br>\n",
        "\n",
        "> Sample: `'abc'` and `'123'` <br>\n",
        "Result: `'bc3+$+$+$+$23c'` <br>"
      ]
    },
    {
      "cell_type": "code",
      "metadata": {
        "id": "IxI0YZ5_tTM-",
        "colab_type": "code",
        "colab": {}
      },
      "source": [
        "# define and print first and second strings\n",
        "\n",
        "first_string = 'Hindolo' # first string\n",
        "print('First String: {}'.format(first_string)) # print\n",
        "\n",
        "second_string = 'Maada' # second string\n",
        "print('Second String: {}'.format(second_string)) # print\n",
        "\n",
        "# create and print the first sub string; which is formed from concatenating\n",
        "# the last two characters of first_string and the third to last character of second_string\n",
        "\n",
        "first_substring = first_string[-2:] + second_string[2:] # create\n",
        "print('First Substring: {}'.format(first_substring)) # print\n",
        "\n",
        "# create and print the second sub string; which is formed from concatenating the first to third to last  \n",
        "# characters of first_string and the first two characters of second_string\n",
        "\n",
        "second_substring = first_string[:-3] + second_string[:2] \n",
        "print('Second Substring: {}'.format(second_substring))\n",
        "\n",
        "# create and print separating character by replicating '+$' four times\n",
        "\n",
        "sep_substring = 4*'+$' \n",
        "print('Separating String: {}'.format(sep_substring))\n",
        "\n",
        "# build new string\n",
        "\n",
        "new_string = first_substring + sep_substring + second_substring\n",
        "\n",
        "# print new string\n",
        "\n",
        "print('New String: {}'.format(new_string))"
      ],
      "execution_count": 0,
      "outputs": []
    },
    {
      "cell_type": "markdown",
      "metadata": {
        "colab_type": "text",
        "id": "dWJXvrL63hi4"
      },
      "source": [
        "> 2. Repeat the preceding example but with the `:` symbol in the printed statements being vertically aligned. "
      ]
    },
    {
      "cell_type": "code",
      "metadata": {
        "colab_type": "code",
        "id": "OdbhBuL87Zsq",
        "colab": {}
      },
      "source": [
        "# derive the new string without printing the substrings.\n",
        "\n",
        "first_string = 'Hindolo' \n",
        "second_string = 'Maada' \n",
        "first_substring = first_string[-2:] + second_string[2:] \n",
        "second_substring = first_string[:-3] + second_string[:2] \n",
        "sep_substring = 4*'+$' \n",
        "new_string = first_substring + sep_substring + second_substring\n",
        "\n",
        "# define title strings\n",
        "\n",
        "s1 = 'First String' # first input string title text\n",
        "s2 = 'Second String' # second string title text\n",
        "s3 = 'First Substring' # first output substring title text \n",
        "s4 = 'Second Substring' # second output substring text \n",
        "s5 = 'Separating String' # separating string title text\n",
        "s6 = 'New String' # output string title text\n",
        "\n",
        "# get the lengths of the title strings\n",
        "\n",
        "l1 = len(s1) # length of s1\n",
        "l2 = len(s2)\n",
        "l3 = len(s3)\n",
        "l4 = len(s4)\n",
        "l5 = len(s5)\n",
        "l6 = len(s6)\n",
        "\n",
        "# get the length of the longest string\n",
        "\n",
        "l_max=max(l1,l2,l3,l4,l5,l6)\n",
        "\n",
        "# print strings\n",
        "\n",
        "print(s1 + (l_max-l1) * ' ' + ': ' + first_string) # print first input string\n",
        "print(s2 + (l_max-l2) * ' ' + ': ' + second_string) # print second input string\n",
        "print(s3 + (l_max-l3) * ' ' + ': ' + first_substring) # print first output sub string\n",
        "print(s4 + (l_max-l4) * ' ' + ': ' + second_substring) # print second output sub string\n",
        "print(s5 + (l_max-l5) * ' ' + ': ' + sep_substring) # print separating string\n",
        "print(s6 + (l_max-l6) * ' ' + ': ' + new_string) # print output string"
      ],
      "execution_count": 0,
      "outputs": []
    },
    {
      "cell_type": "markdown",
      "metadata": {
        "id": "z8LyF54vlktc",
        "colab_type": "text"
      },
      "source": [
        "# Exercises to try at home\n",
        "\n",
        "\n",
        "---\n",
        "1.   Repeat example 1 without using negative indices and `format()`.\n",
        "2.   Repeat example 2 with the additional constraint that the first letters of each of the first and second words in the title texts are aligned.\n",
        "\n",
        ">> *Sample*\n",
        "```\n",
        "First  String   : Hindolo\n",
        "Second String   : Maada\n",
        "First  Substring: loada\n",
        "```\n"
      ]
    }
  ]
}