{
  "nbformat": 4,
  "nbformat_minor": 0,
  "metadata": {
    "colab": {
      "name": "Functions.ipynb",
      "provenance": [],
      "collapsed_sections": [],
      "mount_file_id": "17YXmTHgFK4JvTVPx9Y-O2rs8epJ7afOt",
      "authorship_tag": "ABX9TyNiA6hmVgWsJ43xTDD/jQAr",
      "include_colab_link": true
    },
    "kernelspec": {
      "name": "python3",
      "display_name": "Python 3"
    }
  },
  "cells": [
    {
      "cell_type": "markdown",
      "metadata": {
        "id": "view-in-github",
        "colab_type": "text"
      },
      "source": [
        "<a href=\"https://colab.research.google.com/github/HGeorgeWilliams/We-Yone-Python-Club/blob/master/Tutorials/Functions.ipynb\" target=\"_parent\"><img src=\"https://colab.research.google.com/assets/colab-badge.svg\" alt=\"Open In Colab\"/></a>"
      ]
    },
    {
      "cell_type": "markdown",
      "metadata": {
        "id": "ME_OFocM7liO",
        "colab_type": "text"
      },
      "source": [
        "# **Python 101: Introduction to Functions in Python 1**\n",
        "\n",
        "\n"
      ]
    },
    {
      "cell_type": "markdown",
      "metadata": {
        "id": "8r1dpR357-0C",
        "colab_type": "text"
      },
      "source": [
        "# Summary\n",
        "\n",
        "\n",
        "---\n",
        "\n",
        "\n",
        "This tutorial introduces people with a basic programming knowledge to defining and calling functions in Python. It further<br> introduces them to importing data from Microsoft Excel and plotting these on histograms, pie charts, and bar charts.  \n",
        "<br>\n",
        "A video recording of this tutorial will be uploaded to my [YouTube channel](https://www.youtube.com/channel/UCUWApzGceugj6UpipYu-ZZQ) later.\n",
        "<br>\n",
        "<br>\n",
        "Visit my [GitHub page](https://github.com/HGeorgeWilliams/We-Yone-Python-Club) for more tutorials and resources in this series. \n"
      ]
    },
    {
      "cell_type": "markdown",
      "metadata": {
        "id": "2M6WP59-0Wrx",
        "colab_type": "text"
      },
      "source": [
        "# What is a Function?\n",
        "\n",
        "\n",
        "---\n",
        "\n",
        "A function is an enclosed block of code that runs only when it is called and may or may not return data. \n",
        "<br>\n",
        "<br>\n",
        "<br>\n",
        "<br>\n",
        "![alt text](https://raw.githubusercontent.com/HGeorgeWilliams/We-Yone-Python-Club/master/Data/functionillustration1.png)\n",
        "<br>\n",
        "<br>\n",
        "\n",
        "Functions:\n",
        "\n",
        "\n",
        "1.   Make code compact and general, since they can be reused without modification\n",
        "2.   Prevent code misuse\n",
        "3.   Prevent unwanted issues, since variable assignments are local.\n",
        "\n"
      ]
    },
    {
      "cell_type": "markdown",
      "metadata": {
        "id": "rhZJpTFL6qAO",
        "colab_type": "text"
      },
      "source": [
        "# Void Functions\n",
        "\n",
        "\n",
        "---\n",
        "\n",
        "Void functions perform actions (like printing to the console and writing to files) but do not return an output to the current workspace."
      ]
    },
    {
      "cell_type": "markdown",
      "metadata": {
        "id": "tMM8uQPo9nk7",
        "colab_type": "text"
      },
      "source": [
        "Let's write a function named `sayhello` to say hello to someone when they provide their name. "
      ]
    },
    {
      "cell_type": "code",
      "metadata": {
        "id": "-eBg2mVu-rOU",
        "colab_type": "code",
        "colab": {}
      },
      "source": [
        "# Define function\n",
        "\n",
        "def sayhi(your_name):\n",
        "  print(\"Hello {}\".format(your_name))\n",
        "\n",
        "# Call function\n",
        "\n",
        "sayhi('Hindolo') # say hello to Hindolo\n",
        "sayhi('We Yone Python Club') # say We Yone Python Club"
      ],
      "execution_count": null,
      "outputs": []
    },
    {
      "cell_type": "markdown",
      "metadata": {
        "id": "w5jeEXAgB-EN",
        "colab_type": "text"
      },
      "source": [
        "For the rest of this tutorial, we want to work from the directory holding the source files I have prepared for this session."
      ]
    },
    {
      "cell_type": "code",
      "metadata": {
        "id": "chRugAFOBoTw",
        "colab_type": "code",
        "colab": {}
      },
      "source": [
        "import os # import the operating system interface package\n",
        "\n",
        "# import module for downloading files from url\n",
        "# if this module is not currently installed, install it \n",
        "# using the command 'pip install wget' before \n",
        "# executing the import statement below\n",
        "\n",
        "import wget "
      ],
      "execution_count": null,
      "outputs": []
    },
    {
      "cell_type": "code",
      "metadata": {
        "id": "sfpW-MeyDQdi",
        "colab_type": "code",
        "colab": {}
      },
      "source": [
        "# download source files from GitHub (This cell needs to be run only once)\n",
        "\n",
        "current_directory = os.getcwd() # get current directory\n",
        "os.mkdir('source_files_aug2') # create directory to save files\n",
        "source_file_path = current_directory+'/source_files_aug2'#source file path\n",
        "os.chdir(source_file_path) # make source file folder the working directory\n",
        "\n",
        "# download plotdata.xlsx\n",
        "wget.download('https://github.com/HGeorgeWilliams/We-Yone-Python-Club/' + \n",
        "             'raw/master/Tutorials/source_files_aug2/plotdata.xlsx')"
      ],
      "execution_count": null,
      "outputs": []
    },
    {
      "cell_type": "markdown",
      "metadata": {
        "id": "C9Bf7AQLOTiG",
        "colab_type": "text"
      },
      "source": [
        "Let's write functions to visualise the data in the sheet named **`Demographic Data`** of the excel spreadsheet **`plotdata.xlsx`**. "
      ]
    },
    {
      "cell_type": "markdown",
      "metadata": {
        "id": "gOv5LmLxQPev",
        "colab_type": "text"
      },
      "source": [
        "Since we will be reading data from an Excel spreadsheet, we need to import the powerful data analytics library, [pandas](https://pandas.pydata.org/)."
      ]
    },
    {
      "cell_type": "code",
      "metadata": {
        "id": "qle8YhD0QLLj",
        "colab_type": "code",
        "colab": {}
      },
      "source": [
        "import pandas as pd # import pandas"
      ],
      "execution_count": null,
      "outputs": []
    },
    {
      "cell_type": "markdown",
      "metadata": {
        "id": "N69EuFW8jCR0",
        "colab_type": "text"
      },
      "source": [
        "Write a function that plots pie charts that show how the population **and** average earnings of towns are distributed across the country."
      ]
    },
    {
      "cell_type": "code",
      "metadata": {
        "id": "yEse4TCVP1SX",
        "colab_type": "code",
        "colab": {}
      },
      "source": [
        "# define function with the path to the excel spreadsheet as input\n",
        "\n",
        "def plot_piechart(file_path):\n",
        "\n",
        "  data = pd.read_excel(file_path, sheet_name = 'Demographic Data', \n",
        "                       index_col = 'Town') # import data\n",
        "\n",
        "  data.plot.pie(subplots = True, figsize = (15, 15)) # plot pie chart\n",
        "\n",
        "# call function \n",
        "\n",
        "file_path1 = 'plotdata.xlsx' # excel spreadsheet \n",
        "# use full path if file not residing in current directory\n",
        "\n",
        "plot_piechart(file_path1) "
      ],
      "execution_count": null,
      "outputs": []
    },
    {
      "cell_type": "markdown",
      "metadata": {
        "colab_type": "text",
        "id": "6o2cLW1FjnrA"
      },
      "source": [
        "Write a function that plots a pie chart that shows how the population **or** the average<br> earnings of towns are distributed across the country, depending on the choice of the user."
      ]
    },
    {
      "cell_type": "code",
      "metadata": {
        "colab_type": "code",
        "id": "50nSJcRykAiV",
        "colab": {}
      },
      "source": [
        "# define function with the path to the excel\n",
        "# spreadsheet and choice of parameter as input\n",
        "\n",
        "def plot_specific_piechart(file_path, parameter_choice):\n",
        "\n",
        "  data = pd.read_excel(file_path, sheet_name = 'Demographic Data',\n",
        "                       index_col = 'Town') # import data\n",
        "\n",
        "  data.plot.pie(y = parameter_choice, figsize = (15, 7.5)) # plot pie chart"
      ],
      "execution_count": null,
      "outputs": []
    },
    {
      "cell_type": "code",
      "metadata": {
        "id": "vmG6_tG-k9rf",
        "colab_type": "code",
        "colab": {}
      },
      "source": [
        "# plot population distribution\n",
        "plot_specific_piechart(file_path1,'Population')"
      ],
      "execution_count": null,
      "outputs": []
    },
    {
      "cell_type": "code",
      "metadata": {
        "colab_type": "code",
        "id": "sZJNLPEqlLJd",
        "colab": {}
      },
      "source": [
        "# plot average earning distribution\n",
        "plot_specific_piechart(file_path1,'Average Monthly Earning')"
      ],
      "execution_count": null,
      "outputs": []
    },
    {
      "cell_type": "markdown",
      "metadata": {
        "id": "8FM1e6tygN7H",
        "colab_type": "text"
      },
      "source": [
        "Write a function that plots a bar chart that shows how the population **and** average earnings of towns are distributed across the country."
      ]
    },
    {
      "cell_type": "code",
      "metadata": {
        "colab_type": "code",
        "id": "Bc4zUumKhFnQ",
        "colab": {}
      },
      "source": [
        "# define function with the path to the excel spreadsheet as input\n",
        "\n",
        "def plot_barchart(file_path):\n",
        "\n",
        "  data = pd.read_excel(file_path, sheet_name = 'Demographic Data', \n",
        "                       index_col = 'Town') # import data\n",
        "\n",
        "  data.plot.bar(figsize = (7, 11)) # plot bar chart\n",
        "\n",
        "# call function \n",
        "\n",
        "file_path = 'plotdata.xlsx' \n",
        "plot_barchart(file_path1) "
      ],
      "execution_count": null,
      "outputs": []
    },
    {
      "cell_type": "markdown",
      "metadata": {
        "id": "sjALggaom6tB",
        "colab_type": "text"
      },
      "source": [
        "Like the pie chart, you can can choose which parameter to plot for the bar chart."
      ]
    },
    {
      "cell_type": "code",
      "metadata": {
        "colab_type": "code",
        "id": "E05L1J_Aneva",
        "colab": {}
      },
      "source": [
        "# define function with the path to the excel \n",
        "# spreadsheet and choice of parameter as input\n",
        "\n",
        "def plot_specific_barchart(file_path, parameter_choice):\n",
        "\n",
        "  data = pd.read_excel(file_path, sheet_name = 'Demographic Data',\n",
        "                       index_col = 'Town') # import data\n",
        "\n",
        "  data.plot.bar(y = parameter_choice, figsize = (7, 7),\n",
        "                color = 'green') # plot bar chart"
      ],
      "execution_count": null,
      "outputs": []
    },
    {
      "cell_type": "code",
      "metadata": {
        "colab_type": "code",
        "id": "-FtbiooIns31",
        "colab": {}
      },
      "source": [
        "# plot population distribution\n",
        "plot_specific_barchart(file_path1,'Population')"
      ],
      "execution_count": null,
      "outputs": []
    },
    {
      "cell_type": "code",
      "metadata": {
        "colab_type": "code",
        "id": "UY0k1k4EnueN",
        "colab": {}
      },
      "source": [
        "# plot population distribution\n",
        "plot_specific_barchart(file_path1,'Average Monthly Earning')"
      ],
      "execution_count": null,
      "outputs": []
    },
    {
      "cell_type": "markdown",
      "metadata": {
        "id": "2Z-Dn3EWo9fa",
        "colab_type": "text"
      },
      "source": [
        "Note: When calling a function, the order of the input parameters is very important! For example,<br> the function call below throws an error because the parameter order is violated in the function call. "
      ]
    },
    {
      "cell_type": "code",
      "metadata": {
        "colab_type": "code",
        "id": "Spxe84NwplZV",
        "colab": {}
      },
      "source": [
        "# plot population distribution\n",
        "\n",
        "plot_specific_barchart('Average Monthly Earning', file_path1)"
      ],
      "execution_count": null,
      "outputs": []
    },
    {
      "cell_type": "markdown",
      "metadata": {
        "id": "f7ED1rj5qoq1",
        "colab_type": "text"
      },
      "source": [
        "To address this, use the input parameter names used in the original function definition. Here is an example:"
      ]
    },
    {
      "cell_type": "code",
      "metadata": {
        "colab_type": "code",
        "id": "OSTeyjfzqA7w",
        "colab": {}
      },
      "source": [
        "# plot population distribution\n",
        "\n",
        "plot_specific_barchart(parameter_choice = 'Average Monthly Earning',\n",
        "                       file_path = file_path1)"
      ],
      "execution_count": null,
      "outputs": []
    },
    {
      "cell_type": "markdown",
      "metadata": {
        "id": "JcINLJ2CsM8I",
        "colab_type": "text"
      },
      "source": [
        "Write a function to plot a histogram, pie chart, **or** bar chart of the data in plotdata.xlsx.\n"
      ]
    },
    {
      "cell_type": "code",
      "metadata": {
        "id": "WdUV6ZLysXLy",
        "colab_type": "code",
        "colab": {}
      },
      "source": [
        "# define function with the path to the excel spreadsheet\n",
        "# and choice of plot as input\n",
        "\n",
        "def plot_chart(file_path, chart_type):\n",
        "\n",
        "  # import data\n",
        "\n",
        "  data = pd.read_excel(file_path, sheet_name = 'Demographic Data',\n",
        "                       index_col = 'Town') # import data\n",
        "  \n",
        "  # plot data \n",
        "  \n",
        "  if chart_type == 'pie':\n",
        "\n",
        "     data.plot.pie(subplots = True, figsize = (15, 15)) # plot pie chart\n",
        "\n",
        "  elif chart_type == 'hist':\n",
        "\n",
        "     data.hist(bins = 10, figsize = (7, 11)) # plot histogram\n",
        "\n",
        "  elif chart_type == 'bar':\n",
        "\n",
        "     data.plot.bar(figsize = (7, 11)) # plot bar chart\n",
        "\n",
        "  else:\n",
        "      print('Unsupported chart type')\n"
      ],
      "execution_count": null,
      "outputs": []
    },
    {
      "cell_type": "code",
      "metadata": {
        "id": "FBp9yX2zuLAc",
        "colab_type": "code",
        "colab": {}
      },
      "source": [
        "# plot population histogram\n",
        "\n",
        "plot_chart(file_path = file_path1, chart_type = 'bar')"
      ],
      "execution_count": null,
      "outputs": []
    },
    {
      "cell_type": "markdown",
      "metadata": {
        "id": "DN2W3JPbrZkY",
        "colab_type": "text"
      },
      "source": [
        "# Fruitful Functions\n",
        "\n",
        "\n",
        "---\n",
        "Fruitful functions return an a value or a set of values to the current workspace. \n"
      ]
    },
    {
      "cell_type": "markdown",
      "metadata": {
        "id": "q6FwdcEMsDn3",
        "colab_type": "text"
      },
      "source": [
        "Write a function to return the sum of two numbers. "
      ]
    },
    {
      "cell_type": "code",
      "metadata": {
        "id": "zKARo2upysfI",
        "colab_type": "code",
        "colab": {}
      },
      "source": [
        "def add_2numbers(first_number, second_number):\n",
        "  number_sum = first_number + second_number \n",
        "  return number_sum # return sum as output \n",
        "  # always required for fruitful functions"
      ],
      "execution_count": null,
      "outputs": []
    },
    {
      "cell_type": "code",
      "metadata": {
        "id": "MIUaxPY52bGL",
        "colab_type": "code",
        "colab": {}
      },
      "source": [
        "# call function \n",
        "\n",
        "returned_sum = add_2numbers(7, -6) # assign returned value to a variable\n",
        "print(returned_sum)"
      ],
      "execution_count": null,
      "outputs": []
    },
    {
      "cell_type": "markdown",
      "metadata": {
        "id": "7IKTgLk42vrb",
        "colab_type": "text"
      },
      "source": [
        "Write a programme to find the roots of a quadratic function and plot the graph of the function in the range $\\min(x_1,x_2)-5\\leq x\\leq \\max(x_1,x_2)+5$. Where $x_1$ and $x_2$ are the roots of the function. <br><br>\n",
        "Hint : The two roots of the quadratic equation $f\\left(x\\right)=ax^2+bx+c$ are given by\n",
        "$x_1=\\frac{-b+\\sqrt{b^2-4ac}}{2a}$ and $x_2=\\frac{-b-\\sqrt{b^2-4ac}}{2a}$.\n",
        "\n"
      ]
    },
    {
      "cell_type": "code",
      "metadata": {
        "id": "oLhTeuA443Au",
        "colab_type": "code",
        "colab": {}
      },
      "source": [
        "import math as m # import math module\n",
        "import numpy as np # import numpy library\n",
        "import matplotlib.pyplot as plt # import library for plotting\n",
        "plt.rcParams[\"figure.figsize\"] = (10,7) # set figure size to 10 inches by 7 inches"
      ],
      "execution_count": 6,
      "outputs": []
    },
    {
      "cell_type": "code",
      "metadata": {
        "id": "mUeqZClV4g7F",
        "colab_type": "code",
        "colab": {}
      },
      "source": [
        "def get_quadratic_roots(a,b,c):\n",
        "\n",
        "  # find roots of equation\n",
        "\n",
        "   root1 = (-b+m.sqrt(b**2-4*a*c))/(2*a) # first root (enclose 2a in a bracket!)\n",
        "   root2 = (-b-m.sqrt(b**2-4*a*c))/(2*a) # second root\n",
        "   \n",
        "  # plot function\n",
        "\n",
        "   x = np.linspace(min(root1,root2)-5,max(root1,root2)+5,100) # generate 100 x values\n",
        "   f_of_x = a*x**2 + b*x +c # evaluate quadratic function\n",
        "   plt.plot(x, f_of_x, color = 'red', linestyle = '-.')\n",
        "   plt.xlabel('x')\n",
        "   plt.ylabel(r'$f\\left(x\\right)$')\n",
        "   plt.title(r'Graph of $f\\left(x\\right)=' + '{}x^2+{}x+{}$'.format(a,b,c))\n",
        "   \n",
        "  # return output\n",
        "\n",
        "   return round(root1,2), round(root2,2) "
      ],
      "execution_count": 13,
      "outputs": []
    },
    {
      "cell_type": "markdown",
      "metadata": {
        "id": "TF1b3Jnc5XKo",
        "colab_type": "text"
      },
      "source": [
        "Find the roots of the function $f\\left(x\\right)=2x^2+16x+3$"
      ]
    },
    {
      "cell_type": "code",
      "metadata": {
        "id": "9ep1ZQtx5UR-",
        "colab_type": "code",
        "colab": {}
      },
      "source": [
        "a = 2\n",
        "b = 16\n",
        "c = 3\n",
        "x,y = get_quadratic_roots(a,b,c) # call function\n",
        "print(x,y)"
      ],
      "execution_count": null,
      "outputs": []
    },
    {
      "cell_type": "markdown",
      "metadata": {
        "colab_type": "text",
        "id": "WqmMMva3D4nx"
      },
      "source": [
        "Find the roots of the function $f\\left(x\\right)=2x^2+x+3$"
      ]
    },
    {
      "cell_type": "code",
      "metadata": {
        "colab_type": "code",
        "id": "X6CuswomErkk",
        "colab": {}
      },
      "source": [
        "x,y = get_quadratic_roots(a = 2, b = 1, c = 3) # call function\n",
        "print(x,y)"
      ],
      "execution_count": null,
      "outputs": []
    },
    {
      "cell_type": "markdown",
      "metadata": {
        "id": "U8W6FISMEuR9",
        "colab_type": "text"
      },
      "source": [
        "Why do you think that resulted in an error?\n",
        "<br>\n",
        "<br>\n",
        "Recall that the roots of a quadratic function are complex if $b^2<4ac$, which is the case for $f\\left(x\\right)=2x^2+x+3$.\n",
        "As such, $b^2-4ac$ is negative, which is why Python threw an exception. To prevent this, the function should be modified to compute the roots differently when $b^2-4ac<0$. Luckily, the function `get_quadratic_roots ` we defined earlier can find the roots of a quadratic function for which $b^2-4ac\\geq0$. All we have to do now is write another function that computes the roots of a quadratic function for which $b^2-4ac<0$. <br><br>\n",
        "Recall also that $\\sqrt{-n}=\\mathrm{j}n$, where $\\mathrm{j}n$ is a complex number of magnitude $n$. Complex quadratic roots have both real and imaginary parts and are of the form:\n",
        "$x_{1}=\\frac{-b}{2a}+\\mathrm{j}\\frac{\\sqrt{4ac-b^2}}{2a}$ and $x_{2}=\\frac{-b}{2a}-\\mathrm{j}\\frac{\\sqrt{4ac-b^2}}{2a}$. With complex roots, we want to plot the graph of the function in the range $\\mathrm{real}\\left(x_{1}\\right)-10\\leq x\\leq\\mathrm{real}\\left(x_{1}\\right)+10$. Recall that $\\mathrm{real}\\left(x_{1}\\right)=\\mathrm{real}\\left(x_{2}\\right)=x_t$, where $x_t$ is the $x$ ordinate at the turning point of the function. \n"
      ]
    },
    {
      "cell_type": "code",
      "metadata": {
        "colab_type": "code",
        "id": "6c8o1owmPmY1",
        "colab": {}
      },
      "source": [
        "# define function to compute quadratic roots\n",
        "\n",
        "def get_complex_quadratic_roots(a,b,c):\n",
        "\n",
        "  # find roots of equation\n",
        "\n",
        "   real_part = round(-b/(2*a),2) # real part of roots to 2 decimal places\n",
        "   imag_part = round(m.sqrt(4*a*c - b**2)/(2*a),2) # imaginary part of roots to 2 decimal places\n",
        "   root1 = complex(real_part, imag_part) # first root \n",
        "   root2 = complex(real_part, -imag_part) # second root\n",
        "   \n",
        "  # plot function\n",
        "\n",
        "   x = np.linspace(root1.real - 10, root1.real + 10, 100) # generate 100 x values\n",
        "   f_of_x = a*x**2 + b*x +c # evaluate quadratic function\n",
        "   plt.plot(x, f_of_x, color = 'red', linestyle = '-.')\n",
        "   plt.xlabel('x')\n",
        "   plt.ylabel(r'$f\\left(x\\right)$')\n",
        "   plt.title(r'Graph of $f\\left(x\\right)=' + '{}x^2+{}x+{}$'.format(a,b,c))\n",
        "   \n",
        "  # return output\n",
        "\n",
        "   return root1, root2 "
      ],
      "execution_count": 17,
      "outputs": []
    },
    {
      "cell_type": "markdown",
      "metadata": {
        "id": "dhh6kttDT3L6",
        "colab_type": "text"
      },
      "source": [
        "Now, we will write a function that calls both `get_quadratic_roots` and `get_complex_quadratic_roots`, depending on the sign of $b^2-4ac$."
      ]
    },
    {
      "cell_type": "code",
      "metadata": {
        "id": "Zx6n8_4LUV3U",
        "colab_type": "code",
        "colab": {}
      },
      "source": [
        "def quadratic_root_calculator(a, b, c):\n",
        "    \n",
        "  if b**2 - 4*a*c >= 0:\n",
        "     \n",
        "     # call get_quadratic_roots\n",
        "\n",
        "     root1, root2 = get_quadratic_roots(a, b, c)\n",
        "\n",
        "  else:\n",
        "\n",
        "     # call get_complex_quadratic_roots\n",
        "\n",
        "     root1, root2 = get_complex_quadratic_roots(a, b, c)\n",
        "\n",
        "  return root1, root2\n"
      ],
      "execution_count": 21,
      "outputs": []
    },
    {
      "cell_type": "markdown",
      "metadata": {
        "id": "PUXyaXdwW-q-",
        "colab_type": "text"
      },
      "source": [
        "Let's find the roots of the function $f\\left(x\\right)=2x^2+x+3$ again, but now using the function `quadratic_root_calculator`. "
      ]
    },
    {
      "cell_type": "code",
      "metadata": {
        "colab_type": "code",
        "id": "F7rLxGcdX3vr",
        "colab": {}
      },
      "source": [
        "x,y = quadratic_root_calculator(a = 2, b = 1, c = 3) # call function\n",
        "print(x,y)"
      ],
      "execution_count": null,
      "outputs": []
    },
    {
      "cell_type": "markdown",
      "metadata": {
        "id": "hYT-XNKLYaMS",
        "colab_type": "text"
      },
      "source": [
        "Find the roots of the function $f\\left(x\\right)=2x^2+16x+3$."
      ]
    },
    {
      "cell_type": "code",
      "metadata": {
        "colab_type": "code",
        "id": "C9AHnSw3ZaAF",
        "colab": {}
      },
      "source": [
        "x,y = quadratic_root_calculator(a = 2, b = 16, c = 3) # call function\n",
        "print(x,y)"
      ],
      "execution_count": null,
      "outputs": []
    },
    {
      "cell_type": "markdown",
      "metadata": {
        "id": "ouSxvV6EZhAj",
        "colab_type": "text"
      },
      "source": [
        "Try various quadratic functions and you will observe that the function `quadratic_root_calculator` is generic. "
      ]
    }
  ]
}