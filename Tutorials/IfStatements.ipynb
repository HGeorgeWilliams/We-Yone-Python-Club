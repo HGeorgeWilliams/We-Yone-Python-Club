{
  "nbformat": 4,
  "nbformat_minor": 0,
  "metadata": {
    "colab": {
      "name": "IfStatements.ipynb",
      "provenance": [],
      "collapsed_sections": [],
      "authorship_tag": "ABX9TyM19EdYj0oz0ABNyRHTgYQv",
      "include_colab_link": true
    },
    "kernelspec": {
      "name": "python3",
      "display_name": "Python 3"
    }
  },
  "cells": [
    {
      "cell_type": "markdown",
      "metadata": {
        "id": "view-in-github",
        "colab_type": "text"
      },
      "source": [
        "<a href=\"https://colab.research.google.com/github/HGeorgeWilliams/We-Yone-Python-Club/blob/master/Tutorials/IfStatements.ipynb\" target=\"_parent\"><img src=\"https://colab.research.google.com/assets/colab-badge.svg\" alt=\"Open In Colab\"/></a>"
      ]
    },
    {
      "cell_type": "markdown",
      "metadata": {
        "id": "JiX4-Sw0B04-",
        "colab_type": "text"
      },
      "source": [
        "# **Python 101: Understanding `if` Statements**\n"
      ]
    },
    {
      "cell_type": "markdown",
      "metadata": {
        "id": "I8htsQoGGdMQ",
        "colab_type": "text"
      },
      "source": [
        "# Summary\n",
        "This tutorial introduces beginners with little or no programming experience to the basics of **`if` statements** in Python. A couple of practical examples and exercises for you to try at home are also included. Some of these examples and exercises would require you to apply everything you have learned about strings in Python, and are, therefore, very stimulating. \n",
        "<br>\n",
        "<br>\n",
        "A video of this tutorial is available on my [YouTube channel](https://youtu.be/R3EQm3Othn0).\n",
        "<br>\n",
        "<br>\n",
        "Visit my [GitHub page](https://github.com/HGeorgeWilliams/We-Yone-Python-Club) for more tutorials and resources in this series. \n"
      ]
    },
    {
      "cell_type": "markdown",
      "metadata": {
        "id": "MWrfWR2wI9er",
        "colab_type": "text"
      },
      "source": [
        "# Simple Conditional Statements\n",
        "\n",
        "\n",
        "---\n",
        "\n",
        "\n",
        "Conditional statements return `True` or `False`, depending on the truth value of the statement. The operators used in such statements are:\n",
        "\n",
        "\n",
        "1.   **`==`**: Returns `True` if two variables are equal and `False`, otherwise.\n",
        "2.   **`!=`**: Returns `True` if two variables are not equal and and `False`, otherwise.\n",
        "3.    **`<`**: Returns `True` if the first varible is less than the second and `False`, otherwise.\n",
        "4.   **`<=`**: Returns `True` if the first variable is less than or equal to the second, and `False`, otherwise. \n",
        "5.    **`>`**: Returns `True` if the first varible is greater than the second and `False`, otherwise.\n",
        "6.   **`>=`**: Returns `True` if the first variable is greater than or equal to the second, and `False`, otherwise. \n",
        "7.    **`in`**: Returns `True` if the first variable is a member of the second and `False`, otherwise. \n",
        "8.    **`not in`**: Returns `True` if the first variable is not a member of the second and `False`, otherwise. \n",
        "\n",
        "\n",
        "\n"
      ]
    },
    {
      "cell_type": "markdown",
      "metadata": {
        "id": "tzFCH3I4Vmaf",
        "colab_type": "text"
      },
      "source": [
        "Here are a few examples:"
      ]
    },
    {
      "cell_type": "code",
      "metadata": {
        "id": "0lzFwvV4Y4l8",
        "colab_type": "code",
        "colab": {}
      },
      "source": [
        "status = 2 == 2 # conditional statement: 2 equals 2\n",
        "print(status) # print truth value of previous statement"
      ],
      "execution_count": null,
      "outputs": []
    },
    {
      "cell_type": "code",
      "metadata": {
        "id": "p9N2N5WyY6u5",
        "colab_type": "code",
        "colab": {}
      },
      "source": [
        "status = 2 != 2 # conditional statement: 2 not equal to 2\n",
        "print(status) # print truth value of previous statement"
      ],
      "execution_count": null,
      "outputs": []
    },
    {
      "cell_type": "code",
      "metadata": {
        "id": "mzANbGQFY-fs",
        "colab_type": "code",
        "colab": {}
      },
      "source": [
        "status = 2 < 3 # conditional statement: 2 less than 3\n",
        "print(status) # print truth value of previous statement"
      ],
      "execution_count": null,
      "outputs": []
    },
    {
      "cell_type": "code",
      "metadata": {
        "id": "mM3P97aSZFwm",
        "colab_type": "code",
        "colab": {}
      },
      "source": [
        "status = 2 <= 1.99 # conditional statement: 2 less than or equal to 1.99\n",
        "print(status) # print truth value of previous statement"
      ],
      "execution_count": null,
      "outputs": []
    },
    {
      "cell_type": "code",
      "metadata": {
        "id": "NRbYVoL3ZKaW",
        "colab_type": "code",
        "colab": {}
      },
      "source": [
        "status = 2 > 1.99 # conditional statement: 2 greater than 1.99\n",
        "print(status) # print truth value of previous statement"
      ],
      "execution_count": null,
      "outputs": []
    },
    {
      "cell_type": "code",
      "metadata": {
        "id": "bOwleIwhZMrm",
        "colab_type": "code",
        "colab": {}
      },
      "source": [
        "status = 2 >= 2 # conditional statement: 2 less greater or equal to 2\n",
        "print(status) # print truth value of previous statement"
      ],
      "execution_count": null,
      "outputs": []
    },
    {
      "cell_type": "code",
      "metadata": {
        "id": "P5ja94wBZRf_",
        "colab_type": "code",
        "colab": {}
      },
      "source": [
        "status = 'a' in 'amal' # conditional statement: the letter a is in the word amal\n",
        "print(status) # print truth value of previous statement"
      ],
      "execution_count": null,
      "outputs": []
    },
    {
      "cell_type": "code",
      "metadata": {
        "id": "1eMfNBwwBy1h",
        "colab_type": "code",
        "colab": {}
      },
      "source": [
        "status = 'go' not in 'today' # conditional statement: the word go is not in the word today\n",
        "print(status) # print truth value of previous statement"
      ],
      "execution_count": null,
      "outputs": []
    },
    {
      "cell_type": "markdown",
      "metadata": {
        "id": "sQUX1BZpaCFd",
        "colab_type": "text"
      },
      "source": [
        "Add **`not`** in front of the statement if the truth value of the alternative hypothesis is required. For example:"
      ]
    },
    {
      "cell_type": "code",
      "metadata": {
        "colab_type": "code",
        "id": "qzcIx3CRalUo",
        "colab": {}
      },
      "source": [
        "status = not 2 == 2 # conditional statement: 2 not equal to 2\n",
        "print(\"2 not equal to 2: {}\".format(status)) # print truth value of previous statement"
      ],
      "execution_count": null,
      "outputs": []
    },
    {
      "cell_type": "code",
      "metadata": {
        "colab_type": "code",
        "id": "oRiDPDvtcdLK",
        "colab": {}
      },
      "source": [
        "status = not 'go' not in 'today' # conditional statement: the word go is in the word today\n",
        "print(\"The word go is in the word today: {}\".format(status)) # print truth value of previous statement"
      ],
      "execution_count": null,
      "outputs": []
    },
    {
      "cell_type": "markdown",
      "metadata": {
        "id": "m5wVeaUQck4f",
        "colab_type": "text"
      },
      "source": [
        "# Compound Conditional Statements\n",
        "\n",
        "\n",
        "---\n",
        "\n",
        "They contain two or more simple conditional statements, which are normally joined by either the **`or`** or **`and`** operators. \n",
        "<br>\n",
        "<br>\n",
        "**`or`**: `True` if at least one of the statements is `True`. <br>\n",
        "**`and`**: `False` if at least one of the statements is `False`.\n"
      ]
    },
    {
      "cell_type": "markdown",
      "metadata": {
        "id": "Wa9UAO6yd271",
        "colab_type": "text"
      },
      "source": [
        "For example:"
      ]
    },
    {
      "cell_type": "code",
      "metadata": {
        "id": "-bIf2s0Qezt4",
        "colab_type": "code",
        "colab": {}
      },
      "source": [
        "x = 6.6\n",
        "status = x >= 6 and x <= 8 # x greater than or equal to 6 and x less than or equal to 8\n",
        "print(status)"
      ],
      "execution_count": null,
      "outputs": []
    },
    {
      "cell_type": "code",
      "metadata": {
        "id": "pLMd3PBCckVJ",
        "colab_type": "code",
        "colab": {}
      },
      "source": [
        "y = 7\n",
        "status = y in {7,8,9} or type(y) == int # y is an element of {7,8,9} or it is an integer\n",
        "print(status)"
      ],
      "execution_count": null,
      "outputs": []
    },
    {
      "cell_type": "markdown",
      "metadata": {
        "id": "280GaZSUg04G",
        "colab_type": "text"
      },
      "source": [
        "Run the examples above with different values of `x` and `y` and observe the truth values of the statements."
      ]
    },
    {
      "cell_type": "markdown",
      "metadata": {
        "id": "hvnDK3ax3Ycd",
        "colab_type": "text"
      },
      "source": [
        "# Simple `if` Statements\n",
        "\n",
        "\n",
        "---\n",
        "\n"
      ]
    },
    {
      "cell_type": "code",
      "metadata": {
        "id": "N2yE7bjo3X1T",
        "colab_type": "code",
        "colab": {}
      },
      "source": [
        "# print Yes if x is a member of set A = {7, 8, 4, 2}\n",
        "\n",
        "A = {7, 8, 4, 2} # set A\n",
        "x = 4 # test variable\n",
        "\n",
        "if x in A:\n",
        "\n",
        "  print('Yes') # executed only if condition is True\n",
        "\n",
        "print('The End!') # this statement will always be executed"
      ],
      "execution_count": null,
      "outputs": []
    },
    {
      "cell_type": "code",
      "metadata": {
        "colab_type": "code",
        "id": "gmkyYbZP6sfq",
        "colab": {}
      },
      "source": [
        "# print Yes if y is a member of set A = {7, 8, 4, 2} and No, otherwise\n",
        "\n",
        "A = {7, 8, 4, 2} # set A\n",
        "x = 5 # test variable\n",
        "\n",
        "if x in A:\n",
        "\n",
        "  print('Yes') # executed only if the condition is True\n",
        "\n",
        "else:\n",
        "\n",
        "  print('No') # executed only if the condition is False\n",
        "\n",
        "print('The End!') # this statement will always be executed"
      ],
      "execution_count": null,
      "outputs": []
    },
    {
      "cell_type": "code",
      "metadata": {
        "id": "XSzJNg4e7zAg",
        "colab_type": "code",
        "colab": {}
      },
      "source": [
        "# print 'Valid' if z is negative or at least 10 and 'Invalid', otherwise.\n",
        "\n",
        "z = 10 # test variable\n",
        "\n",
        "if z < 0 or z >= 10:\n",
        "\n",
        "  print('Valid')\n",
        "\n",
        "else: \n",
        "\n",
        "  print('Invalid')"
      ],
      "execution_count": null,
      "outputs": []
    },
    {
      "cell_type": "markdown",
      "metadata": {
        "id": "pT_Zapa09S06",
        "colab_type": "text"
      },
      "source": [
        "You can also create an `if` block with more than 2 conditions"
      ]
    },
    {
      "cell_type": "code",
      "metadata": {
        "id": "mT6XDD9z9peu",
        "colab_type": "code",
        "colab": {}
      },
      "source": [
        "# You are presented with the full path to a file. Print the following:\n",
        "# \"It's csv\" if the file is a csv file\n",
        "# \"It's MS Excel\" if the file is an xls file\n",
        "# \"It's MS Word\" if the file is a doc file\n",
        "# \"Invalid Format\" if it is none of the above\n",
        "\n",
        "file_path = '/Users/hindologeorge-williams/OneDrive - Nexus365/We Yone Python Club/TestFile.xls'\n",
        "\n",
        "if file_path[-4:] == '.csv': # test whether file is .csv \n",
        "\n",
        "  print(\"It's csv\") \n",
        "\n",
        "elif file_path[-4:] == '.xls': # test whether file is .xls\n",
        "\n",
        "  print(\"It's MS Excel\")\n",
        "\n",
        "elif file_path[-4:] == '.doc': # test whether file is .doc\n",
        "\n",
        "  print(\"It's MS Word\")\n",
        "\n",
        "else: \n",
        "\n",
        "  print(\"Invalid Format\")"
      ],
      "execution_count": null,
      "outputs": []
    },
    {
      "cell_type": "markdown",
      "metadata": {
        "id": "zvenDqlwCJHM",
        "colab_type": "text"
      },
      "source": [
        "# Nested `if` Statements\n",
        "\n",
        "\n",
        "---\n",
        "\n",
        "`if` statement blocks within `if` statements.\n"
      ]
    },
    {
      "cell_type": "markdown",
      "metadata": {
        "id": "s1pZAanLSFFu",
        "colab_type": "text"
      },
      "source": [
        "You are given a variable do the following:\n",
        "\n",
        "\n",
        "*   If the variable is a string, make sure it is a single alphabet and print `vowel` if it is a vowel, and `consonant`, otherwise. \n",
        "*   However, if the variable is numeric but not complex, print `G1` if it is negative, `G2` if it lies between 0 and 10 inclusive, and `G3`, otherwise.\n",
        "*   Print `Not Supported!` if none of the above is satisfied.\n",
        "\n"
      ]
    },
    {
      "cell_type": "code",
      "metadata": {
        "id": "-r99y0NgGBn7",
        "colab_type": "code",
        "colab": {}
      },
      "source": [
        "var = complex(9,8) # test variable\n",
        "\n",
        "if type(var) == str: # check whether variable is string\n",
        "   \n",
        "   if var.isalpha() and len(var) == 1: # check whether variable is single alphabet\n",
        "\n",
        "      var = var.lower() # convert to lowercase\n",
        "\n",
        "      if var in {'a', 'e', 'i', 'o', 'u'}: # check whether variable is a vowel\n",
        "        \n",
        "        print('Vowel')\n",
        "\n",
        "      else:\n",
        "\n",
        "        print('Consonant')\n",
        "  \n",
        "   else: # variable is not a single alphabet\n",
        "\n",
        "     print('Not Supported!')\n",
        "\n",
        "elif type(var) != complex: # variable is numeric\n",
        "\n",
        "  if var < 0: # variable is negative\n",
        "\n",
        "    print('G1')\n",
        "  \n",
        "  elif 0 <= var <= 10: # variable lies between 0 and 10 inclusive\n",
        "\n",
        "    print('G2')\n",
        "\n",
        "  else: \n",
        "\n",
        "    print('G3')\n",
        "  \n",
        "else: \n",
        "\n",
        "  print('Not Supported!')"
      ],
      "execution_count": null,
      "outputs": []
    },
    {
      "cell_type": "markdown",
      "metadata": {
        "id": "CvhtCRl6GH3T",
        "colab_type": "text"
      },
      "source": [
        "# Exercises to Try at Home\n",
        "\n",
        "\n",
        "---\n",
        "1. You are presented with the full path to a file. Print the following:\n",
        "\n",
        ">* `It's csv` if the file is a csv file\n",
        "*   `It's MS Excel` if the file is an xls or xlsx file\n",
        "*   `It's MS Word` if the file is a doc or docx file\n",
        "*    `Invalid Format` if teh file is none of the above\n",
        "<br>\n",
        "<br>\n",
        ">\n",
        "2. Repeat 1 without using compound conditional statements [Hint: nested `if` statements required]"
      ]
    }
  ]
}