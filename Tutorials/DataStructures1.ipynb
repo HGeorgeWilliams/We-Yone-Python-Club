{
  "nbformat": 4,
  "nbformat_minor": 0,
  "metadata": {
    "colab": {
      "name": "DataStructures1.ipynb",
      "provenance": [],
      "collapsed_sections": [],
      "authorship_tag": "ABX9TyOOaE9ctdtKm/tudN44cTdd",
      "include_colab_link": true
    },
    "kernelspec": {
      "name": "python3",
      "display_name": "Python 3"
    }
  },
  "cells": [
    {
      "cell_type": "markdown",
      "metadata": {
        "id": "view-in-github",
        "colab_type": "text"
      },
      "source": [
        "<a href=\"https://colab.research.google.com/github/HGeorgeWilliams/We-Yone-Python-Club/blob/master/Tutorials/DataStructures1.ipynb\" target=\"_parent\"><img src=\"https://colab.research.google.com/assets/colab-badge.svg\" alt=\"Open In Colab\"/></a>"
      ]
    },
    {
      "cell_type": "markdown",
      "metadata": {
        "id": "ME_OFocM7liO",
        "colab_type": "text"
      },
      "source": [
        "# **Python 101: Python Data Structures 1**\n",
        "\n",
        "\n"
      ]
    },
    {
      "cell_type": "markdown",
      "metadata": {
        "id": "8r1dpR357-0C",
        "colab_type": "text"
      },
      "source": [
        "# Summary\n",
        "\n",
        "\n",
        "---\n",
        "\n",
        "\n",
        "A data structure is a specialized format for organizing, processing, retrieving, and storing data in a programming<br> language. This tutorial provides a comprehensive overview of **sets** and **lists**, two of Python's fundamental data<br> structures. A couple of practical examples are included, to give you an idea of their applicability in practice. \n",
        "<br><br>\n",
        "A video recording of this tutorial is available on my [YouTube channel](https://youtu.be/sHXpvQWwJH8).\n",
        "<br>\n",
        "<br>\n",
        "Visit my [GitHub page](https://github.com/HGeorgeWilliams/We-Yone-Python-Club) for more tutorials and resources in this series. \n"
      ]
    },
    {
      "cell_type": "markdown",
      "metadata": {
        "id": "SsRfhOXg0g30",
        "colab_type": "text"
      },
      "source": [
        "# Sets\n",
        "\n",
        "\n",
        "---\n",
        "\n",
        "A set is an unordered immutable collection of elements (mixed or otherwise) with no duplicate element.<br> It finds use in membership testing and eliminating duplicate elements."
      ]
    },
    {
      "cell_type": "markdown",
      "metadata": {
        "id": "LsUnw5eT2fGg",
        "colab_type": "text"
      },
      "source": [
        "A set is created by enclosing its elements in a curly bracket `{ }` or invoking the `set()` command on a list. "
      ]
    },
    {
      "cell_type": "code",
      "metadata": {
        "id": "xC1TjIhb02v3",
        "colab_type": "code",
        "colab": {}
      },
      "source": [
        "x = {8, 'a', 0, 'Chelsea'} # define set\n",
        "print(x)"
      ],
      "execution_count": null,
      "outputs": []
    },
    {
      "cell_type": "code",
      "metadata": {
        "id": "TwznRr8y3I79",
        "colab_type": "code",
        "colab": {}
      },
      "source": [
        "print(len(x)) # print the number of elements of x"
      ],
      "execution_count": null,
      "outputs": []
    },
    {
      "cell_type": "code",
      "metadata": {
        "id": "TQGsMd6f3Z9t",
        "colab_type": "code",
        "colab": {}
      },
      "source": [
        "y = {4, 5, 6, 0, 4} \n",
        "print(y)"
      ],
      "execution_count": null,
      "outputs": []
    },
    {
      "cell_type": "markdown",
      "metadata": {
        "id": "GilTy7_23qp1",
        "colab_type": "text"
      },
      "source": [
        "Note how duplicate elements of `y` have been removed. "
      ]
    },
    {
      "cell_type": "code",
      "metadata": {
        "id": "1GH5COMb4LAb",
        "colab_type": "code",
        "colab": {}
      },
      "source": [
        "a = ['7', 0, 4, 'musa', 'joe'] # define some list\n",
        "z = set(a) # convert list to set\n",
        "print(z)"
      ],
      "execution_count": null,
      "outputs": []
    },
    {
      "cell_type": "code",
      "metadata": {
        "id": "_JBYr3K25j12",
        "colab_type": "code",
        "colab": {}
      },
      "source": [
        "s = 'python' # define some string \n",
        "b = set(s) # convert string to set\n",
        "print(b)"
      ],
      "execution_count": null,
      "outputs": []
    },
    {
      "cell_type": "markdown",
      "metadata": {
        "id": "iDVEDxRjUuhZ",
        "colab_type": "text"
      },
      "source": [
        "You can build (from scratch) a new set from an existing set or sets using a single line of code. This is **called set comprehension**."
      ]
    },
    {
      "cell_type": "code",
      "metadata": {
        "id": "88NFeyWpVH4Q",
        "colab_type": "code",
        "colab": {}
      },
      "source": [
        "# return a set containing only the consonants in the sentence \"I have a dream\"\n",
        "\n",
        "new_set = {x for x in \"I have a dream\" if x not in \"aeiou \"} \n",
        "\n",
        "# notice the white space after 'u' in the line of code above.\n",
        "# it is included because there are white spaces in the original\n",
        "# string and the set required is the set of consonants. \n",
        "\n",
        "print(new_set)"
      ],
      "execution_count": null,
      "outputs": []
    },
    {
      "cell_type": "markdown",
      "metadata": {
        "id": "7th2XbeW5NxF",
        "colab_type": "text"
      },
      "source": [
        "You can iterate over the elements of a set."
      ]
    },
    {
      "cell_type": "code",
      "metadata": {
        "id": "Tc_xYMfU5Tbv",
        "colab_type": "code",
        "colab": {}
      },
      "source": [
        "# print the elements of z \n",
        "\n",
        "for element in z:\n",
        "\n",
        "  print(element)"
      ],
      "execution_count": null,
      "outputs": []
    },
    {
      "cell_type": "markdown",
      "metadata": {
        "id": "posPnbyOIPYb",
        "colab_type": "text"
      },
      "source": [
        "Set operations:\n",
        "\n",
        "\n",
        "1.  Test for membership\n",
        "2.  Test for subset\n",
        "3.  Union\n",
        "4.  Intersection \n",
        "5.  Difference\n",
        "6.  Test for disjoint\n",
        "\n"
      ]
    },
    {
      "cell_type": "markdown",
      "metadata": {
        "id": "j4RUY50yKIDk",
        "colab_type": "text"
      },
      "source": [
        "We will use the following sets to illustrate these operations."
      ]
    },
    {
      "cell_type": "code",
      "metadata": {
        "id": "zXU72ZXyI5H2",
        "colab_type": "code",
        "colab": {}
      },
      "source": [
        "A = {1, 2, 3}\n",
        "B = {1, 2, 3, 4, 5}\n",
        "C = {6, 7, 9, 3}\n",
        "D = {6, 7, 9}"
      ],
      "execution_count": null,
      "outputs": []
    },
    {
      "cell_type": "code",
      "metadata": {
        "id": "5ocKwk1DI6oJ",
        "colab_type": "code",
        "colab": {}
      },
      "source": [
        "# test for membership\n",
        "\n",
        "truth_val = 3 in A # three is a member of set A\n",
        "print(truth_val)"
      ],
      "execution_count": null,
      "outputs": []
    },
    {
      "cell_type": "code",
      "metadata": {
        "colab_type": "code",
        "id": "JSgII5oNLQrY",
        "colab": {}
      },
      "source": [
        "# test for membership\n",
        "\n",
        "truth_val = 3 not in A # three is not a member of set A \n",
        "print(truth_val)"
      ],
      "execution_count": null,
      "outputs": []
    },
    {
      "cell_type": "code",
      "metadata": {
        "colab_type": "code",
        "id": "hP2vTwzpLlA6",
        "colab": {}
      },
      "source": [
        "# test for subset\n",
        "\n",
        "truth_val = A.issubset(B) # A is a subset of B\n",
        "print(truth_val)"
      ],
      "execution_count": null,
      "outputs": []
    },
    {
      "cell_type": "code",
      "metadata": {
        "colab_type": "code",
        "id": "HuaheVMGMIeI",
        "colab": {}
      },
      "source": [
        "# test for subset\n",
        "\n",
        "truth_val = not A.issubset(B) # A is not a subset of B\n",
        "print(truth_val)"
      ],
      "execution_count": null,
      "outputs": []
    },
    {
      "cell_type": "code",
      "metadata": {
        "id": "k07NemzpMO23",
        "colab_type": "code",
        "colab": {}
      },
      "source": [
        "# test for subset\n",
        "\n",
        "truth_val = B.issuperset(A) # B is a superset of A\n",
        "print(truth_val)"
      ],
      "execution_count": null,
      "outputs": []
    },
    {
      "cell_type": "code",
      "metadata": {
        "id": "l8A3N2HuNDOo",
        "colab_type": "code",
        "colab": {}
      },
      "source": [
        "# set union\n",
        "\n",
        "new_set = A.union(B) # A union B -> (A | B)\n",
        "print(new_set)"
      ],
      "execution_count": null,
      "outputs": []
    },
    {
      "cell_type": "code",
      "metadata": {
        "colab_type": "code",
        "id": "OUClUVEJNfxw",
        "colab": {}
      },
      "source": [
        "# set union\n",
        "\n",
        "new_set = A.union(B,C) # A union B union C -> (A | B | C)\n",
        "print(new_set)"
      ],
      "execution_count": null,
      "outputs": []
    },
    {
      "cell_type": "code",
      "metadata": {
        "colab_type": "code",
        "id": "0rtyl4LzNlnW",
        "colab": {}
      },
      "source": [
        "# set union\n",
        "\n",
        "new_set = A.intersection(B) # A intersection B -> (A & B)\n",
        "print(new_set)"
      ],
      "execution_count": null,
      "outputs": []
    },
    {
      "cell_type": "code",
      "metadata": {
        "colab_type": "code",
        "id": "9Hvwf0mcOJ5c",
        "colab": {}
      },
      "source": [
        "# set difference\n",
        "\n",
        "new_set = B.difference(A) # B difference A -> (B - A) -> elements in B but not in A\n",
        "print(new_set)"
      ],
      "execution_count": null,
      "outputs": []
    },
    {
      "cell_type": "code",
      "metadata": {
        "colab_type": "code",
        "id": "MypD50B7Q7R3",
        "colab": {}
      },
      "source": [
        "# symmetric set difference\n",
        "\n",
        "# B symmetric difference C -> (B ^ C) -> elements in B or C but not both\n",
        "\n",
        "new_set = B.symmetric_difference(C) \n",
        "print(new_set)"
      ],
      "execution_count": null,
      "outputs": []
    },
    {
      "cell_type": "code",
      "metadata": {
        "colab_type": "code",
        "id": "UTOQHxnXTQqz",
        "colab": {}
      },
      "source": [
        "# test for disjoint\n",
        "\n",
        "truth_val = B.isdisjoint(D) # B and D have no elements in common\n",
        "print(truth_val)"
      ],
      "execution_count": null,
      "outputs": []
    },
    {
      "cell_type": "markdown",
      "metadata": {
        "id": "YeBTuS6kgJJT",
        "colab_type": "text"
      },
      "source": [
        "# Lists\n",
        "\n",
        "\n",
        "---\n",
        "\n",
        "A list is a mutable ordered sequence of elements (mixed or otherwise) in Python. "
      ]
    },
    {
      "cell_type": "markdown",
      "metadata": {
        "colab_type": "text",
        "id": "_F7sOHMumwCZ"
      },
      "source": [
        "A list is created by enclosing its elements in a square bracket `[ ]` or invoking the `list()` command on a set. "
      ]
    },
    {
      "cell_type": "code",
      "metadata": {
        "id": "wOo5mtdHpFUA",
        "colab_type": "code",
        "colab": {}
      },
      "source": [
        "new_list = [6, 8, 9] # create list from scratch\n",
        "print(new_list)"
      ],
      "execution_count": null,
      "outputs": []
    },
    {
      "cell_type": "code",
      "metadata": {
        "id": "Nsxr7Gd2pbFQ",
        "colab_type": "code",
        "colab": {}
      },
      "source": [
        "new_set = {'a', 'e', 'i', 'u'} \n",
        "new_list = list(new_set)  # convert set to list\n",
        "print(new_list)"
      ],
      "execution_count": null,
      "outputs": []
    },
    {
      "cell_type": "markdown",
      "metadata": {
        "colab_type": "text",
        "id": "0QEh0wvoqIIy"
      },
      "source": [
        "Like sets, you can build a new list from an existing list or lists using a single line of code. This is **called list comprehension**."
      ]
    },
    {
      "cell_type": "code",
      "metadata": {
        "id": "UTMoajmnqc7c",
        "colab_type": "code",
        "colab": {}
      },
      "source": [
        "# generate a list of squares of numbers between zero and 10 inclusive\n",
        "\n",
        "original_list = list(range(11)) # list of numbers between 0 and 10 inclusive\n",
        "new_list = [x**2 for x in original_list] # generate list of squares\n",
        "print(new_list)"
      ],
      "execution_count": null,
      "outputs": []
    },
    {
      "cell_type": "code",
      "metadata": {
        "id": "D6ec0xB3rNNX",
        "colab_type": "code",
        "colab": {}
      },
      "source": [
        "i = [-9, 0, 6, 4]\n",
        "j = [0, 1, 2, 3]\n",
        "\n",
        "# create a new list that is equivalent to i + j\n",
        "\n",
        "new_list = [sum(y) for y in zip(i,j)]\n",
        "\n",
        "# the zip() function in the line of code above creates \n",
        "# pairs of corresponding elements of i and j as shown below:\n",
        "# ((-9,0), (0,1), (6,2), (4,3)) \n",
        "\n",
        "print(new_list)"
      ],
      "execution_count": null,
      "outputs": []
    },
    {
      "cell_type": "markdown",
      "metadata": {
        "id": "2IHBis1ttzoJ",
        "colab_type": "text"
      },
      "source": [
        "Like sets, you can iterate over lists. "
      ]
    },
    {
      "cell_type": "code",
      "metadata": {
        "id": "c55KLcZit4mM",
        "colab_type": "code",
        "colab": {}
      },
      "source": [
        "# print the elements of [-9, 0, 6, 4]\n",
        "\n",
        "for z in [-9, 0, 6, 4]:\n",
        "  \n",
        "  print(z)"
      ],
      "execution_count": null,
      "outputs": []
    },
    {
      "cell_type": "code",
      "metadata": {
        "colab_type": "code",
        "id": "hZDjvBHBvnid",
        "colab": {}
      },
      "source": [
        "# print the elements of [-9, 0, 6, 4] and their position\n",
        "\n",
        "for position,element in enumerate([-9, 0, 6, 4]):\n",
        "  \n",
        "  print(\"Position = {} Element = {}\".format(position, element))"
      ],
      "execution_count": null,
      "outputs": []
    },
    {
      "cell_type": "markdown",
      "metadata": {
        "id": "pVtmuTRkxAI5",
        "colab_type": "text"
      },
      "source": [
        "Common list operations: \n",
        "\n",
        "\n",
        "1.   `copy()`\n",
        "2.   `index()`\n",
        "3.   `count()`\n",
        "4.   `append()`\n",
        "5.   `extend()`\n",
        "6.    `pop()`\n",
        "7.    `sort()`\n",
        "8.   ` reverse()`\n",
        "\n"
      ]
    },
    {
      "cell_type": "code",
      "metadata": {
        "id": "a311jY8s1fNK",
        "colab_type": "code",
        "colab": {}
      },
      "source": [
        "A = [-9, 0, 6, 4] \n",
        "B = A # get a new list from A using direct assignment\n",
        "B[2] = 10 # replace third element of B 10\n",
        "\n",
        "print(\"A = {}\".format(A))\n",
        "print(\"B = {}\".format(B))"
      ],
      "execution_count": null,
      "outputs": []
    },
    {
      "cell_type": "markdown",
      "metadata": {
        "id": "Hp9JHZ5d2IiI",
        "colab_type": "text"
      },
      "source": [
        "You will notice that **A** has been modified as well, even though we only physically modified **B**."
      ]
    },
    {
      "cell_type": "code",
      "metadata": {
        "colab_type": "code",
        "id": "gqnfMcFF2oqF",
        "colab": {}
      },
      "source": [
        "# use shallow copying, to prevent the inadvertant binding of assigned variables. \n",
        "\n",
        "A = [-9, 0, 6, 4] \n",
        "B = A.copy() # get a new list from A using shallow copying\n",
        "B[2] = 10 # replace third element of B 10\n",
        "\n",
        "print(\"A = {}\".format(A))\n",
        "print(\"B = {}\".format(B))"
      ],
      "execution_count": null,
      "outputs": []
    },
    {
      "cell_type": "code",
      "metadata": {
        "colab_type": "code",
        "id": "bXs0scNA3G6y",
        "colab": {}
      },
      "source": [
        "# use shallow copying on a nested list\n",
        "\n",
        "A = [-9, [4, 's', 't', 7], 6, 4] \n",
        "B = A.copy() # get a new list from A using shallow copying\n",
        "B[1][1] = 10 # replace second element of the second element of B\n",
        "\n",
        "print(\"A = {}\".format(A))\n",
        "print(\"B = {}\".format(B))"
      ],
      "execution_count": null,
      "outputs": []
    },
    {
      "cell_type": "markdown",
      "metadata": {
        "id": "4YWocprW3gDM",
        "colab_type": "text"
      },
      "source": [
        "You will notice that **A** has been modified as well, even though we only physically modified **B** via shallow copying. "
      ]
    },
    {
      "cell_type": "code",
      "metadata": {
        "colab_type": "code",
        "id": "xqXNqzed3o4g",
        "colab": {}
      },
      "source": [
        "# use deep copying on a nested list\n",
        "\n",
        "from copy import deepcopy\n",
        "\n",
        "A = [-9, [4, 's', 't', 7], 6, 4] \n",
        "B = deepcopy(A) # get a new list from A using deep copying\n",
        "B[1][1] = 10 # replace second element of the second element of B\n",
        "\n",
        "print(\"A = {}\".format(A))\n",
        "print(\"B = {}\".format(B))"
      ],
      "execution_count": null,
      "outputs": []
    },
    {
      "cell_type": "markdown",
      "metadata": {
        "id": "7LavRk9b34EP",
        "colab_type": "text"
      },
      "source": [
        "**Rule-of-thumb**: Always use shallow copying to assign simple lists to new variables and deep copying for nested lists. "
      ]
    },
    {
      "cell_type": "markdown",
      "metadata": {
        "id": "vAiq-LX64Y1w",
        "colab_type": "text"
      },
      "source": [
        "Counting the number of times an element occurs in a list. "
      ]
    },
    {
      "cell_type": "code",
      "metadata": {
        "id": "6kQy1yWf4nKX",
        "colab_type": "code",
        "colab": {}
      },
      "source": [
        "test_list = [9,1,0,0,1,2,3,4,5,1,0]\n",
        "test_list.count(1) # count number of times 1 occurs in test_list"
      ],
      "execution_count": null,
      "outputs": []
    },
    {
      "cell_type": "markdown",
      "metadata": {
        "colab_type": "text",
        "id": "NrnSkl4FGnVj"
      },
      "source": [
        "Determining the position of the first occurence of an element in a list. "
      ]
    },
    {
      "cell_type": "code",
      "metadata": {
        "colab_type": "code",
        "id": "3Bt7P4atG7uR",
        "colab": {}
      },
      "source": [
        "test_list.index(0) # locate the first occurrence of 0"
      ],
      "execution_count": null,
      "outputs": []
    },
    {
      "cell_type": "code",
      "metadata": {
        "id": "WOn7Mh8vIRSc",
        "colab_type": "code",
        "colab": {}
      },
      "source": [
        "test_list = [9,1,0,0,1,2,3,4,5,1,0]\n",
        "\n",
        "# replace all occurrences of 0 in test_list with -0.7\n",
        "\n",
        "# to achieve this, recursively loop over the list replacing \n",
        "# the first occurrences of 0 until they have all been replaced\n",
        "\n",
        "while True: \n",
        "\n",
        "# put index check syntax in try block so that when all occurrences of zero have\n",
        "# been replaced, an exception is thrown, which is handled to break the while loop\n",
        "\n",
        "  try:\n",
        "\n",
        "    index_of_zero = test_list.index(0) \n",
        "    test_list[index_of_zero] = -0.7\n",
        "\n",
        "  except:\n",
        "\n",
        "    break\n",
        "\n",
        "print(test_list)"
      ],
      "execution_count": null,
      "outputs": []
    },
    {
      "cell_type": "markdown",
      "metadata": {
        "id": "fh0djNY3Mu8e",
        "colab_type": "text"
      },
      "source": [
        "The elements of a list can be sorted. "
      ]
    },
    {
      "cell_type": "code",
      "metadata": {
        "id": "7bAe9QnQMzfT",
        "colab_type": "code",
        "colab": {}
      },
      "source": [
        "# sort list in ascending order (default for sort())\n",
        "\n",
        "test_list = [9, 0, 4, 1]\n",
        "test_list.sort() \n",
        "print(test_list)"
      ],
      "execution_count": null,
      "outputs": []
    },
    {
      "cell_type": "code",
      "metadata": {
        "colab_type": "code",
        "id": "-FWn9M84NucK",
        "colab": {}
      },
      "source": [
        "# sort list in descending order (default for sort())\n",
        "\n",
        "test_list = [9, 0, 4, 1]\n",
        "test_list.sort(reverse=True) \n",
        "print(test_list)"
      ],
      "execution_count": null,
      "outputs": []
    },
    {
      "cell_type": "markdown",
      "metadata": {
        "id": "cwu_jdumT4VZ",
        "colab_type": "text"
      },
      "source": [
        "Note that `sort()` modifies the original list and does not return a new list. If you want <br>a new list to be returned and keep the original list intact, use `sorted()` instead."
      ]
    },
    {
      "cell_type": "markdown",
      "metadata": {
        "id": "LyBXdxkdN24t",
        "colab_type": "text"
      },
      "source": [
        "The elements of a list can be reversed (without being sorted). "
      ]
    },
    {
      "cell_type": "code",
      "metadata": {
        "colab_type": "code",
        "id": "GVemRnLUOQVU",
        "colab": {}
      },
      "source": [
        "# reverse the elements of test_list\n",
        "\n",
        "test_list = [9, 0, 4, 1]\n",
        "test_list.reverse() \n",
        "print(test_list)"
      ],
      "execution_count": null,
      "outputs": []
    },
    {
      "cell_type": "markdown",
      "metadata": {
        "id": "LN_xI0emQF6E",
        "colab_type": "text"
      },
      "source": [
        "You can remove the element at a specific position in a list. "
      ]
    },
    {
      "cell_type": "code",
      "metadata": {
        "colab_type": "code",
        "id": "u5k0hPOMQqmg",
        "colab": {}
      },
      "source": [
        "# remove the second element from the list below:\n",
        "\n",
        "test_list = [9, 0, 4, 1]\n",
        "element = test_list.pop(1) \n",
        "print(element)\n",
        "print(test_list)"
      ],
      "execution_count": null,
      "outputs": []
    },
    {
      "cell_type": "markdown",
      "metadata": {
        "id": "9bSx3YqaRFmo",
        "colab_type": "text"
      },
      "source": [
        "You can append an element to the end of a list. "
      ]
    },
    {
      "cell_type": "code",
      "metadata": {
        "id": "cBW4D_EaRJxg",
        "colab_type": "code",
        "colab": {}
      },
      "source": [
        "# append 5 to the end of the list below:\n",
        "\n",
        "test_list = [9, 0, 4, 1]\n",
        "test_list.append(5)\n",
        "print(test_list)"
      ],
      "execution_count": null,
      "outputs": []
    },
    {
      "cell_type": "markdown",
      "metadata": {
        "colab_type": "text",
        "id": "4bWs6sZvSG2N"
      },
      "source": [
        "You can append a list to the end of another list. "
      ]
    },
    {
      "cell_type": "code",
      "metadata": {
        "colab_type": "code",
        "id": "2U7MERwoSIZF",
        "colab": {}
      },
      "source": [
        "# append 5 to the end of the list below:\n",
        "\n",
        "list1 = [9, 0, 4, 1]\n",
        "list2 = [5, 6]\n",
        "list1.extend(list2)\n",
        "print(list1)\n",
        "print(list2)"
      ],
      "execution_count": null,
      "outputs": []
    },
    {
      "cell_type": "markdown",
      "metadata": {
        "id": "V-0nESETSqXG",
        "colab_type": "text"
      },
      "source": [
        "For further reading visit https://docs.python.org/3/tutorial/datastructures.html. "
      ]
    },
    {
      "cell_type": "markdown",
      "metadata": {
        "id": "Jz4XO4aBS4nf",
        "colab_type": "text"
      },
      "source": [
        "For exercises and practice problems on lists visit https://www.w3resource.com/python-exercises/list/."
      ]
    },
    {
      "cell_type": "markdown",
      "metadata": {
        "id": "ZFN9Oz98UUZ5",
        "colab_type": "text"
      },
      "source": [
        "For excercises and practice problems on sets visit https://www.w3resource.com/python-exercises/sets/. "
      ]
    }
  ]
}