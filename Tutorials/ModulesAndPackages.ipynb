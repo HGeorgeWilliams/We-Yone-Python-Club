{
  "nbformat": 4,
  "nbformat_minor": 0,
  "metadata": {
    "colab": {
      "name": "ModulesAndPackages.ipynb",
      "provenance": [],
      "collapsed_sections": [],
      "authorship_tag": "ABX9TyPqzKCKJIkw9YDj5sv1MIK+",
      "include_colab_link": true
    },
    "kernelspec": {
      "name": "python3",
      "display_name": "Python 3"
    }
  },
  "cells": [
    {
      "cell_type": "markdown",
      "metadata": {
        "id": "view-in-github",
        "colab_type": "text"
      },
      "source": [
        "<a href=\"https://colab.research.google.com/github/HGeorgeWilliams/We-Yone-Python-Club/blob/master/Tutorials/ModulesAndPackages.ipynb\" target=\"_parent\"><img src=\"https://colab.research.google.com/assets/colab-badge.svg\" alt=\"Open In Colab\"/></a>"
      ]
    },
    {
      "cell_type": "markdown",
      "metadata": {
        "id": "ME_OFocM7liO",
        "colab_type": "text"
      },
      "source": [
        "# **Python 101: Importing Modules and Packages**\n",
        "\n",
        "\n"
      ]
    },
    {
      "cell_type": "markdown",
      "metadata": {
        "id": "8r1dpR357-0C",
        "colab_type": "text"
      },
      "source": [
        "# Summary\n",
        "\n",
        "\n",
        "---\n",
        "\n",
        "\n",
        "Building on my last two tutorials on functions (available [here](https://colab.research.google.com/github/HGeorgeWilliams/We-Yone-Python-Club/blob/master/Tutorials/Functions.ipynb) and [here](https://colab.research.google.com/github/HGeorgeWilliams/We-Yone-Python-Club/blob/master/Tutorials/Functions_Part2.ipynb#scrollTo=8r1dpR357-0C)), this tutorial provides an overview <br> of the architectures of modules and packages, their basic characteristics, and how to import them.\n",
        "<br><br>\n",
        "A video recording of this tutorial is available on my [YouTube channel](https://youtu.be/o9Kig68tRF0).\n",
        "<br>\n",
        "<br>\n",
        "Visit my [GitHub page](https://github.com/HGeorgeWilliams/We-Yone-Python-Club) for more tutorials and resources in this series. \n"
      ]
    },
    {
      "cell_type": "markdown",
      "metadata": {
        "id": "Yjprna_A5mzE",
        "colab_type": "text"
      },
      "source": [
        "# Overview of Python Modules\n",
        "\n",
        "\n",
        "---\n",
        "\n"
      ]
    },
    {
      "cell_type": "markdown",
      "metadata": {
        "id": "AcXe-5xy5wJ6",
        "colab_type": "text"
      },
      "source": [
        "A module is Python file (i.e., a file with a **.py** extension) that holds a collection of functions and/or data carrying variables. \n",
        "\n",
        "<br><br>\n",
        "![alt text](https://raw.githubusercontent.com/HGeorgeWilliams/We-Yone-Python-Club/master/Data/module.png) <br><br>\n",
        "\n",
        "The elements of a module are accessed by first **importing** the module and then accessing each element using **dot referencing**. For instance, to access `Function 1` in the architecture above, we use the syntax `Module.Function 1`. Generally, to access the element **element_name** in the module **module_name**, we use the syntax `module_name.element_name`. Here are a few best practices for writing modules and functions:\n",
        "\n",
        "\n",
        "*   Include adequate descriptions in your functions and modules, so that other people can easily understand what do. \n",
        "*   Import statementes for all the modules, packages, and libraries required by the functions in a module should be placed at the top of the module file and before the actual code lines. \n",
        "*   Before importing a module, it should reside in the current directory, the same directory as the module importing it, or in the PYTHONPATH. \n",
        "\n"
      ]
    },
    {
      "cell_type": "markdown",
      "metadata": {
        "id": "4pojBMmgAx4Y",
        "colab_type": "text"
      },
      "source": [
        "For a detailed explanation of these tips, see the video [recording](https://www.youtube.com/watch?v=o9Kig68tRF0&feature=youtu.be) of this session. "
      ]
    },
    {
      "cell_type": "markdown",
      "metadata": {
        "id": "w5jeEXAgB-EN",
        "colab_type": "text"
      },
      "source": [
        "Some sections of this tutorial require two source files that I have prepared. The next two cells download these files from my GitHub repository. <br><br>\n",
        "**Note:** If running this notebook on a desktop-based IDE (Spyder, Pycharm etc.), you are better off downloading all the files in https://github.com/HGeorgeWilliams/We-Yone-Python-Club/tree/master/Tutorials/source_files_aug2 and saving them on your PC."
      ]
    },
    {
      "cell_type": "code",
      "metadata": {
        "colab_type": "code",
        "id": "sssJBGtlICEK",
        "colab": {}
      },
      "source": [
        "import os # import the operating system interface package\n",
        "\n",
        "# import module for downloading files from url\n",
        "# The block of code below installs the module first\n",
        "# if it is is not currently installed\n",
        "\n",
        "try:\n",
        "\n",
        "    import wget \n",
        "\n",
        "except ImportError:\n",
        "  \n",
        "    os.system(\"pip install wget\") \n",
        "    import wget "
      ],
      "execution_count": 1,
      "outputs": []
    },
    {
      "cell_type": "code",
      "metadata": {
        "colab_type": "code",
        "id": "3pvtGRLeIEaI",
        "colab": {}
      },
      "source": [
        "# download source files from GitHub (This cell needs to be run only once)\n",
        "\n",
        "current_directory = os.getcwd() # get current directory\n",
        "os.mkdir('source_files_aug15') # create directory to save files\n",
        "source_file_path = current_directory + '/source_files_aug15'#source file path\n",
        "os.chdir(source_file_path) # make source file folder the working directory\n",
        "\n",
        "# download plotdata.xlsx\n",
        "\n",
        "wget.download('https://github.com/HGeorgeWilliams/We-Yone-Python-Club/' + \n",
        "             'raw/master/Tutorials/source_files_aug2/plotdata.xlsx')\n",
        "\n",
        "# download sample_module1.py \n",
        "\n",
        "wget.download('https://raw.githubusercontent.com/HGeorgeWilliams/We-Yone-Python-Club/'+\n",
        "              'master/Tutorials/source_files_aug2/sample_module1.py')\n",
        "\n",
        "os.chdir(current_directory) # revert to working directory prior to download\n"
      ],
      "execution_count": 2,
      "outputs": []
    },
    {
      "cell_type": "markdown",
      "metadata": {
        "id": "Blg3sGNrxgnn",
        "colab_type": "text"
      },
      "source": [
        "# Modifying the PYTHONPATH\n",
        "\n",
        "---\n",
        "\n"
      ]
    },
    {
      "cell_type": "markdown",
      "metadata": {
        "id": "m0kPzCt32tsS",
        "colab_type": "text"
      },
      "source": [
        "Directories in PYTHONPATH, reside in the path property of the Python's **sys** module. To add a directory,<br> therefore, to PYTHPONPATH, we use the syntax `sys.path.append(full_directory_path)`."
      ]
    },
    {
      "cell_type": "code",
      "metadata": {
        "id": "MwHRytuH4ccu",
        "colab_type": "code",
        "colab": {}
      },
      "source": [
        "import sys "
      ],
      "execution_count": 3,
      "outputs": []
    },
    {
      "cell_type": "code",
      "metadata": {
        "id": "yFzEyyya43vP",
        "colab_type": "code",
        "colab": {}
      },
      "source": [
        "sys.path # get directories in PYTHONPATH"
      ],
      "execution_count": null,
      "outputs": []
    },
    {
      "cell_type": "markdown",
      "metadata": {
        "id": "2XB1XTAZ4m8D",
        "colab_type": "text"
      },
      "source": [
        "Add /content/sample_data to the PYTHONPATH. "
      ]
    },
    {
      "cell_type": "code",
      "metadata": {
        "id": "XGASKhj24e5T",
        "colab_type": "code",
        "colab": {}
      },
      "source": [
        "sys.path.append('/content/sample_data')"
      ],
      "execution_count": 5,
      "outputs": []
    },
    {
      "cell_type": "markdown",
      "metadata": {
        "id": "GkOEeo3z5HzI",
        "colab_type": "text"
      },
      "source": [
        "Now, display the contents of PYTHONPATH again to confirm that /content/sample_data has been added."
      ]
    },
    {
      "cell_type": "code",
      "metadata": {
        "colab_type": "code",
        "id": "t9F82oIF5Q6c",
        "colab": {}
      },
      "source": [
        "sys.path # get directories in PYTHONPATH"
      ],
      "execution_count": null,
      "outputs": []
    },
    {
      "cell_type": "markdown",
      "metadata": {
        "id": "smrUCBGwAS1L",
        "colab_type": "text"
      },
      "source": [
        "# Importing a Module\n",
        "\n",
        "---\n",
        "\n"
      ]
    },
    {
      "cell_type": "markdown",
      "metadata": {
        "id": "ZbfSk5X2AZfb",
        "colab_type": "text"
      },
      "source": [
        "Assuming the module has been added to the PYTHONPATH, it can be imported via the syntax `import module_name`. <br><br>\n",
        "Now, let's import the module **sample_module1** we downloaded earlier (note that it resides in the folder **source_files_aug15**)."
      ]
    },
    {
      "cell_type": "code",
      "metadata": {
        "id": "CdSXsj6rEHiA",
        "colab_type": "code",
        "colab": {}
      },
      "source": [
        "# add directory holding module to PYTHONPATH\n",
        "\n",
        "module_directory = '/content/source_files_aug15' \n",
        "sys.path.append(module_directory)"
      ],
      "execution_count": 7,
      "outputs": []
    },
    {
      "cell_type": "code",
      "metadata": {
        "id": "ryBHwkt5Edwy",
        "colab_type": "code",
        "colab": {}
      },
      "source": [
        "# import module\n",
        "\n",
        "import sample_module1"
      ],
      "execution_count": 9,
      "outputs": []
    },
    {
      "cell_type": "code",
      "metadata": {
        "id": "NyXTL69hEpXo",
        "colab_type": "code",
        "colab": {}
      },
      "source": [
        "# check that module has been imported (option 1)\n",
        "\n",
        "sample_module1"
      ],
      "execution_count": null,
      "outputs": []
    },
    {
      "cell_type": "markdown",
      "metadata": {
        "id": "-Ole7LeVE9px",
        "colab_type": "text"
      },
      "source": [
        "If the import is successful, you should see this `<module 'sample_module1' from 'module_directory/sample_module1.py'>`, <br>where `module_directory` is the path to the directory holding the module. Once the module is imported, its content can be accessed. "
      ]
    },
    {
      "cell_type": "code",
      "metadata": {
        "colab_type": "code",
        "id": "Bq9RpWC1GZhC",
        "colab": {}
      },
      "source": [
        "# check that module has been imported (option 2)\n",
        "\n",
        "dir()"
      ],
      "execution_count": null,
      "outputs": []
    },
    {
      "cell_type": "markdown",
      "metadata": {
        "id": "y9ceGY4PGgjN",
        "colab_type": "text"
      },
      "source": [
        "The syntax above lists all the names in the local namespace, which should include the module, if the import is successful. "
      ]
    },
    {
      "cell_type": "markdown",
      "metadata": {
        "id": "s7WPC5SvG3kC",
        "colab_type": "text"
      },
      "source": [
        "Invoke the function `quadratic_root_calculator`: "
      ]
    },
    {
      "cell_type": "code",
      "metadata": {
        "id": "Me3djTfEG67J",
        "colab_type": "code",
        "colab": {}
      },
      "source": [
        "x,y = sample_module1.quadratic_root_calculator(a = 2, b = 8, c = 3) # call function"
      ],
      "execution_count": null,
      "outputs": []
    },
    {
      "cell_type": "markdown",
      "metadata": {
        "colab_type": "text",
        "id": "tHFqAOieHzJS"
      },
      "source": [
        "Invoke the function `plot_chart`:"
      ]
    },
    {
      "cell_type": "code",
      "metadata": {
        "id": "f3Dok8fDIBGv",
        "colab_type": "code",
        "colab": {}
      },
      "source": [
        "file_path1 = '/content/source_files_aug15/plotdata.xlsx' \n",
        "sample_module1.plot_chart(file_path = file_path1, chart_type = 'pie') #  call function"
      ],
      "execution_count": null,
      "outputs": []
    },
    {
      "cell_type": "markdown",
      "metadata": {
        "id": "NR0ryKs3I_HK",
        "colab_type": "text"
      },
      "source": [
        "Retrieve the data stored in **test_variable**:"
      ]
    },
    {
      "cell_type": "code",
      "metadata": {
        "id": "SUlTX-r7JGpw",
        "colab_type": "code",
        "colab": {}
      },
      "source": [
        "data = sample_module1.test_variable\n",
        "print(data)"
      ],
      "execution_count": null,
      "outputs": []
    },
    {
      "cell_type": "markdown",
      "metadata": {
        "id": "cbvlhde-JiOj",
        "colab_type": "text"
      },
      "source": [
        "A module can be imported and assigned to an alias. In that case, the alias is what is used to access the elements of the module. "
      ]
    },
    {
      "cell_type": "code",
      "metadata": {
        "id": "3EzUY4owKyJu",
        "colab_type": "code",
        "colab": {}
      },
      "source": [
        "# delete sample_module1 from local namespace (for illustrative purposes only)\n",
        "\n",
        "del sample_module1 "
      ],
      "execution_count": null,
      "outputs": []
    },
    {
      "cell_type": "code",
      "metadata": {
        "id": "BUw0dr46J5LO",
        "colab_type": "code",
        "colab": {}
      },
      "source": [
        "import sample_module1 as sm1"
      ],
      "execution_count": 20,
      "outputs": []
    },
    {
      "cell_type": "code",
      "metadata": {
        "colab_type": "code",
        "id": "AZzww8swKa8k",
        "colab": {}
      },
      "source": [
        "x,y = sm1.quadratic_root_calculator(a = 2, b = 8, c = 3) # call function using alias"
      ],
      "execution_count": null,
      "outputs": []
    },
    {
      "cell_type": "markdown",
      "metadata": {
        "id": "Xqc8mKkZLMhg",
        "colab_type": "text"
      },
      "source": [
        "Run function again but now using the actual module name:"
      ]
    },
    {
      "cell_type": "code",
      "metadata": {
        "colab_type": "code",
        "id": "hnWqxM6ILFDR",
        "colab": {}
      },
      "source": [
        "x,y = sample_module1.quadratic_root_calculator(a = 2, b = 8, c = 3) # call function"
      ],
      "execution_count": null,
      "outputs": []
    },
    {
      "cell_type": "markdown",
      "metadata": {
        "id": "KR1-Hq9uLIph",
        "colab_type": "text"
      },
      "source": [
        "You should see this response: `name 'sample_module1' is not defined`. That is because the module was imported as an alias. "
      ]
    },
    {
      "cell_type": "markdown",
      "metadata": {
        "id": "AAx5tYFcJX4p",
        "colab_type": "text"
      },
      "source": [
        "# Importing Individual Elements of a Module\n",
        "\n",
        "\n",
        "---\n",
        "\n"
      ]
    },
    {
      "cell_type": "markdown",
      "metadata": {
        "id": "lZqDToAoJfIH",
        "colab_type": "text"
      },
      "source": [
        "It is possible to import only specific elements of a module. In this case we use the syntax `from module_name import element_name`. "
      ]
    },
    {
      "cell_type": "code",
      "metadata": {
        "id": "VurZcN_oLne-",
        "colab_type": "code",
        "colab": {}
      },
      "source": [
        "from sample_module1 import plot_chart, test_variable "
      ],
      "execution_count": 24,
      "outputs": []
    },
    {
      "cell_type": "markdown",
      "metadata": {
        "id": "USdqjyGpMIWh",
        "colab_type": "text"
      },
      "source": [
        "The statement above imports `plot_chart` and `test_variable` to the local namespace. They can be invoked directly, without **dot referencing**."
      ]
    },
    {
      "cell_type": "code",
      "metadata": {
        "colab_type": "code",
        "id": "6x94OAWCMq61",
        "colab": {}
      },
      "source": [
        "file_path1 = '/content/source_files_aug15/plotdata.xlsx' \n",
        "plot_chart(file_path = file_path1, chart_type = 'pie') #  call function"
      ],
      "execution_count": null,
      "outputs": []
    },
    {
      "cell_type": "code",
      "metadata": {
        "colab_type": "code",
        "id": "Ks8SpDFUMw-n",
        "colab": {}
      },
      "source": [
        "print(test_variable)"
      ],
      "execution_count": null,
      "outputs": []
    },
    {
      "cell_type": "markdown",
      "metadata": {
        "id": "7xdUJ_O3Nf8U",
        "colab_type": "text"
      },
      "source": [
        "Like the module itself, module elements can be assigned to aliases. "
      ]
    },
    {
      "cell_type": "code",
      "metadata": {
        "colab_type": "code",
        "id": "mFVuEij4NxkQ",
        "colab": {}
      },
      "source": [
        "# delete plot_chart and test_variable from local namespace (for illustrative purposes only)\n",
        "\n",
        "del plot_chart, test_variable "
      ],
      "execution_count": 30,
      "outputs": []
    },
    {
      "cell_type": "code",
      "metadata": {
        "colab_type": "code",
        "id": "V4zKyH2wOGDu",
        "colab": {}
      },
      "source": [
        "from sample_module1 import plot_chart as pc, test_variable as tv"
      ],
      "execution_count": 31,
      "outputs": []
    },
    {
      "cell_type": "code",
      "metadata": {
        "colab_type": "code",
        "id": "0BMyctOsOMS7",
        "colab": {}
      },
      "source": [
        "file_path1 = '/content/source_files_aug15/plotdata.xlsx' \n",
        "pc(file_path = file_path1, chart_type = 'pie') #  call function"
      ],
      "execution_count": null,
      "outputs": []
    },
    {
      "cell_type": "code",
      "metadata": {
        "colab_type": "code",
        "id": "W_EO_CMTORuO",
        "colab": {}
      },
      "source": [
        "print(tv)"
      ],
      "execution_count": null,
      "outputs": []
    },
    {
      "cell_type": "markdown",
      "metadata": {
        "id": "tlyYzqBiOUJS",
        "colab_type": "text"
      },
      "source": [
        "Rerun the last two cells but with `plot_chart` and `test_variable` instead of `pc` and `tv`. What did you observe?"
      ]
    },
    {
      "cell_type": "markdown",
      "metadata": {
        "id": "fdmL_VNxPQO4",
        "colab_type": "text"
      },
      "source": [
        "To import all the elements of a module, use the syntax `from module_name import *`. This option, however, is strongly frowned at, since any variables in the local namespace with the same name as an element in the module are overwritten. "
      ]
    },
    {
      "cell_type": "code",
      "metadata": {
        "id": "0u3-0N9aQILq",
        "colab_type": "code",
        "colab": {}
      },
      "source": [
        "test_variable = 9 # set test_variable to some value"
      ],
      "execution_count": 38,
      "outputs": []
    },
    {
      "cell_type": "code",
      "metadata": {
        "id": "gymI2GUPQQrX",
        "colab_type": "code",
        "colab": {}
      },
      "source": [
        "from sample_module1 import *"
      ],
      "execution_count": 40,
      "outputs": []
    },
    {
      "cell_type": "code",
      "metadata": {
        "id": "dxdKxxW_QUhK",
        "colab_type": "code",
        "colab": {}
      },
      "source": [
        "print(test_variable)"
      ],
      "execution_count": null,
      "outputs": []
    },
    {
      "cell_type": "markdown",
      "metadata": {
        "id": "SP-TZsw6Qla0",
        "colab_type": "text"
      },
      "source": [
        "Notice that the previous value of `test_variable` has been overwritten. "
      ]
    },
    {
      "cell_type": "markdown",
      "metadata": {
        "id": "WZ0Ynw1sRS2I",
        "colab_type": "text"
      },
      "source": [
        "# Executing a Module as a Script\n",
        "\n",
        "\n",
        "---\n",
        "\n"
      ]
    },
    {
      "cell_type": "markdown",
      "metadata": {
        "id": "JGuzAB7RTyth",
        "colab_type": "text"
      },
      "source": [
        "You can run a module as a script from the command line via the syntax `python full_path_to_module` or <br>`!python full_path_to_module`, if it is from the interactive Python console. <br><br>\n",
        "![alt text](https://raw.githubusercontent.com/HGeorgeWilliams/We-Yone-Python-Club/master/Data/shell.png)"
      ]
    },
    {
      "cell_type": "code",
      "metadata": {
        "id": "8g-hSSGiR2cF",
        "colab_type": "code",
        "colab": {}
      },
      "source": [
        "!python /content/source_files_aug15/sample_module1.py # replace as deemed applicable"
      ],
      "execution_count": null,
      "outputs": []
    },
    {
      "cell_type": "markdown",
      "metadata": {
        "id": "8PNzD21cV7uT",
        "colab_type": "text"
      },
      "source": [
        "Note, however, that only executable lines of code (those not in functions and classes) will be executed and plots are generally surpressed. <br>\n",
        "If a module contains executable lines of code, these will be executed when the module is imported. To prevent this behaviour, the lines of executable code should be placed in the if block defined by `if __name__ = __main__:`. With this, the executable lines of code are executed only when the module is run from the command line, the interactive Python console, or the editor of an IDE. \n",
        "<br><br>\n",
        "![alt text](https://raw.githubusercontent.com/HGeorgeWilliams/We-Yone-Python-Club/master/Data/executable1.png)"
      ]
    },
    {
      "cell_type": "markdown",
      "metadata": {
        "id": "u_l5P2AAeWtX",
        "colab_type": "text"
      },
      "source": [
        "## Reloading Modules\n",
        "\n",
        "\n",
        "---\n",
        "\n",
        "If a the contents of a module are modified after being imported, the module would have to be reloaded for the modification to take effect. Please note that re-importing the module doesn't make any difference because Python imports a module once, in a given session. "
      ]
    },
    {
      "cell_type": "code",
      "metadata": {
        "id": "-9iPkwa9lXqC",
        "colab_type": "code",
        "colab": {}
      },
      "source": [
        "import sample_module1 "
      ],
      "execution_count": 46,
      "outputs": []
    },
    {
      "cell_type": "code",
      "metadata": {
        "colab_type": "code",
        "id": "o4bdhadnmjhE",
        "colab": {}
      },
      "source": [
        "x,y = sample_module1.quadratic_root_calculator(a = 2, b = 8, c = 3) # call function using alias"
      ],
      "execution_count": null,
      "outputs": []
    },
    {
      "cell_type": "markdown",
      "metadata": {
        "id": "ukovOuzsjgjT",
        "colab_type": "text"
      },
      "source": [
        "Modify line 114 of **sample_module.py** by changing the plot color from **red** to **blue** and save your changes. "
      ]
    },
    {
      "cell_type": "markdown",
      "metadata": {
        "id": "hSo1WWzPnvko",
        "colab_type": "text"
      },
      "source": [
        "Rerun the the last two cells again. What did you notice?"
      ]
    },
    {
      "cell_type": "code",
      "metadata": {
        "id": "pFzB21kBjVv-",
        "colab_type": "code",
        "colab": {}
      },
      "source": [
        "import importlib"
      ],
      "execution_count": 49,
      "outputs": []
    },
    {
      "cell_type": "code",
      "metadata": {
        "id": "Rdy8_IFsjcIP",
        "colab_type": "code",
        "colab": {}
      },
      "source": [
        "importlib.reload(sample_module1)"
      ],
      "execution_count": null,
      "outputs": []
    },
    {
      "cell_type": "code",
      "metadata": {
        "colab_type": "code",
        "id": "p_M8-AOUnKxN",
        "colab": {}
      },
      "source": [
        "x,y = sample_module1.quadratic_root_calculator(a = 2, b = 8, c = 3) # call function using alias"
      ],
      "execution_count": null,
      "outputs": []
    },
    {
      "cell_type": "markdown",
      "metadata": {
        "id": "Lr0-WVRLn5Xo",
        "colab_type": "text"
      },
      "source": [
        "What did you notice?"
      ]
    },
    {
      "cell_type": "markdown",
      "metadata": {
        "id": "3tsCPt0OoDsV",
        "colab_type": "text"
      },
      "source": [
        "# Python Packages\n",
        "\n",
        "\n",
        "---\n",
        "A package is a collection of modules and sometimes, subpackages. These modules and <br> subpackages are imported and accessed the same way module functions are accessed. \n",
        "\n",
        "![alt text](https://raw.githubusercontent.com/HGeorgeWilliams/We-Yone-Python-Club/master/Data/package.png)\n",
        "\n",
        "For instance, `Function 1` in `Module 1` is accessed via the syntax `Package.Module 1.Function 1`. Similarly, `Function n` in `Module 1` of `Subpackage` is accessed via the syntax `Package.Subpackage.Module 1.Function n`. "
      ]
    },
    {
      "cell_type": "markdown",
      "metadata": {
        "id": "SocmsAzMr4N_",
        "colab_type": "text"
      },
      "source": [
        "We will use the `matplotlib` library to illustrate how package importing works in Python. "
      ]
    },
    {
      "cell_type": "code",
      "metadata": {
        "id": "1RRx_qz3shqw",
        "colab_type": "code",
        "colab": {}
      },
      "source": [
        "import matplotlib as mpl # import matplotlib as an alias"
      ],
      "execution_count": 52,
      "outputs": []
    },
    {
      "cell_type": "code",
      "metadata": {
        "id": "HK2XTzHWwODv",
        "colab_type": "code",
        "colab": {}
      },
      "source": [
        "print(mpl) # display info on mpl"
      ],
      "execution_count": null,
      "outputs": []
    },
    {
      "cell_type": "markdown",
      "metadata": {
        "id": "dRS1vkczueOR",
        "colab_type": "text"
      },
      "source": [
        "To see the subpackages and modules of matplotlib, type `mpl.` and pause, a popup window will appear with a list of modules and subpackages.<br><br>\n",
        "![](https://raw.githubusercontent.com/HGeorgeWilliams/We-Yone-Python-Club/master/Data/popup.png) "
      ]
    },
    {
      "cell_type": "markdown",
      "metadata": {
        "id": "K0t9J04DxcpK",
        "colab_type": "text"
      },
      "source": [
        "Import the **pyplot** module."
      ]
    },
    {
      "cell_type": "code",
      "metadata": {
        "id": "ucQR8U_zsmkJ",
        "colab_type": "code",
        "colab": {}
      },
      "source": [
        "import matplotlib.pyplot as plt "
      ],
      "execution_count": 54,
      "outputs": []
    },
    {
      "cell_type": "code",
      "metadata": {
        "id": "56r3LmAXwc-3",
        "colab_type": "code",
        "colab": {}
      },
      "source": [
        "print(plt) # print info on plt"
      ],
      "execution_count": null,
      "outputs": []
    },
    {
      "cell_type": "code",
      "metadata": {
        "id": "7oZf0SXkvowD",
        "colab_type": "code",
        "colab": {}
      },
      "source": [
        "# access functions in plt\n",
        "\n",
        "print(plt.plot)\n",
        "print(plt.axes)\n",
        "print(plt.bar)"
      ],
      "execution_count": null,
      "outputs": []
    },
    {
      "cell_type": "markdown",
      "metadata": {
        "id": "KYoUXewJw9qM",
        "colab_type": "text"
      },
      "source": [
        "We can import each function directly!"
      ]
    },
    {
      "cell_type": "code",
      "metadata": {
        "id": "s9l9SGgBxCiL",
        "colab_type": "code",
        "colab": {}
      },
      "source": [
        "from matplotlib.pyplot import plot, axes, bar\n",
        "print(plot)\n",
        "print(axes)\n",
        "print(bar)"
      ],
      "execution_count": null,
      "outputs": []
    },
    {
      "cell_type": "code",
      "metadata": {
        "id": "dl6nURLcxlxs",
        "colab_type": "code",
        "colab": {}
      },
      "source": [
        "from matplotlib.pyplot import * # import all the functions in the module pyplot"
      ],
      "execution_count": 58,
      "outputs": []
    },
    {
      "cell_type": "code",
      "metadata": {
        "id": "i6FvRd0IyCBM",
        "colab_type": "code",
        "colab": {}
      },
      "source": [
        "dir() # run dir() command to see the variables in the local namespace"
      ],
      "execution_count": null,
      "outputs": []
    },
    {
      "cell_type": "code",
      "metadata": {
        "id": "ihJ_jOHbyPup",
        "colab_type": "code",
        "colab": {}
      },
      "source": [
        "from matplotlib import pyplot # second way of importing the pyplot module\n",
        "print(pyplot.plot)\n",
        "print(pyplot.axes)\n",
        "print(pyplot.bar)"
      ],
      "execution_count": null,
      "outputs": []
    },
    {
      "cell_type": "code",
      "metadata": {
        "colab_type": "code",
        "id": "Xg6E6Faiyncl",
        "colab": {}
      },
      "source": [
        "from matplotlib import pyplot as plt # third way of importing the pyplot module\n",
        "print(plt.plot)\n",
        "print(plt.axes)\n",
        "print(plt.bar)"
      ],
      "execution_count": null,
      "outputs": []
    }
  ]
}