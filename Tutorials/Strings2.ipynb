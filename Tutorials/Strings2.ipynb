{
  "nbformat": 4,
  "nbformat_minor": 0,
  "metadata": {
    "colab": {
      "name": "Strings2.ipynb",
      "provenance": [],
      "collapsed_sections": [],
      "authorship_tag": "ABX9TyPle+JC/CLHnKT2CmHObS+W",
      "include_colab_link": true
    },
    "kernelspec": {
      "name": "python3",
      "display_name": "Python 3"
    }
  },
  "cells": [
    {
      "cell_type": "markdown",
      "metadata": {
        "id": "view-in-github",
        "colab_type": "text"
      },
      "source": [
        "<a href=\"https://colab.research.google.com/github/HGeorgeWilliams/We-Yone-Python-Club/blob/master/Tutorials/Strings2.ipynb\" target=\"_parent\"><img src=\"https://colab.research.google.com/assets/colab-badge.svg\" alt=\"Open In Colab\"/></a>"
      ]
    },
    {
      "cell_type": "markdown",
      "metadata": {
        "id": "wJPQvquX2h6-",
        "colab_type": "text"
      },
      "source": [
        "# **Python 101: Manipulating and Checking Strings**"
      ]
    },
    {
      "cell_type": "markdown",
      "metadata": {
        "id": "l7ACcaGV2sZW",
        "colab_type": "text"
      },
      "source": [
        "# Summary \n",
        "\n",
        "\n",
        "---\n",
        "\n",
        "\n",
        "Building on the [last tutorial](https://github.com/HGeorgeWilliams/We-Yone-Python-Club/blob/master/Tutorials/Strings1.ipynb) on strings, this tutorial provides a hands-on and step by step overview of the common methods for manipulating strings. Each method is provided with a description of its application in practice. A couple of practical examples and exercises for you to try at home are also included. Some of these examples and exercises would require you to apply everything you have learned about strings in Python, and are, therefore, very stimulating. For the complete list of string methods, visit https://www.w3schools.com/python/python_ref_string.asp. \n",
        "<br>\n",
        "<br>\n",
        "A video of this tutorial is available on my YouTube channel.\n",
        "<br>\n",
        "<br>\n",
        "Visit my [GitHub page](https://github.com/HGeorgeWilliams/We-Yone-Python-Club) for more tutorials and resources in this series. \n"
      ]
    },
    {
      "cell_type": "markdown",
      "metadata": {
        "id": "hX9QVZFTG0eF",
        "colab_type": "text"
      },
      "source": [
        "# String Methods: Usage and Application\n",
        "\n",
        "\n",
        "---\n",
        "\n",
        "\n",
        "\n"
      ]
    },
    {
      "cell_type": "markdown",
      "metadata": {
        "id": "Av_gs8QpHA_I",
        "colab_type": "text"
      },
      "source": [
        "METHOD 1 \n",
        "<br><br>\n",
        "\n",
        "**`strip(char)`**: Removes the characters in the string `char` from the left and right ends of a string (trimming).\n",
        "<br><br>\n",
        "Note that `strip()` is case-sensitive!"
      ]
    },
    {
      "cell_type": "code",
      "metadata": {
        "id": "cNlbbp1106vG",
        "colab_type": "code",
        "colab": {}
      },
      "source": [
        "# Strip H and o from 'Hindolo'\n",
        "\n",
        "string = 'Hindolo'\n",
        "print(string) # print original string\n",
        "print(string.strip('Ho')) # print stripped/trimmed string"
      ],
      "execution_count": null,
      "outputs": []
    },
    {
      "cell_type": "markdown",
      "metadata": {
        "id": "Wwil_PsoMl3J",
        "colab_type": "text"
      },
      "source": [
        "If no character is specified, leading and trailing whitespace are removed."
      ]
    },
    {
      "cell_type": "code",
      "metadata": {
        "id": "Ewdm2dbdJv8u",
        "colab_type": "code",
        "colab": {}
      },
      "source": [
        "# Strip H and o from 'Hindolo'\n",
        "\n",
        "string = ' Hindolo  '\n",
        "print(string) # print original string\n",
        "print(string.strip(' ')) # print stripped/trimmed string"
      ],
      "execution_count": null,
      "outputs": []
    },
    {
      "cell_type": "markdown",
      "metadata": {
        "id": "TeFL6An0OSQ3",
        "colab_type": "text"
      },
      "source": [
        "Possible Applications:\n",
        "1. Memory conservation\n",
        "2. String comparison\n",
        "\n"
      ]
    },
    {
      "cell_type": "code",
      "metadata": {
        "id": "aFlcDOyNa4hl",
        "colab_type": "code",
        "colab": {}
      },
      "source": [
        "# Compare the sizes (in bytes) of stripped and unstripped strings\n",
        "\n",
        "from sys import getsizeof \n",
        "s1=getsizeof(' Hindolo  ') # size of original string\n",
        "s2=getsizeof(' Hindolo  '.strip()) # size of trimmed string\n",
        "\n",
        "# Print sizes of original and trimmed strings on the same line\n",
        "\n",
        "print('Original String Size: {} | '.format(s1), end = '') # print size of original string\n",
        "print('Trimmed String Size: {}'.format(s2)) # print size of trimmed string"
      ],
      "execution_count": null,
      "outputs": []
    },
    {
      "cell_type": "markdown",
      "metadata": {
        "id": "UtQv-zH6PQw_",
        "colab_type": "text"
      },
      "source": [
        "METHOD 2\n",
        "<br><br>\n",
        "**`swapcase()`**: Converts lowercase characters to uppercase and vice versa.\n",
        "<br>\n",
        "**`lower()`**: Converts all uppercase characters to lowercase\n",
        "<br>\n",
        "**`upper()`**: Converts all lowercase characters to uppercase\n",
        "<br>\n",
        "**`islower()`**: Returns True if all the characters are lowercase, otherwise False.\n",
        "<br>\n",
        "**`isupper()`**: Returns True if all the characters are uppercase, otherwise False.\n"
      ]
    },
    {
      "cell_type": "code",
      "metadata": {
        "id": "pWWAsfKb1WrH",
        "colab_type": "code",
        "colab": {}
      },
      "source": [
        "string = 'WeYonePy na we yone Python Club' # original string\n",
        "print('Original String: ' + string) # print original string"
      ],
      "execution_count": null,
      "outputs": []
    },
    {
      "cell_type": "markdown",
      "metadata": {
        "id": "oTjLdo1w91k2",
        "colab_type": "text"
      },
      "source": [
        "Check whether original string is lowercase"
      ]
    },
    {
      "cell_type": "code",
      "metadata": {
        "id": "yqlAJK_s99_1",
        "colab_type": "code",
        "colab": {}
      },
      "source": [
        "status_lower = string.islower() # lowercase status of original string\n",
        "print('Lowercase Status of Original String: {}'.format(status_lower)) # print lowercase status of original string"
      ],
      "execution_count": null,
      "outputs": []
    },
    {
      "cell_type": "markdown",
      "metadata": {
        "colab_type": "text",
        "id": "JlZNhdfP-GPW"
      },
      "source": [
        "Check whether original string is uppercase"
      ]
    },
    {
      "cell_type": "code",
      "metadata": {
        "id": "yg-6OIXc-Kth",
        "colab_type": "code",
        "colab": {}
      },
      "source": [
        "status_upper = string.isupper() # uppercase status of original string\n",
        "print('Uppercase Status of Orginal String: {}'.format(status_upper)) # print lowercase status of original string"
      ],
      "execution_count": null,
      "outputs": []
    },
    {
      "cell_type": "markdown",
      "metadata": {
        "id": "PvXiVRr01kFA",
        "colab_type": "text"
      },
      "source": [
        "Swap lowercase and uppercase characters"
      ]
    },
    {
      "cell_type": "code",
      "metadata": {
        "id": "wuK1w1vW9mMU",
        "colab_type": "code",
        "colab": {}
      },
      "source": [
        "string_swap=string.swapcase()  # swap cases\n",
        "print('Swapped Original String: {}'.format(string_swap)) # print swapped string"
      ],
      "execution_count": null,
      "outputs": []
    },
    {
      "cell_type": "markdown",
      "metadata": {
        "id": "vzp4nIor9rrj",
        "colab_type": "text"
      },
      "source": [
        "Convert original string to lowercase"
      ]
    },
    {
      "cell_type": "code",
      "metadata": {
        "id": "Dqt9kXCD9rTV",
        "colab_type": "code",
        "colab": {}
      },
      "source": [
        "string_lower = string.lower() # convert original string to lowercase\n",
        "print('Lowercase String: ' + string_lower) # print lowercase-converted string"
      ],
      "execution_count": null,
      "outputs": []
    },
    {
      "cell_type": "markdown",
      "metadata": {
        "id": "b5lA7PgF-s56",
        "colab_type": "text"
      },
      "source": [
        "Check whether converted string is lowercase"
      ]
    },
    {
      "cell_type": "code",
      "metadata": {
        "id": "Bu99xqDa-42S",
        "colab_type": "code",
        "colab": {}
      },
      "source": [
        "status_lower = string_lower.islower() # lowercase status of lowercase-converted string\n",
        "print('Lowercase Status of Lowercase-Converted String: {}'.format(status_lower)) # print lowercase status of lowercase-converted string"
      ],
      "execution_count": null,
      "outputs": []
    },
    {
      "cell_type": "markdown",
      "metadata": {
        "colab_type": "text",
        "id": "FmOL_gkf_IQG"
      },
      "source": [
        "Check whether converted string is uppercase"
      ]
    },
    {
      "cell_type": "code",
      "metadata": {
        "id": "zZSmBOgq_MNv",
        "colab_type": "code",
        "colab": {}
      },
      "source": [
        "status_upper = string_lower.isupper() # uppercase status of original string\n",
        "print('Uppercase Status of Lowercase-Converted  string: {}'.format(status_upper)) # print uppercase status of lowercase-converted string"
      ],
      "execution_count": null,
      "outputs": []
    },
    {
      "cell_type": "markdown",
      "metadata": {
        "colab_type": "text",
        "id": "c0-oBa5N_B7c"
      },
      "source": [
        "Convert original string to uppercase"
      ]
    },
    {
      "cell_type": "code",
      "metadata": {
        "id": "gGzFsPSq_zWw",
        "colab_type": "code",
        "colab": {}
      },
      "source": [
        "string_upper = string.upper() # convert original string to uppercase\n",
        "print('Uppercase String: ' + string_upper)  # print uppercase-converted string"
      ],
      "execution_count": null,
      "outputs": []
    },
    {
      "cell_type": "markdown",
      "metadata": {
        "colab_type": "text",
        "id": "fEz3e8ei_3pg"
      },
      "source": [
        "Check whether converted string is lowercase"
      ]
    },
    {
      "cell_type": "code",
      "metadata": {
        "id": "94GomQMG_6Bs",
        "colab_type": "code",
        "colab": {}
      },
      "source": [
        "status_lower = string_upper.islower() # lowercase status of lowercase-converted string\n",
        "print('Lowercase Status of Uppercase-Converted String: {}'.format(status_lower)) # print lowercase status of uppercase-converted string"
      ],
      "execution_count": null,
      "outputs": []
    },
    {
      "cell_type": "markdown",
      "metadata": {
        "colab_type": "text",
        "id": "v9zagH3r__lk"
      },
      "source": [
        "Check whether converted string is uppercase"
      ]
    },
    {
      "cell_type": "code",
      "metadata": {
        "id": "18ALG41fK_dK",
        "colab_type": "code",
        "colab": {}
      },
      "source": [
        "status_upper = string_upper.isupper() # uppercase status of original string\n",
        "print('Uppercase Status of Uppercase-Converted  string: {}'.format(status_upper)) # print uppercase status of uppercase-converted string"
      ],
      "execution_count": null,
      "outputs": []
    },
    {
      "cell_type": "markdown",
      "metadata": {
        "colab_type": "text",
        "id": "ILOfAZ8kToQ7"
      },
      "source": [
        "Possible Applications:\n",
        "1. String comparison\n",
        "2. Password validation\n",
        "\n"
      ]
    },
    {
      "cell_type": "markdown",
      "metadata": {
        "colab_type": "text",
        "id": "Gg_eFOEfflX1"
      },
      "source": [
        "METHOD 3\n",
        "<br><br>\n",
        "**`replace(old,new,count)`**: Replaces a susbtring in a string with another string. \n",
        "<br><br>\n",
        "Inputs:\n",
        ">>\n",
        "*old*: Substring to replace (old substring).\n",
        "<br>\n",
        "*new*: Substring to replace old substring.\n",
        "<br>\n",
        "*count*: Number of occurrence of old substring to be replaced (**optional input**).\n"
      ]
    },
    {
      "cell_type": "code",
      "metadata": {
        "id": "8VMKC9efhRpK",
        "colab_type": "code",
        "colab": {}
      },
      "source": [
        "# Edit 'Leone Stars' to 'Leone Starlets'\n",
        "\n",
        "string = 'Leone Stars'\n",
        "new_string = string.replace('Stars','Starlets')\n",
        "print(new_string)"
      ],
      "execution_count": null,
      "outputs": []
    },
    {
      "cell_type": "markdown",
      "metadata": {
        "id": "n7lJuy_ik9b0",
        "colab_type": "text"
      },
      "source": [
        "Note that `replace()` is case-sensitive. "
      ]
    },
    {
      "cell_type": "code",
      "metadata": {
        "id": "PNu38Xn2jTDP",
        "colab_type": "code",
        "colab": {}
      },
      "source": [
        "# Replace the all occurences of 'She' in the sentence \n",
        "# 'She said she sells sea shells on the sea shore' with 'He'\n",
        "\n",
        "string = 'She said she sells sea shells on the sea shore'\n",
        "new_string = string.replace('She','He')\n",
        "print(new_string)"
      ],
      "execution_count": null,
      "outputs": []
    },
    {
      "cell_type": "markdown",
      "metadata": {
        "id": "8R5JL0cym9zR",
        "colab_type": "text"
      },
      "source": [
        "Note how **she** was not replaced."
      ]
    },
    {
      "cell_type": "code",
      "metadata": {
        "colab_type": "code",
        "id": "_rnCV2cUmYmi",
        "colab": {}
      },
      "source": [
        "# Replace the all occurences of 'she' in the sentence \n",
        "# 'She said she sells sea shells on the sea shore' with 'he'\n",
        "\n",
        "string = 'She said she sells sea shells on the sea shore'\n",
        "new_string = string.replace('she','he')\n",
        "print(new_string)"
      ],
      "execution_count": null,
      "outputs": []
    },
    {
      "cell_type": "markdown",
      "metadata": {
        "id": "iJkPt-AMmjM7",
        "colab_type": "text"
      },
      "source": [
        "Note how **shells** has changed to **hells**."
      ]
    },
    {
      "cell_type": "markdown",
      "metadata": {
        "id": "-B3cqfCAlE4V",
        "colab_type": "text"
      },
      "source": [
        "What if we wanted to replace every instance of the female pronoun with its male equivalent?"
      ]
    },
    {
      "cell_type": "code",
      "metadata": {
        "id": "vrFW4l-9lEOx",
        "colab_type": "code",
        "colab": {}
      },
      "source": [
        "string = 'She said she sells sea shells on the sea shore'\n",
        "\n",
        "# Step 1: Replace She to He\n",
        "\n",
        "new_string1 = string.replace('She','He')\n",
        "\n",
        "# Step 2: Replace only the first occurence of 'she' with 'he'\n",
        "\n",
        "new_string2 = new_string1.replace('she','he',1)\n",
        "\n",
        "# Print final string\n",
        "\n",
        "print(new_string2)"
      ],
      "execution_count": null,
      "outputs": []
    },
    {
      "cell_type": "markdown",
      "metadata": {
        "colab_type": "text",
        "id": "I5Uh-5WhxbBw"
      },
      "source": [
        "METHOD 4\n",
        "<br><br>\n",
        "`substring` **`in`** `string`: Returns `True` if `substring` is a susbtring of `string` and `False`, otherwise. \n",
        "<br><br>\n",
        "`substring` **`not in`** `string`: Returns `True` if `substring` is not a susbtring of `string` and `False`, otherwise. \n"
      ]
    },
    {
      "cell_type": "code",
      "metadata": {
        "id": "SGp0GWoB3Rfn",
        "colab_type": "code",
        "colab": {}
      },
      "source": [
        "string = 'Sierra Leone'\n",
        "status1 = 'Sierra' in string # check whether 'Sierra' is a substring of 'Sierra Leone'\n",
        "print(status1)\n",
        "status2 = 'Sierra' not in string # check whether 'Sierra' is not a substring of 'Sierra Leone'\n",
        "print(status2)"
      ],
      "execution_count": null,
      "outputs": []
    },
    {
      "cell_type": "markdown",
      "metadata": {
        "id": "moM_jHym5H2I",
        "colab_type": "text"
      },
      "source": [
        "Possible Applications:\n",
        "\n",
        "\n",
        "1.   String validation\n",
        "\n"
      ]
    },
    {
      "cell_type": "markdown",
      "metadata": {
        "id": "6s2pBqR56zVQ",
        "colab_type": "text"
      },
      "source": [
        "METHOD 5\n",
        "<br><br>\n",
        "**`count(substring,start,end)`**: Counts the number of occurrence of `substring` in a string. \n",
        "<br><br>\n",
        "Inputs\n",
        "\n",
        "\n",
        "1.   *start*: Index from where the search should start (optional). \n",
        "2.   *end*: Inex where the search should end (optional).\n",
        "\n"
      ]
    },
    {
      "cell_type": "code",
      "metadata": {
        "id": "qW7_9ceI7ofY",
        "colab_type": "code",
        "colab": {}
      },
      "source": [
        "string = 'Run mary run, run and catch the ball'\n",
        "\n",
        "# count the number of occurrence of 'run'\n",
        "\n",
        "num_run = string.count('run')\n",
        "print(num_run) # print number of occurrence"
      ],
      "execution_count": null,
      "outputs": []
    },
    {
      "cell_type": "markdown",
      "metadata": {
        "id": "gUnZ97DR-DYt",
        "colab_type": "text"
      },
      "source": [
        "Note how **Run** is not counted."
      ]
    },
    {
      "cell_type": "markdown",
      "metadata": {
        "id": "9GgDxA3t9X18",
        "colab_type": "text"
      },
      "source": [
        "What if we wanted to determine the number of occurrence of Run/run?"
      ]
    },
    {
      "cell_type": "code",
      "metadata": {
        "colab_type": "code",
        "id": "vC2cyE7P9lMj",
        "colab": {}
      },
      "source": [
        "string = 'Run mary run, run and catch the ball'\n",
        "\n",
        "# Step 1: Convert string to lowercase \n",
        "\n",
        "new_string = string.lower() # convert string to lowercase\n",
        "\n",
        "# Step 2: Count occurences of 'run in new_string\n",
        "\n",
        "num_run = new_string.count('run')\n",
        "print(num_run) # print number of occurrence"
      ],
      "execution_count": null,
      "outputs": []
    },
    {
      "cell_type": "markdown",
      "metadata": {
        "colab_type": "text",
        "id": "6bWhNctMBT-s"
      },
      "source": [
        "Possible Applications:\n",
        "\n",
        "\n",
        "1.   String validation\n",
        "\n"
      ]
    },
    {
      "cell_type": "markdown",
      "metadata": {
        "id": "32-Jz0z_CJwf",
        "colab_type": "text"
      },
      "source": [
        "METHOD 6\n",
        "<br><br>\n",
        "**`isspace()`**: Returns `True` if the string is made of only whitespace and `False`, otherwise.\n"
      ]
    },
    {
      "cell_type": "code",
      "metadata": {
        "id": "X8BAGC5RFexH",
        "colab_type": "code",
        "colab": {}
      },
      "source": [
        "print('Thanks'.isspace())\n",
        "print(' '.isspace())"
      ],
      "execution_count": null,
      "outputs": []
    },
    {
      "cell_type": "markdown",
      "metadata": {
        "colab_type": "text",
        "id": "xNCF6FAyFuWb"
      },
      "source": [
        "Possible Applications:\n",
        "\n",
        "\n",
        "1.   String validation\n",
        "\n"
      ]
    },
    {
      "cell_type": "markdown",
      "metadata": {
        "colab_type": "text",
        "id": "dzkt-Hg6F17d"
      },
      "source": [
        "METHOD 7\n",
        "<br><br>\n",
        "**`isalpha()`**: Returns `True` if the string is made of only alphabets and `False`, otherwise.\n"
      ]
    },
    {
      "cell_type": "code",
      "metadata": {
        "id": "pXwRjNeaGhHT",
        "colab_type": "code",
        "colab": {}
      },
      "source": [
        "print('Thanks'.isalpha())\n",
        "print('Thank5'.isspace())"
      ],
      "execution_count": null,
      "outputs": []
    },
    {
      "cell_type": "markdown",
      "metadata": {
        "colab_type": "text",
        "id": "8G4qfy6CJGkb"
      },
      "source": [
        "Possible Applications:\n",
        "\n",
        "\n",
        "1.   String validation\n",
        "\n"
      ]
    },
    {
      "cell_type": "markdown",
      "metadata": {
        "colab_type": "text",
        "id": "QftXIVhaGzGK"
      },
      "source": [
        "METHOD 8\n",
        "<br><br>\n",
        "**`isnumeric()`**: Returns `True` if the string is made of only numbers and `False`, otherwise.\n"
      ]
    },
    {
      "cell_type": "code",
      "metadata": {
        "colab_type": "code",
        "id": "4WcfpiTbHAk8",
        "colab": {}
      },
      "source": [
        "print('1235'.isnumeric())\n",
        "print('Thank5'.isnumeric())"
      ],
      "execution_count": null,
      "outputs": []
    },
    {
      "cell_type": "markdown",
      "metadata": {
        "colab_type": "text",
        "id": "Uo5b-vngJI4O"
      },
      "source": [
        "Possible Applications:\n",
        "\n",
        "\n",
        "1.   String validation\n",
        "\n"
      ]
    },
    {
      "cell_type": "markdown",
      "metadata": {
        "colab_type": "text",
        "id": "bL9-Md8kIFZy"
      },
      "source": [
        "METHOD 9\n",
        "<br><br>\n",
        "**`isalnum()`**: Returns `True` if the string is made of only numbers and/or letters and `False`, otherwise.\n"
      ]
    },
    {
      "cell_type": "code",
      "metadata": {
        "colab_type": "code",
        "id": "GAqxmJyyIKjn",
        "colab": {}
      },
      "source": [
        "print('12rt35'.isalnum())\n",
        "print('1245'.isalnum())\n",
        "print('Thanks'.isalnum())\n",
        "print('Thanks!'.isalnum()) # with non-alphas numeric character"
      ],
      "execution_count": null,
      "outputs": []
    },
    {
      "cell_type": "markdown",
      "metadata": {
        "colab_type": "text",
        "id": "hRkxAa0NJJtD"
      },
      "source": [
        "Possible Applications:\n",
        "\n",
        "\n",
        "1.   String validation\n",
        "2.   Password validation\n",
        "\n"
      ]
    },
    {
      "cell_type": "markdown",
      "metadata": {
        "id": "_ZZDcM4ZmIFs",
        "colab_type": "text"
      },
      "source": [
        "# Further Examples\n",
        "Simple problems based on the concepts covered in this tutorial.\n",
        "\n",
        "---\n",
        "\n"
      ]
    },
    {
      "cell_type": "markdown",
      "metadata": {
        "id": "QCi609h1PqT0",
        "colab_type": "text"
      },
      "source": [
        "> 1. Write a program to replace all occurrence of the first character with '$', except the first character itself. \n",
        "\n",
        ">> Sample: `Church` <br>\n",
        "Result: `Chur$h`"
      ]
    },
    {
      "cell_type": "code",
      "metadata": {
        "id": "4Q6ViwtDQtZt",
        "colab_type": "code",
        "colab": {}
      },
      "source": [
        "input_string = 'Arsenal' # input string\n",
        "\n",
        "# Step 1: Extract first character\n",
        "\n",
        "first_char = input_string[0]\n",
        "\n",
        "# Step 2: Convert input string to lowercase \n",
        "\n",
        "new_string = input_string.lower()\n",
        "\n",
        "# Step 3: Replace occurrences of the first character\n",
        "\n",
        "replaced_string = new_string.replace(first_char.lower(),'$')\n",
        "\n",
        "# Step 4: Build final string \n",
        "\n",
        "final_string = first_char + replaced_string[1:]\n",
        "\n",
        "print(final_string)"
      ],
      "execution_count": null,
      "outputs": []
    },
    {
      "cell_type": "markdown",
      "metadata": {
        "colab_type": "text",
        "id": "s6agPv_RHN9g"
      },
      "source": [
        "> 2. Write a program to capitalize the fourth character of a string if it is a word of at least 4 characters and do nothing, otherwise. \n",
        "\n",
        ">> Samples: `Chelsea`; `Chel5ea`; `yes` <br>\n",
        "Results: `CheLsea`; `Chel5ea`; `yes`"
      ]
    },
    {
      "cell_type": "code",
      "metadata": {
        "id": "90xBDeaiI1LI",
        "colab_type": "code",
        "colab": {}
      },
      "source": [
        "input_string = 'TestString'\n",
        "\n",
        "# check if string is 4 or more characters long\n",
        "\n",
        "if len(input_string) >= 4:\n",
        "\n",
        "  # check if string is made of alphabets only\n",
        "\n",
        "  if input_string.isalpha():\n",
        "\n",
        "    # Step 1: Extract and capitalize 4th character\n",
        "\n",
        "    char4 = input_string[3].upper()\n",
        "\n",
        "    # Step 2: Concatenate first 3 characters of input_string, char4, and 5th to last characters of input_string\n",
        "\n",
        "    output_string = input_string[:3] + char4 + input_string[4:]\n",
        "\n",
        "  else: \n",
        "\n",
        "    output_string = input_string # do nothing to input_string\n",
        "\n",
        "else:\n",
        "  \n",
        "  output_string = input_string # do nothing to input_string\n",
        "\n",
        "print(output_string) # print output string"
      ],
      "execution_count": null,
      "outputs": []
    },
    {
      "cell_type": "markdown",
      "metadata": {
        "id": "gtj6EaqXPUNk",
        "colab_type": "text"
      },
      "source": [
        "Run the previous cell for various instances of input_string."
      ]
    },
    {
      "cell_type": "markdown",
      "metadata": {
        "id": "z8LyF54vlktc",
        "colab_type": "text"
      },
      "source": [
        "# Exercises to try at home\n",
        "\n",
        "\n",
        "---\n",
        "1. Write a program to insert '>>>' in the middle of a string (string must be two or more characters long).\n",
        "\n",
        ">> Samples: `Houses`; `Hoe` <br>\n",
        "Results: `Hou>>>ses`; `H>>>e`"
      ]
    }
  ]
}