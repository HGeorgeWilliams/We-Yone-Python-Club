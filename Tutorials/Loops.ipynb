{
  "nbformat": 4,
  "nbformat_minor": 0,
  "metadata": {
    "colab": {
      "name": "Loops.ipynb",
      "provenance": [],
      "collapsed_sections": [],
      "authorship_tag": "ABX9TyMXXz1riZkhUl3EkWfbSSGY",
      "include_colab_link": true
    },
    "kernelspec": {
      "name": "python3",
      "display_name": "Python 3"
    }
  },
  "cells": [
    {
      "cell_type": "markdown",
      "metadata": {
        "id": "view-in-github",
        "colab_type": "text"
      },
      "source": [
        "<a href=\"https://colab.research.google.com/github/HGeorgeWilliams/We-Yone-Python-Club/blob/master/Tutorials/Loops.ipynb\" target=\"_parent\"><img src=\"https://colab.research.google.com/assets/colab-badge.svg\" alt=\"Open In Colab\"/></a>"
      ]
    },
    {
      "cell_type": "markdown",
      "metadata": {
        "id": "ME_OFocM7liO",
        "colab_type": "text"
      },
      "source": [
        "# **Python 101: Mastering `for` and `while` Loops**\n",
        "\n",
        "\n"
      ]
    },
    {
      "cell_type": "markdown",
      "metadata": {
        "id": "8r1dpR357-0C",
        "colab_type": "text"
      },
      "source": [
        "# Summary\n",
        "This tutorial introduces people with a basic programming experience to the basics of **`for`** and **`while`** loops in Python. It includes a couple of practical examples and exercises for you to try at home. They draw on everything you have learned about strings, sets, and lists, so far.\n",
        "<br>\n",
        "<br>\n",
        "A video of this tutorial is available on my [YouTube channel](https://youtu.be/9e3804NOigM).\n",
        "<br>\n",
        "<br>\n",
        "Visit my [GitHub page](https://github.com/HGeorgeWilliams/We-Yone-Python-Club) for more tutorials and resources in this series. \n"
      ]
    },
    {
      "cell_type": "markdown",
      "metadata": {
        "id": "eqIOqgNy_-9y",
        "colab_type": "text"
      },
      "source": [
        "# What is a `for` Loop?\n",
        "\n",
        "\n",
        "---\n",
        "`for` loops are used for iterating over an *iterable* (an object capable of returning its members one at a time e.g strings, sets, lists, dictionaries, and tuples) and the repetitive execution of a block of code. You do not need an indexing variable for `for` loops.\n"
      ]
    },
    {
      "cell_type": "code",
      "metadata": {
        "id": "TUzzwu3GItji",
        "colab_type": "code",
        "colab": {}
      },
      "source": [
        "# print the elements of a string\n",
        "\n",
        "test_string = 'George' # string to display\n",
        "\n",
        "for x in test_string:\n",
        "  print(x) "
      ],
      "execution_count": null,
      "outputs": []
    },
    {
      "cell_type": "code",
      "metadata": {
        "colab_type": "code",
        "id": "i0ndBprHJm5K",
        "colab": {}
      },
      "source": [
        "# print the elements of a string on the same line, separated by commas\n",
        "\n",
        "test_string = 'George' # string to display\n",
        "\n",
        "for x in test_string:\n",
        "  print(x, end = ',') "
      ],
      "execution_count": null,
      "outputs": []
    },
    {
      "cell_type": "code",
      "metadata": {
        "id": "D0wrv4vTKHNr",
        "colab_type": "code",
        "colab": {}
      },
      "source": [
        "# print the content of ['Kenema','Bo', 'Kono','Makeni','Kabala']\n",
        "\n",
        "data = ['Kenema', 'Bo', 'Kono', 'Makeni', 'Kabala']\n",
        "\n",
        "for x in data:\n",
        "  print(x)"
      ],
      "execution_count": null,
      "outputs": []
    },
    {
      "cell_type": "markdown",
      "metadata": {
        "id": "FaChx_eU0wtl",
        "colab_type": "text"
      },
      "source": [
        "For the preceding example, print the content of the list and their indices. E.g.,\n",
        "\n",
        "<br>\n",
        "\n",
        "```\n",
        "0 -> Kenema\n",
        "1 -> Bo\n",
        "```\n",
        "\n"
      ]
    },
    {
      "cell_type": "code",
      "metadata": {
        "colab_type": "code",
        "id": "mg1seIyoK8m3",
        "colab": {}
      },
      "source": [
        "# print content of ['Kenema','Bo', 'Kono','Makeni','Kabala'] and their indices.\n",
        "\n",
        "data = ['Kenema', 'Bo', 'Kono', 'Makeni', 'Kbala']\n",
        "\n",
        "for i, x in enumerate(data):\n",
        "\n",
        "  # i is the position \n",
        "  # x is the element at position i of the iterable (labelled data in this case)\n",
        "  \n",
        "  string_to_print = '{} -> {}'.format(i,x)  # build string to print\n",
        "  print(string_to_print)  # print string"
      ],
      "execution_count": null,
      "outputs": []
    },
    {
      "cell_type": "markdown",
      "metadata": {
        "id": "MiznTTgnAAOo",
        "colab_type": "text"
      },
      "source": [
        "# Looping Over a Range\n",
        "\n",
        "\n",
        "---\n",
        "\n",
        "Python's `range()` function could be used to loop over a block of code a specified number of times and has the following properties:"
      ]
    },
    {
      "cell_type": "markdown",
      "metadata": {
        "id": "iHlUTQdgFUvJ",
        "colab_type": "text"
      },
      "source": [
        "**`range(n)`**: An iterable range starting at `0` and ending at `n-1`; incrementing by `1` at every step."
      ]
    },
    {
      "cell_type": "code",
      "metadata": {
        "id": "Wmcq4ChbFTPh",
        "colab_type": "code",
        "colab": {}
      },
      "source": [
        "range(6) # range on 0 to 5 inclusive"
      ],
      "execution_count": null,
      "outputs": []
    },
    {
      "cell_type": "code",
      "metadata": {
        "id": "ATOV_fbgFe-o",
        "colab_type": "code",
        "colab": {}
      },
      "source": [
        "list(range(6)) # convert range to list"
      ],
      "execution_count": null,
      "outputs": []
    },
    {
      "cell_type": "code",
      "metadata": {
        "colab_type": "code",
        "id": "KrZk2yroVU9W",
        "colab": {}
      },
      "source": [
        "# print the first 4 elements of the list [9, 7, 'a', 4.4, 0, 'you','go']\n",
        "\n",
        "test_list = [9, 7, 'a', 4.4, 0, 'you','go']\n",
        "\n",
        "# The first 4 elements are those at positions 0, 1, 2, and 3\n",
        "# we loop, therefore, on the range 0 to 3 inclusive, which \n",
        "# means the upper bound for the range() function should be 4\n",
        "\n",
        "for i in range(4):\n",
        "  print(test_list[i])"
      ],
      "execution_count": null,
      "outputs": []
    },
    {
      "cell_type": "markdown",
      "metadata": {
        "id": "rt7uPgO8L55M",
        "colab_type": "text"
      },
      "source": [
        "Note: The length of the iterable cannot be less than the upper index of the range being looped over. <br><br>\n",
        "Replace `[9, 7, 'a', 4.4, 0, 'you','go']` with `[9, 7, 'a']` in the preceding example and run the cell again. "
      ]
    },
    {
      "cell_type": "markdown",
      "metadata": {
        "id": "V9sUt8QBFzXO",
        "colab_type": "text"
      },
      "source": [
        "**`range(m,n)`**: An iterable range starting at `m` and ending at `n-1`; incrementing by `1` at every step."
      ]
    },
    {
      "cell_type": "code",
      "metadata": {
        "id": "an2mGR7dFmnf",
        "colab_type": "code",
        "colab": {}
      },
      "source": [
        "range(2, 6) # range on 2 to 5 inclusive"
      ],
      "execution_count": null,
      "outputs": []
    },
    {
      "cell_type": "code",
      "metadata": {
        "colab_type": "code",
        "id": "tiuEOOfxGk7P",
        "colab": {}
      },
      "source": [
        "list(range(2, 6)) # convert range to list"
      ],
      "execution_count": null,
      "outputs": []
    },
    {
      "cell_type": "code",
      "metadata": {
        "colab_type": "code",
        "id": "Da3yp73SWaS4",
        "colab": {}
      },
      "source": [
        "# using the range() function print the last 4 elements \n",
        "# of the list [9, 7, 'a', 4.4, 0, 'you','go']\n",
        "\n",
        "test_list = [9, 7, 'a', 4.4, 0, 'you', 'go']\n",
        "num_elements = len(test_list) # number of elements in test_list\n",
        "start = num_elements - 4 # start of range; the same as the index of the first of the last 4 elements\n",
        "\n",
        "for i in range(start,num_elements):\n",
        "  print(test_list[i])"
      ],
      "execution_count": null,
      "outputs": []
    },
    {
      "cell_type": "markdown",
      "metadata": {
        "id": "mfEKDOOBGMub",
        "colab_type": "text"
      },
      "source": [
        "**`range(m,n,p)`**: An iterable range starting at `m` and ending at `n-1`; incrementing by `p` at every step."
      ]
    },
    {
      "cell_type": "code",
      "metadata": {
        "colab_type": "code",
        "id": "Q4ucZSs5HyC0",
        "colab": {}
      },
      "source": [
        "range(1, 10, 3) # range on 1 to 9 inclusive at intervals of 3"
      ],
      "execution_count": null,
      "outputs": []
    },
    {
      "cell_type": "code",
      "metadata": {
        "colab_type": "code",
        "id": "EGiAFXQCHyC5",
        "colab": {}
      },
      "source": [
        "list(range(1 , 10, 3)) # convert range to list"
      ],
      "execution_count": null,
      "outputs": []
    },
    {
      "cell_type": "code",
      "metadata": {
        "id": "87zD-IOxZmyw",
        "colab_type": "code",
        "colab": {}
      },
      "source": [
        "# print all odd numbers between 10 and 25 inclusive\n",
        "\n",
        "start = 11 # start of range (Note: start with the first odd number)\n",
        "end = 26 # end of range (Note: go with index above, since the last index is ignored by range())\n",
        "interval = 2 # this ensures that even numbers are skipped\n",
        "\n",
        "for j in range(start,end,interval):\n",
        "  print(j)"
      ],
      "execution_count": null,
      "outputs": []
    },
    {
      "cell_type": "markdown",
      "metadata": {
        "colab_type": "text",
        "id": "sN_7rBTObDww"
      },
      "source": [
        "# Nested `for` Loops\n",
        "\n",
        "\n",
        "---\n",
        "\n",
        "A nested `for` loop is a `for` loop inside a `for` loop."
      ]
    },
    {
      "cell_type": "code",
      "metadata": {
        "id": "uVB9Ae1nbxgd",
        "colab_type": "code",
        "colab": {}
      },
      "source": [
        "# print each element of the nested list [[1,2,3],[4,5],[6,7,8]]\n",
        "\n",
        "nested_list = [[1, 2, 3], [4, 5], [6, 7, 8]]\n",
        "\n",
        "for x in nested_list:\n",
        "\n",
        "  for y in x:\n",
        "    print(y)"
      ],
      "execution_count": null,
      "outputs": []
    },
    {
      "cell_type": "markdown",
      "metadata": {
        "id": "JD4mt_f2dro8",
        "colab_type": "text"
      },
      "source": [
        "Repeat the preceding example without the second `for` loop. "
      ]
    },
    {
      "cell_type": "code",
      "metadata": {
        "colab_type": "code",
        "id": "WDbCk5m-d3je",
        "colab": {}
      },
      "source": [
        "nested_list = [[1, 2, 3], [4, 5], [6, 7, 8]]\n",
        "\n",
        "for x in nested_list:\n",
        "  print(x)"
      ],
      "execution_count": null,
      "outputs": []
    },
    {
      "cell_type": "markdown",
      "metadata": {
        "colab_type": "text",
        "id": "DQEcuvFJeKgU"
      },
      "source": [
        "# `break` Statements in `for` Loops\n",
        "\n",
        "\n",
        "---\n",
        "\n",
        "`break` is used to exit a `for` loop before it is completed, normally on satisfaction of a condition or set of conditions."
      ]
    },
    {
      "cell_type": "code",
      "metadata": {
        "id": "CsFpYpJfe7vX",
        "colab_type": "code",
        "colab": {}
      },
      "source": [
        "# print each element of the simple list ['c', 2 , 3, 'a', 5, 6, 7, 8]\n",
        "# up to and including the element 5\n",
        "\n",
        "test_list = ['c', 2 , 3, 'a', 5, 6, 7, 8] \n",
        "\n",
        "for x in test_list:\n",
        "\n",
        "    print(x)\n",
        "    \n",
        "    if x == 5:\n",
        "      break\n"
      ],
      "execution_count": null,
      "outputs": []
    },
    {
      "cell_type": "code",
      "metadata": {
        "colab_type": "code",
        "id": "576wz8Hdh_79",
        "colab": {}
      },
      "source": [
        "# print each element of the simple list ['c', 2 , 3, 'a', 5, 6, 7, 8]\n",
        "# up to but not including the element 5\n",
        "\n",
        "test_list = ['c', 2 , 3, 'a', 5, 6, 7, 8] \n",
        "\n",
        "for x in test_list:\n",
        "    \n",
        "    if x == 5:\n",
        "      break\n",
        "\n",
        "    print(x)\n"
      ],
      "execution_count": null,
      "outputs": []
    },
    {
      "cell_type": "markdown",
      "metadata": {
        "colab_type": "text",
        "id": "1p0QwMWQiMyO"
      },
      "source": [
        "# `continue` Statements in `for` Loops\n",
        "\n",
        "\n",
        "---\n",
        "\n",
        "`continue` is used to abondon the current iteration and move on to the next, normally on satisfaction of a condition or set of conditions."
      ]
    },
    {
      "cell_type": "code",
      "metadata": {
        "colab_type": "code",
        "id": "lLbb6mm8i2pe",
        "colab": {}
      },
      "source": [
        "# print each element of the simple list ['c', 2 , 3, 'a', 5, 6.6, 7, 8] only if it is an integer\n",
        "\n",
        "test_list = ['c', 2 , 3, 'a', 5, 6.6, 7, 8]\n",
        "\n",
        "for i <= len(test_list):\n",
        "    \n",
        "    if type(x) != int:\n",
        "\n",
        "      continue\n",
        "      \n",
        "    print(x) # executed only if x is an integer\n"
      ],
      "execution_count": null,
      "outputs": []
    },
    {
      "cell_type": "markdown",
      "metadata": {
        "colab_type": "text",
        "id": "wsz4h7vFloda"
      },
      "source": [
        "# `pass` Statements in `for` Loops\n",
        "\n",
        "\n",
        "---\n",
        "\n",
        "`pass` tells Python not to do anything. Used when you want to have empty loops and `if` statements, without getting an error. "
      ]
    },
    {
      "cell_type": "code",
      "metadata": {
        "colab_type": "code",
        "id": "4ZZRFyC2mdKN",
        "colab": {}
      },
      "source": [
        "# print each element of the simple list ['c', 2 , 3, 'a', 5, 6.6, 7, 8] only if it is not a string\n",
        "\n",
        "test_list = ['c', 2 , 3, 'a', 5, 6.6, 7, 8]\n",
        "\n",
        "for x in test_list:\n",
        "    \n",
        "    if type(x) == str:\n",
        "\n",
        "       pass\n",
        "\n",
        "    else: \n",
        "\n",
        "       print(x) # executed only if x is not a string\n"
      ],
      "execution_count": null,
      "outputs": []
    },
    {
      "cell_type": "markdown",
      "metadata": {
        "id": "TS3150Dqm0qB",
        "colab_type": "text"
      },
      "source": [
        "Comment out line 9 and run the cell again. What did you notice?"
      ]
    },
    {
      "cell_type": "markdown",
      "metadata": {
        "colab_type": "text",
        "id": "EBskRv4fnvhw"
      },
      "source": [
        "# What is a `while` Loop?\n",
        "\n",
        "\n",
        "---\n",
        "Like `for` loops, `while` loops are used for iterating over an iterable or execute a block of code repetitively. <br><br>\n",
        "Unlike `for` loops, however, an indexing variable, which needs to be initialised first, is required to make `while` loops advance. <br><br>\n"
      ]
    },
    {
      "cell_type": "code",
      "metadata": {
        "id": "I17jmnYmqoBq",
        "colab_type": "code",
        "colab": {}
      },
      "source": [
        "# print the numbers from 2 to 15 inclusive\n",
        "\n",
        "i = 2 # initialise indexing variable (starts at 2 because we are counting from 2 to 15)\n",
        "\n",
        "while i <= 15:\n",
        "  print(i)\n",
        "  i = i + 1 # increment indexing variable (increment variable only after it has been used)"
      ],
      "execution_count": null,
      "outputs": []
    },
    {
      "cell_type": "code",
      "metadata": {
        "colab_type": "code",
        "id": "dgOCZ5VBpcIA",
        "colab": {}
      },
      "source": [
        "# print the characters of a string\n",
        "\n",
        "test_string = 'George' # string to display\n",
        "i = 0 # initialise indexing variable\n",
        "\n",
        "while i <= len(test_string)-1:\n",
        "  \n",
        "  print(test_string[i]) # print element at position i of test_string\n",
        "  i +=1 # increment indexing variable (increment variable only after it has been used)"
      ],
      "execution_count": null,
      "outputs": []
    },
    {
      "cell_type": "markdown",
      "metadata": {
        "id": "bKmN8UkutHsN",
        "colab_type": "text"
      },
      "source": [
        "You can also have nested `while` loops"
      ]
    },
    {
      "cell_type": "code",
      "metadata": {
        "colab_type": "code",
        "id": "nA6IxvrLtUyo",
        "colab": {}
      },
      "source": [
        "# print each element of the nested list [[1,2,3],[4,5],[6,7,8]]\n",
        "\n",
        "nested_list = [[1, 2, 3], [4, 5], [6, 7, 8]]\n",
        "\n",
        "index1 = 0 # initialise indexing variable of outer loop\n",
        "\n",
        "while index1 <= len(nested_list)-1:\n",
        "\n",
        "  sub_list = nested_list[index1] # element at position index1 of nested_list\n",
        "  index1 += 1 # increment indexing variable for outer loop\n",
        "\n",
        "  index2 = 0 # initialise indexing variable of inner loop\n",
        "\n",
        "  while index2 <= len(sub_list)-1:\n",
        "    print(sub_list[index2]) # print element at position i of sub_list\n",
        "    index2 += 1 # increment indexing variable for inner loop"
      ],
      "execution_count": null,
      "outputs": []
    },
    {
      "cell_type": "markdown",
      "metadata": {
        "colab_type": "text",
        "id": "1UY4-LfNwWDH"
      },
      "source": [
        "# Infinite `while` Loops\n",
        "\n",
        "\n",
        "---\n",
        "An infinite `while` loop runs forever unless interrupted by a `break` statement. It is normally used when we do not know the exact number of times a block of code should be executed. They are implemented by using `while True` or using an index with a fixed value. \n"
      ]
    },
    {
      "cell_type": "code",
      "metadata": {
        "id": "FkNSY7WmzEYZ",
        "colab_type": "code",
        "colab": {}
      },
      "source": [
        "# print randomly generated numbers between 0 and 15 until the number 0 is generated. \n",
        "\n",
        "import random  # import random number generator module\n",
        "\n",
        "while True:\n",
        "\n",
        "  random_number = random.randint(0,15)  # generate random number between 0 and 15\n",
        "  print(random_number)\n",
        "\n",
        "  if random_number == 0:\n",
        "    \n",
        "     break"
      ],
      "execution_count": null,
      "outputs": []
    },
    {
      "cell_type": "markdown",
      "metadata": {
        "id": "Qn1g0x9g1Wuw",
        "colab_type": "text"
      },
      "source": [
        "An index can be included, if you want to count the number of executions before the loop breaks. "
      ]
    },
    {
      "cell_type": "code",
      "metadata": {
        "colab_type": "code",
        "id": "Y2qTfjsh1nmf",
        "colab": {}
      },
      "source": [
        "# print randomly generated numbers between 35 and 100 until \n",
        "# a number greater than 67.5 is obtained. Print the number of executions. \n",
        "\n",
        "counter = 0 # initialise loop execution counter\n",
        "\n",
        "while True: \n",
        "\n",
        "  counter += 1 # increment counter \n",
        "  random_number = random.randint(35,100)  # generate random number between 35 and 100\n",
        "  print(random_number)\n",
        "\n",
        "  if random_number > 67.5:\n",
        "    \n",
        "     break\n",
        "     \n",
        "print('Number of Executions = {}'.format(counter))"
      ],
      "execution_count": null,
      "outputs": []
    },
    {
      "cell_type": "markdown",
      "metadata": {
        "id": "wAgi7zi73iNY",
        "colab_type": "text"
      },
      "source": [
        "`continue` and `pass` also work for `while` loops. Note that the indexing variable should be incremented before `continue` and `pass`. "
      ]
    },
    {
      "cell_type": "code",
      "metadata": {
        "colab_type": "code",
        "id": "Z0gS1r8k5-BW",
        "colab": {}
      },
      "source": [
        "# print each element of the simple list ['c', 2 , 3, 'a', 5, 6.6, 7, 8] only if it is an integer\n",
        "\n",
        "test_list = ['c', 2 , 3, 'a', 5, 6.6, 7, 8]\n",
        "x = 0 # initialise indexing variable\n",
        "\n",
        "while x <= len(test_list)-1:\n",
        "\n",
        "    char = test_list[x] # element at position x of test_list\n",
        "    x += 1 # increment indexing variable \n",
        "    \n",
        "    if type(char) != int:\n",
        "\n",
        "      continue\n",
        "      \n",
        "    print(char) # executed only if char is an integer"
      ],
      "execution_count": null,
      "outputs": []
    },
    {
      "cell_type": "markdown",
      "metadata": {
        "id": "k0p1Wjd_9Vp-",
        "colab_type": "text"
      },
      "source": [
        "# Example\n",
        "\n",
        "\n",
        "---\n",
        "Write a program to print every digit and character of a nested list on the same line, separated by commas (**maximum depth = 3**). \n",
        "<br>\n",
        "<br>\n",
        "Below is the flow chart for the program. It is based on the assumption that each element is covered only once.\n",
        "<br>\n",
        "<br>\n",
        "Tasks associated with each layer of depth of the list have the same colour:\n",
        "<br>\n",
        "<br>\n",
        "Layer 1: Pink\n",
        "<br>\n",
        "Layer 2: Blue\n",
        "<br>\n",
        "Layer 3: Orange \n",
        "<br>\n",
        "Shared: Green\n",
        "<br>\n",
        "![alt text](https://github.com/HGeorgeWilliams/We-Yone-Python-Club/raw/master/Data/LoopExampleFlowChart.png)\n"
      ]
    },
    {
      "cell_type": "code",
      "metadata": {
        "id": "277Ty_PgDwwb",
        "colab_type": "code",
        "colab": {}
      },
      "source": [
        "input_list = [0, [1, 2, 'cesc'], [4, {'b', 1, 0, 8},'z'], [6, {'?', '&'}, 8]]\n",
        "\n",
        "# FIRST LAYER\n",
        "\n",
        "# loop over the elements of the first layer\n",
        "\n",
        "for x in input_list:\n",
        "\n",
        "  # check if x is numeric or a single character string\n",
        "\n",
        "  if type(x) == int or type(x) == float or (type(x) == str and len(x) == 1):\n",
        "\n",
        "    print(x, end = ',')\n",
        "\n",
        "  else:\n",
        "\n",
        "    # SECOND LAYER \n",
        "\n",
        "    # loop over the elements of the second layer\n",
        "\n",
        "     for y in x:\n",
        "\n",
        "      # check if y is numeric or a single character string \n",
        "\n",
        "       if type(y) == int or type(y) == float or (type(y) == str and len(y) == 1):\n",
        "\n",
        "         print(y, end = ',')\n",
        "\n",
        "       else:\n",
        "          \n",
        "          # THIRD LAYER \n",
        "          \n",
        "          # loop over the elements of the third layer\n",
        "\n",
        "            for z in y:\n",
        "\n",
        "              # check if z is numeric or a single character string \n",
        "\n",
        "              if type(z) == int or type(z) == float or (type(z) == str and len(z) == 1):\n",
        "\n",
        "                 print(z, end = ',')\n",
        "                 \n",
        "              else:\n",
        "\n",
        "                 raise Exception('Input list cannot have more than 3 layers!')"
      ],
      "execution_count": null,
      "outputs": []
    },
    {
      "cell_type": "markdown",
      "metadata": {
        "id": "VvqlXuP1M6a9",
        "colab_type": "text"
      },
      "source": [
        "What if the number of nested layers supported was increased to 4, 100, or infinity? Clearly, we would need more `for` loops and if there was no restriction on the depth of nesting, the problem would be impossible to code, as we wouldn't possibly know the number of `for` loops required. With a [recursive function](https://www.freecodecamp.org/news/how-recursion-works-explained-with-flowcharts-and-a-video-de61f40cb7f9/), however, the problem could be solved in fewer programming steps and generalised to handle any depth of nesting. \n",
        "<br>"
      ]
    },
    {
      "cell_type": "markdown",
      "metadata": {
        "id": "zVpDHT51T24a",
        "colab_type": "text"
      },
      "source": [
        "The flow chart of the program is shown below. The blue blocks are not implemented in practice, since they are implicitly handled by the `for` loop.\n",
        "<br>\n",
        "<br>\n",
        "Here's what the input symbols mean:\n",
        "\n",
        "**`nested_list`**: Nested list to print.\n",
        "\n",
        "**`current_depth`**: Current depth. To start printing from the $n\\mathrm{th}$ depth, set the current depth to $n-1$.\n",
        "\n",
        "**`max_depth`**: Maximum nesting depth supported. Execution is interrupted if the algorithm attempts to access elements at depths beyond this. \n",
        "\n",
        "![alt text](https://github.com/HGeorgeWilliams/We-Yone-Python-Club/raw/master/Data/LoopExampleFlowChart%20(1).png)\n",
        "\n"
      ]
    },
    {
      "cell_type": "code",
      "metadata": {
        "id": "mfuYD85gTIqq",
        "colab_type": "code",
        "colab": {}
      },
      "source": [
        "# Define a function to print the basic elements of a nested list\n",
        "\n",
        "# INPUT\n",
        "\n",
        "# nested_list: Nested list to print\n",
        "\n",
        "# current_depth: Current depth\n",
        "\n",
        "# max_depth: Maximum number of layers supported\n",
        "\n",
        "def print_nested_list(nested_list, current_depth, max_depth):\n",
        "    \n",
        "    # raise an exception if  max_depth is not a positive integer\n",
        "\n",
        "    if type(max_depth) != int or max_depth < 0:\n",
        "\n",
        "      raise Exception('max_depth should be a positive integer') # print error message and exit \n",
        "\n",
        "     # raise an exception if current_depth is not a positive integer\n",
        "\n",
        "    if type(current_depth) != int or current_depth < 0:\n",
        "\n",
        "      raise Exception('current_depth should be a positive integer') # print error message and exit \n",
        "\n",
        "    current_depth += 1 # update current depth reached \n",
        "\n",
        "    # check if current depth is greater than maximum depth allowed\n",
        "\n",
        "    if current_depth > max_depth:\n",
        "\n",
        "       raise Exception('Input list cannot have more than {} layers!'.format(max_depth)) # print error message and exit\n",
        "\n",
        "    # loop over first layer of nested_list \n",
        "\n",
        "    for x in nested_list:\n",
        "\n",
        "      # check if x is numeric or a single character string\n",
        "\n",
        "      if type(x) == int or type(x) == float or (type(x) == str and len(x) == 1):\n",
        "\n",
        "          print(x, current_depth)\n",
        "\n",
        "      else:\n",
        "        \n",
        "          print_nested_list(x, current_depth, max_depth) # recursively call function to print "
      ],
      "execution_count": null,
      "outputs": []
    },
    {
      "cell_type": "code",
      "metadata": {
        "id": "oWtYFv8CU5Pb",
        "colab_type": "code",
        "colab": {}
      },
      "source": [
        "# Define inputs\n",
        "\n",
        "input_list = [0, [], [1, 2, 'cesc'], [4, ['b', 1, 0, 8],'z'], [6, ['?', '&'], 8]] # list to print\n",
        "current_depth = 0 # set current depth (always set to 0 if you want to print every element)\n",
        "max_depth = 3 # maximum depth allowed\n",
        "\n",
        "# Call function\n",
        "\n",
        "print_nested_list(input_list, current_depth, max_depth)"
      ],
      "execution_count": null,
      "outputs": []
    },
    {
      "cell_type": "markdown",
      "metadata": {
        "id": "Fx8HawIwHhxP",
        "colab_type": "text"
      },
      "source": [
        "To support an infinite depth of nesting, set `max_depth` to a very large number - say $10^{10}$ or so."
      ]
    },
    {
      "cell_type": "code",
      "metadata": {
        "id": "SQJraZSOKw7U",
        "colab_type": "code",
        "colab": {}
      },
      "source": [
        "# Define inputs\n",
        "\n",
        "input_list = [0, [1, [-1, 0, [7, 'ew'], 0, -1], ['abu', 'joe'], 'cesc'], [4, ['b', 1, 0, 8],'z'],\n",
        "              [6, ['?', '&'], 8]] # list to print\n",
        "\n",
        "current_depth = 0 # set current depth (always set to 0 if you want to print every element)\n",
        "\n",
        "max_depth = int(10e10) # maximum depth allowed\n",
        "\n",
        "# Call function\n",
        "\n",
        "print_nested_list(input_list, current_depth, max_depth)"
      ],
      "execution_count": null,
      "outputs": []
    },
    {
      "cell_type": "markdown",
      "metadata": {
        "id": "I7IJuLR6V12-",
        "colab_type": "text"
      },
      "source": [
        "Note that the cell containing the function `print_nested_list` needs to be run only once and can be called an infinite number of times thereafter, unless the function is modified, in which case it should be run again before being called. "
      ]
    },
    {
      "cell_type": "markdown",
      "metadata": {
        "id": "wzty8G82W6rX",
        "colab_type": "text"
      },
      "source": [
        "What if instead of throwing an error for nested lists with depth greater than `max_depth`, we want the program to just not print elements at depths greather than `max_depth` but continue without an error? <br> <br>\n",
        "In this case, we replace the `raise Exception` statement in the `if` block checking <br> whether or not the maximum depth has been reached, with a `return` statement. \n",
        "\n",
        "![alt text](https://raw.githubusercontent.com/HGeorgeWilliams/We-Yone-Python-Club/master/Data/LoopExampleFlowChart%20(2).png)"
      ]
    },
    {
      "cell_type": "code",
      "metadata": {
        "colab_type": "code",
        "id": "tspg50fzbw-l",
        "colab": {}
      },
      "source": [
        "# INPUT\n",
        "\n",
        "# nested_list: Nested list to print\n",
        "\n",
        "# current_depth: Current depth\n",
        "\n",
        "# max_depth: Maximum number of layers supported\n",
        "\n",
        "def print_nested_list_new(nested_list, current_depth, max_depth):\n",
        "    \n",
        "    # raise an exception if max_depth is not a positive integer\n",
        "\n",
        "    if type(max_depth) != int or max_depth < 0:\n",
        "\n",
        "      raise Exception('max_depth should be a positive integer!') # print error message and exit \n",
        "\n",
        "    # raise an exception if current_depth is not a positive integer\n",
        "\n",
        "    if type(current_depth) != int or current_depth < 0:\n",
        "\n",
        "      raise Exception('current_depth should be a positive integer!') # print error message and exit \n",
        "\n",
        "    current_depth += 1 # update current depth reached \n",
        "\n",
        "    # check if current depth is greater than maximum depth allowed\n",
        "\n",
        "    if current_depth > max_depth:\n",
        "\n",
        "       return\n",
        "\n",
        "    # loop over first layer of nested_list \n",
        "\n",
        "    for x in nested_list:\n",
        "\n",
        "      # check if x is numeric or a single character string\n",
        "\n",
        "      if type(x) == int or type(x) == float or (type(x) == str and len(x) == 1):\n",
        "\n",
        "          print(x, current_depth)\n",
        "\n",
        "      else: \n",
        "        \n",
        "          print_nested_list_new(x, current_depth, max_depth) # recursively call function to print"
      ],
      "execution_count": null,
      "outputs": []
    },
    {
      "cell_type": "code",
      "metadata": {
        "colab_type": "code",
        "id": "jhxI4pl5cd4X",
        "colab": {}
      },
      "source": [
        "# Print elements up to a certain depth \n",
        "\n",
        "input_list = [0, [1, [-1, 0, [7, 'ew'], 0, -1], ['abu', 'joe'], 'cesc'], [4, ['b', 1, 0, 8],'z'],\n",
        "              [6, ['?', '&'], 8], 7] # list to print\n",
        "\n",
        "current_depth = 0 # set current depth \n",
        "\n",
        "max_depth = 2 # maximum depth allowed\n",
        "\n",
        "# Call function\n",
        "\n",
        "print_nested_list_new(input_list, current_depth, max_depth)"
      ],
      "execution_count": null,
      "outputs": []
    },
    {
      "cell_type": "markdown",
      "metadata": {
        "id": "_gosVdR3iVd7",
        "colab_type": "text"
      },
      "source": [
        "We can also print only the elements in a specified range of layers. "
      ]
    },
    {
      "cell_type": "code",
      "metadata": {
        "colab_type": "code",
        "id": "L8qJxvYWmGkc",
        "colab": {}
      },
      "source": [
        "input_list = [0, [1, [-1, 0, [7, 'ew'], 0, -1], ['abu', 'joe'], 'cesc'], [4, ['b', 1, 0, 8],'z'],\n",
        "              [6, ['?', '&'], 8], 7] # list to print\n",
        "\n",
        "# Print elements between the second and fourth layers\n",
        "\n",
        "current_depth = 1 # lower bound of range of layers\n",
        "\n",
        "max_depth = 4 # upper bound of range of layers\n",
        "\n",
        "# Call function\n",
        "\n",
        "print_nested_list_new(input_list, current_depth, max_depth)"
      ],
      "execution_count": null,
      "outputs": []
    },
    {
      "cell_type": "markdown",
      "metadata": {
        "id": "_ffAlXdc4TMS",
        "colab_type": "text"
      },
      "source": [
        "# Exercises to Try at Home\n",
        "\n",
        "\n",
        "---\n",
        "1. Write a program to print the content of a list on the same line but separated by <br> semicolon and one whitespace with a period after the last element of the list.\n",
        "<br>\n",
        "<br>\n",
        "\n",
        ">**Sample**\n",
        "<br>\n",
        "Input : `[A, 4, B]`<br>\n",
        "Output: `A; 4; B.` \n",
        "<br>\n",
        "<br>\n",
        ">\n",
        "2. Write a program to print the last 4 elements \n",
        "of the list `[9, 7, 'a', 4.4, 0, 'you','go']` without using the `range()` function.\n",
        "<br>\n",
        "<br>\n",
        "3. Repeat 1 and 2 using `while` loops only.\n",
        "<br>\n",
        "<br>\n",
        "4. Write a programme to print the characters of a word or sentence in reverse order. Indicate their position in the word or sentence. \n",
        "<br>\n",
        "<br>\n",
        "\n",
        ">**Sample**\n",
        "<br>\n",
        "Input: `Sea` <br>\n",
        "Output:\n",
        "```\n",
        "3 a\n",
        "2 e\n",
        "1 S\n",
        "```\n",
        "<br>\n",
        "<br>\n",
        "5. Write a program to print every digit and character from specified layers of a nested list.\n"
      ]
    }
  ]
}