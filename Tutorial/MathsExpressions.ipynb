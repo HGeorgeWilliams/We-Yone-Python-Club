{
  "nbformat": 4,
  "nbformat_minor": 0,
  "metadata": {
    "colab": {
      "name": "MathsExpressions.ipynb",
      "provenance": [],
      "collapsed_sections": [],
      "authorship_tag": "ABX9TyOGxDflGSYVGvHnGxtdKtx9",
      "include_colab_link": true
    },
    "kernelspec": {
      "name": "python3",
      "display_name": "Python 3"
    }
  },
  "cells": [
    {
      "cell_type": "markdown",
      "metadata": {
        "id": "view-in-github",
        "colab_type": "text"
      },
      "source": [
        "<a href=\"https://colab.research.google.com/github/HGeorgeWilliams/We-Yone-Python-Club/blob/master/Tutorial/MathsExpressions.ipynb\" target=\"_parent\"><img src=\"https://colab.research.google.com/assets/colab-badge.svg\" alt=\"Open In Colab\"/></a>"
      ]
    },
    {
      "cell_type": "markdown",
      "metadata": {
        "id": "ME_OFocM7liO",
        "colab_type": "text"
      },
      "source": [
        "# **Python 101: Mathematical Operations in Python**\n",
        "\n",
        "\n"
      ]
    },
    {
      "cell_type": "markdown",
      "metadata": {
        "id": "8r1dpR357-0C",
        "colab_type": "text"
      },
      "source": [
        "# Summary\n",
        "\n",
        "\n",
        "---\n",
        "\n",
        "\n",
        "This tutorial introduces people with a basic programming knowledge to Python's mathematical operators and **`math`** module.<br> It further teaches them how to deal with mathematical expressions and substitutions, as well as plotting line graphs in Python.  \n",
        "<br>\n",
        "A video recording of this tutorial is available [here](https://youtu.be/vWgVkpQAxdE).\n",
        "<br>\n",
        "<br>\n",
        "Visit my [GitHub page](https://github.com/HGeorgeWilliams/We-Yone-Python-Club) for more tutorials and resources in this series. \n"
      ]
    },
    {
      "cell_type": "markdown",
      "metadata": {
        "id": "4o7csUEq-Oo9",
        "colab_type": "text"
      },
      "source": [
        "# Maths Operators\n",
        "\n",
        "\n",
        "---\n",
        "\n",
        "\n",
        "\n",
        "`+` : Addition <br>\n",
        "`-` : Subtraction <br>\n",
        "`*` : Multiplication <br>\n",
        "`**`: Exponent (e.g. $3**4 = 3^4$) <br>\n",
        "`/` : Normal division <br>\n",
        "`//`: Floor division (*returns only the whole number part of the quotient*)<br>\n",
        "`%` : Modulo division (returns only the remainder of the division e.g., `7%5` returns 2)\n"
      ]
    },
    {
      "cell_type": "code",
      "metadata": {
        "id": "tYUUVOuzCpOr",
        "colab_type": "code",
        "colab": {}
      },
      "source": [
        "6**2 - 3 # 6 squared minus 3"
      ],
      "execution_count": null,
      "outputs": []
    },
    {
      "cell_type": "code",
      "metadata": {
        "id": "kbxoiNzrDKG5",
        "colab_type": "code",
        "colab": {}
      },
      "source": [
        "(50 - 3*9) / 4 # normal division"
      ],
      "execution_count": null,
      "outputs": []
    },
    {
      "cell_type": "code",
      "metadata": {
        "id": "49j81f_xDmP4",
        "colab_type": "code",
        "colab": {}
      },
      "source": [
        "(50 - 3*9) // 4 # floor division"
      ],
      "execution_count": null,
      "outputs": []
    },
    {
      "cell_type": "markdown",
      "metadata": {
        "id": "HjSnKz1sDzUB",
        "colab_type": "text"
      },
      "source": [
        "Take note that the decimal $.75$ is discarded."
      ]
    },
    {
      "cell_type": "code",
      "metadata": {
        "id": "wWW5r-HNEXUd",
        "colab_type": "code",
        "colab": {}
      },
      "source": [
        "(50 - 3*9) % 4 # Modulo division"
      ],
      "execution_count": null,
      "outputs": []
    },
    {
      "cell_type": "markdown",
      "metadata": {
        "id": "EuVztfQxFdQk",
        "colab_type": "text"
      },
      "source": [
        "$50-3\\times9=50-27=23$ and 4 can go into 23 five times remainder 3."
      ]
    },
    {
      "cell_type": "markdown",
      "metadata": {
        "id": "ySvIMpePGMpK",
        "colab_type": "text"
      },
      "source": [
        "# Variables and Expressions\n",
        "\n",
        "\n",
        "---\n",
        "\n",
        "\n",
        "Variables are containers for storing data - more like the name of the place Python stores the data in question. <br><br>\n",
        "Apart from Python's reserved keywords, a variable can be assigned any name. However, it is good practice to use a meaningful name, for increased readability of your code. For example, if you are assigning the roots of a quadratic equation to variables, naming these variables `root1` and `root2` makes your code more readable than when you name them `chelsea` and `arsenal`. \n",
        "You can join multiple words to name a variable; in this case, the globally understood format (*I don't know why*) is to separate these words with an underscore e.g., `my_first_var`.\n",
        "<br><br>\n",
        "A few of Python's reserved keywords are; `and`, `for`, `print`, `break`, `while`, `if`, `yield`, `return`. The full list is available [here](https://www.w3schools.com/python/python_ref_keywords.asp)."
      ]
    },
    {
      "cell_type": "code",
      "metadata": {
        "id": "O6pP7hRHK22J",
        "colab_type": "code",
        "colab": {}
      },
      "source": [
        "my_length = 7 # the variable my_length is assigned the value"
      ],
      "execution_count": null,
      "outputs": []
    },
    {
      "cell_type": "code",
      "metadata": {
        "id": "C2rVhycHLX4L",
        "colab_type": "code",
        "colab": {}
      },
      "source": [
        "my_breadth = 4 # the variable my_breadth is assigned the value 4"
      ],
      "execution_count": null,
      "outputs": []
    },
    {
      "cell_type": "code",
      "metadata": {
        "id": "WECEYlyrLatM",
        "colab_type": "code",
        "colab": {}
      },
      "source": [
        "my_area = my_length * my_breadth # calculate area and store as my_area"
      ],
      "execution_count": null,
      "outputs": []
    },
    {
      "cell_type": "markdown",
      "metadata": {
        "id": "YoTJElQGLsWi",
        "colab_type": "text"
      },
      "source": [
        "Once a variable is defined, it 'lives' in the workspace until deleted or the session is closed. "
      ]
    },
    {
      "cell_type": "code",
      "metadata": {
        "id": "8MC17WeBLpJV",
        "colab_type": "code",
        "colab": {}
      },
      "source": [
        "print(my_area)"
      ],
      "execution_count": null,
      "outputs": []
    },
    {
      "cell_type": "markdown",
      "metadata": {
        "id": "zxlNiwT-MjeG",
        "colab_type": "text"
      },
      "source": [
        "Use `who`, for a list of variables in the current workspace."
      ]
    },
    {
      "cell_type": "code",
      "metadata": {
        "id": "FDjc3wJqM1s7",
        "colab_type": "code",
        "colab": {}
      },
      "source": [
        "who"
      ],
      "execution_count": null,
      "outputs": []
    },
    {
      "cell_type": "markdown",
      "metadata": {
        "id": "TQ039Fm4M79u",
        "colab_type": "text"
      },
      "source": [
        "Use `whos`, for a complete information on variables in the current workspace and their type."
      ]
    },
    {
      "cell_type": "code",
      "metadata": {
        "id": "2wv2_-URNG14",
        "colab_type": "code",
        "colab": {}
      },
      "source": [
        "whos"
      ],
      "execution_count": null,
      "outputs": []
    },
    {
      "cell_type": "markdown",
      "metadata": {
        "id": "xXIngTEvPyBC",
        "colab_type": "text"
      },
      "source": [
        "Use the `del` command to delete a variable."
      ]
    },
    {
      "cell_type": "code",
      "metadata": {
        "id": "k8vCBm_9P3Ob",
        "colab_type": "code",
        "colab": {}
      },
      "source": [
        "del my_area # delete the variable my_area"
      ],
      "execution_count": null,
      "outputs": []
    },
    {
      "cell_type": "markdown",
      "metadata": {
        "id": "uo1izKQeRE0E",
        "colab_type": "text"
      },
      "source": [
        "Executing the print statement below will generate an error message. Do you know why?"
      ]
    },
    {
      "cell_type": "code",
      "metadata": {
        "id": "9qJst040QX-F",
        "colab_type": "code",
        "colab": {}
      },
      "source": [
        "print(my_area)"
      ],
      "execution_count": null,
      "outputs": []
    },
    {
      "cell_type": "markdown",
      "metadata": {
        "id": "TE9ZMpk8SOjG",
        "colab_type": "text"
      },
      "source": [
        "Use the `%reset` command to delete all variables. Python will ask you to confirm before proceeding, since it is an irreversible action. "
      ]
    },
    {
      "cell_type": "code",
      "metadata": {
        "id": "ItrW6kgxUWmL",
        "colab_type": "code",
        "colab": {}
      },
      "source": [
        "%reset"
      ],
      "execution_count": null,
      "outputs": []
    },
    {
      "cell_type": "code",
      "metadata": {
        "id": "lCLijH93YJl4",
        "colab_type": "code",
        "colab": {}
      },
      "source": [
        "a = -6\n",
        "b = [8,0,7,4]"
      ],
      "execution_count": null,
      "outputs": []
    },
    {
      "cell_type": "code",
      "metadata": {
        "id": "px1Q5X-EYeqb",
        "colab_type": "code",
        "colab": {}
      },
      "source": [
        "c = abs(a) # absolute value of a\n",
        "print(c)"
      ],
      "execution_count": null,
      "outputs": []
    },
    {
      "cell_type": "code",
      "metadata": {
        "id": "MS3Aev2qYfkJ",
        "colab_type": "code",
        "colab": {}
      },
      "source": [
        "d = min(b) # minimum of the elements in b\n",
        "print(d)"
      ],
      "execution_count": null,
      "outputs": []
    },
    {
      "cell_type": "code",
      "metadata": {
        "colab_type": "code",
        "id": "DTIlTPfCZE4h",
        "colab": {}
      },
      "source": [
        "e = max(b) # maximum of the elements in b\n",
        "print(e)"
      ],
      "execution_count": null,
      "outputs": []
    },
    {
      "cell_type": "markdown",
      "metadata": {
        "id": "6_jzdJn9ZOro",
        "colab_type": "text"
      },
      "source": [
        "# Python's `math` Module\n",
        "\n",
        "\n",
        "---\n",
        "\n",
        "\n",
        "The `math` module provides access to the popular mathematical functions. The full list and description of these functions is available [here](https://docs.python.org/3/library/math.html). <br><br>\n",
        "The `math` module is imported in two ways:<br><br>\n",
        "`import math`; here to access a function, you use the syntax `math.func()`, where `func` is the name of the function being accessed. <br><br>\n",
        "`import math as m`; here to access a function, you use the syntax `m.func()`. "
      ]
    },
    {
      "cell_type": "code",
      "metadata": {
        "id": "8kEpiyYoa0Rj",
        "colab_type": "code",
        "colab": {}
      },
      "source": [
        "import math as m # import math module"
      ],
      "execution_count": 1,
      "outputs": []
    },
    {
      "cell_type": "markdown",
      "metadata": {
        "id": "lRqWG88wdG3A",
        "colab_type": "text"
      },
      "source": [
        "**Constants and angular conversion**"
      ]
    },
    {
      "cell_type": "code",
      "metadata": {
        "id": "3b_SjqSZdV2l",
        "colab_type": "code",
        "colab": {}
      },
      "source": [
        "pi_val = m.pi # value of pi\n",
        "print(pi_val)"
      ],
      "execution_count": null,
      "outputs": []
    },
    {
      "cell_type": "code",
      "metadata": {
        "id": "N2liSmZod3Ud",
        "colab_type": "code",
        "colab": {}
      },
      "source": [
        "# convert 180 degrees to radian\n",
        "\n",
        "degree_angle = 180 # angle in degrees\n",
        "radian_angle = m.radians(degree_angle) # convert from degrees to radians\n",
        "print(radian_angle)"
      ],
      "execution_count": null,
      "outputs": []
    },
    {
      "cell_type": "code",
      "metadata": {
        "colab_type": "code",
        "id": "Of9RmNq2echz",
        "colab": {}
      },
      "source": [
        "# convert pi/2 to radians to degrees\n",
        "\n",
        "radian_angle = m.pi/2 # angle in radians\n",
        "degree_angle = m.degrees(radian_angle) # convert from radians to degrees\n",
        "print(degree_angle)"
      ],
      "execution_count": null,
      "outputs": []
    },
    {
      "cell_type": "code",
      "metadata": {
        "id": "1Sxs41-ifGz_",
        "colab_type": "code",
        "colab": {}
      },
      "source": [
        "infinity = m.inf # define infinity\n",
        "print(infinity)"
      ],
      "execution_count": null,
      "outputs": []
    },
    {
      "cell_type": "markdown",
      "metadata": {
        "colab_type": "text",
        "id": "aOj7mBCqfcgi"
      },
      "source": [
        "**Trigonometry**"
      ]
    },
    {
      "cell_type": "markdown",
      "metadata": {
        "id": "MA1Im4uShX1v",
        "colab_type": "text"
      },
      "source": [
        "Show that $sin^2x+cos^2x = 1$"
      ]
    },
    {
      "cell_type": "code",
      "metadata": {
        "id": "idJsH6yXg9rj",
        "colab_type": "code",
        "colab": {}
      },
      "source": [
        "# use any value for x\n",
        "\n",
        "x = m.pi/6 # trig functions in the math module use radian input angles\n",
        "y = m.sin(x)**2 + m.cos(x)**2\n",
        "print(y)"
      ],
      "execution_count": null,
      "outputs": []
    },
    {
      "cell_type": "markdown",
      "metadata": {
        "id": "9BLJWzhXiX31",
        "colab_type": "text"
      },
      "source": [
        "Plot the function $y=1+sin^2x$ in the range $-2\\pi\\leq x\\leq 2\\pi$"
      ]
    },
    {
      "cell_type": "code",
      "metadata": {
        "id": "s9CnLV1DjFTe",
        "colab_type": "code",
        "colab": {}
      },
      "source": [
        "# import matplotlib and numpy modules for plotting\n",
        "\n",
        "import matplotlib.pyplot as plt  \n",
        "import numpy as np"
      ],
      "execution_count": 2,
      "outputs": []
    },
    {
      "cell_type": "code",
      "metadata": {
        "id": "WRDTgMWejILQ",
        "colab_type": "code",
        "colab": {
          "base_uri": "https://localhost:8080/",
          "height": 299
        },
        "outputId": "37373ee4-b0df-4ee9-cb1c-e46f9344ec8c"
      },
      "source": [
        "# derive set of x and y coordinates\n",
        "\n",
        "x = np.linspace(-2*m.pi, 2*m.pi, 100) # generate 100 equally spaced x values\n",
        "y = 1 + (np.sin(x))**2 # get corresponding values of y (np used instead of m)\n",
        "\n",
        "# plot function\n",
        "\n",
        "plt.plot(x,y) # plot points\n",
        "plt.xlabel('x') # label x axis\n",
        "plt.ylabel('y') # label y axis\n",
        "plt.title('Plot of $y=1+sin^2x$ in the range $-2\\pi\\leq x\\leq 2\\pi$') # insert title\n",
        "plt.show() # show plot"
      ],
      "execution_count": 3,
      "outputs": [
        {
          "output_type": "display_data",
          "data": {
            "image/png": "[encoded data removed]",
            "text/plain": [
              "<Figure size 432x288 with 1 Axes>"
            ]
          },
          "metadata": {
            "tags": [],
            "needs_background": "light"
          }
        }
      ]
    },
    {
      "cell_type": "markdown",
      "metadata": {
        "colab_type": "text",
        "id": "q1etdmE1ou9T"
      },
      "source": [
        "**Power and logarithmic functions**"
      ]
    },
    {
      "cell_type": "markdown",
      "metadata": {
        "id": "pQGJ-C-9phCz",
        "colab_type": "text"
      },
      "source": [
        "Plot the function $y=\\ln\\left(\\frac{x^3}{\\left(x+3\\right)^4}\\right)$ in the range $1\\leq x\\leq50$."
      ]
    },
    {
      "cell_type": "code",
      "metadata": {
        "id": "ym1B10tkz69_",
        "colab_type": "code",
        "colab": {}
      },
      "source": [
        "# evaluate function at single point\n",
        "\n",
        "x = 5\n",
        "y = m.log(x**3/(x+3)**4)\n",
        "z = round(y,2) # round y to 2 decimal place\n",
        "print(z)"
      ],
      "execution_count": null,
      "outputs": []
    },
    {
      "cell_type": "markdown",
      "metadata": {
        "id": "U9T8onbP0edf",
        "colab_type": "text"
      },
      "source": [
        "To plot function, we derive its value at multiple points in the interval. "
      ]
    },
    {
      "cell_type": "code",
      "metadata": {
        "id": "LUyZmzV1qSAE",
        "colab_type": "code",
        "colab": {
          "base_uri": "https://localhost:8080/",
          "height": 313
        },
        "outputId": "71f154aa-3e43-433c-f584-fab7cd8846a1"
      },
      "source": [
        "# derive set of x and y coordinates\n",
        "\n",
        "x = np.linspace(1, 50, 100) # generate 100 equally spaced x values\n",
        "y = np.log(x**3/(x+3)**4) # get corresponding values of y (np used instead of m) \n",
        "\n",
        "# plot function\n",
        "\n",
        "plt.plot(x,y, color ='red', linestyle = '--', marker = '+') # plot points\n",
        "plt.xlabel('x', fontweight='bold', fontsize = 14) # label x axis\n",
        "plt.ylabel('y', fontweight='bold', fontsize = 14) # label y axis\n",
        "\n",
        "plt.title(r'Plot of $y=\\ln\\left(\\frac{x^3}{\\left(x+3\\right)^4}\\right)$ ' +\n",
        "          'in the range $1\\leq x\\leq50$', fontsize = 14) # insert title\n",
        "\n",
        "plt.xlim([1,50]) # set x axis limits\n",
        "plt.show() # show plot"
      ],
      "execution_count": 4,
      "outputs": [
        {
          "output_type": "display_data",
          "data": {
            "image/png": "[encoded data removed]",
            "text/plain": [
              "<Figure size 432x288 with 1 Axes>"
            ]
          },
          "metadata": {
            "tags": [],
            "needs_background": "light"
          }
        }
      ]
    },
    {
      "cell_type": "markdown",
      "metadata": {
        "colab_type": "text",
        "id": "IynmJWKL1nTd"
      },
      "source": [
        "Plot the function $y=\\log_{10}\\left(\\frac{\\rm e^{2x}}{1+\\rm e^{-x}}\\right)$ in the range $-10\\leq x\\leq10$."
      ]
    },
    {
      "cell_type": "code",
      "metadata": {
        "colab_type": "code",
        "id": "JW_IAMJa2nyi",
        "colab": {}
      },
      "source": [
        "# evaluate function at single point\n",
        "\n",
        "x = 0\n",
        "y = m.log10(m.exp(2*x)/(1+m.exp(-x)))\n",
        "z = round(y,2) # round y to 2 decimal place\n",
        "print(z)"
      ],
      "execution_count": null,
      "outputs": []
    },
    {
      "cell_type": "code",
      "metadata": {
        "colab_type": "code",
        "id": "3KYmF5L64DOd",
        "colab": {}
      },
      "source": [
        "# derive set of x and y coordinates\n",
        "\n",
        "x = np.linspace(-10, 10, 50) # generate 50 equally spaced x values\n",
        "# get corresponding values of y (np used instead of m) \n",
        "y = np.log10(np.exp(2*x)/(1+np.exp(-x))) \n",
        "\n",
        "# plot function\n",
        "\n",
        "plt.plot(x,y, color ='g', linestyle = '-.') # plot points\n",
        "plt.xlabel('x', fontweight='bold', fontsize = 14) # label x axis\n",
        "plt.ylabel('y', fontweight='bold', fontsize = 14) # label y axis\n",
        "\n",
        "plt.title(r'Plot of $y=\\log_{10}\\left(\\frac{\\rm e^{2x}}{1+\\rm e^{-x}}\\right)$' + \n",
        "          'in the range $-10\\leq x\\leq10$', fontsize = 14) # insert title\n",
        "\n",
        "plt.show() # show plot"
      ],
      "execution_count": null,
      "outputs": []
    },
    {
      "cell_type": "markdown",
      "metadata": {
        "colab_type": "text",
        "id": "G2YkoeSy5s1H"
      },
      "source": [
        "**Other functions**"
      ]
    },
    {
      "cell_type": "code",
      "metadata": {
        "id": "qCexbUsa57b0",
        "colab_type": "code",
        "colab": {}
      },
      "source": [
        "a = [5, 7, -1, 4]\n",
        "b = m.fsum(a) # sum of elements\n",
        "print(b)"
      ],
      "execution_count": null,
      "outputs": []
    },
    {
      "cell_type": "code",
      "metadata": {
        "id": "KzN7pN1M6QKm",
        "colab_type": "code",
        "colab": {}
      },
      "source": [
        "c = m.sqrt(b) # square root of b\n",
        "print(round(c,2))"
      ],
      "execution_count": null,
      "outputs": []
    },
    {
      "cell_type": "code",
      "metadata": {
        "id": "NjkaltIg7V6A",
        "colab_type": "code",
        "colab": {}
      },
      "source": [
        "r = m.factorial(5) # 5 factorial (5!)]\n",
        "print(r)"
      ],
      "execution_count": null,
      "outputs": []
    },
    {
      "cell_type": "markdown",
      "metadata": {
        "id": "VE7LBzDG8Fvz",
        "colab_type": "text"
      },
      "source": [
        "# Further Reading\n",
        "\n",
        "\n",
        "---\n",
        "\n",
        "\n",
        "Explore the Matplolib and Numpy libraries from [here](https://matplotlib.org/api/_as_gen/matplotlib.pyplot.plot.html) and [here](https://numpy.org/doc/stable/user/absolute_beginners.html), respectively. "
      ]
    },
    {
      "cell_type": "markdown",
      "metadata": {
        "id": "LcafljM_-NQH",
        "colab_type": "text"
      },
      "source": [
        "# Exercises to Try at Home\n",
        "\n",
        "\n",
        "---\n",
        "\n",
        "1. Write a programme to find the roots of a quadratic equation and plot the graph of the equation.\n",
        "<br>\n",
        "<br>\n",
        "2. The effective resistance $R$ of a parallel circuit of $n$ resistors is related to the individual resistances $R_1,R_2,..., R_n$ <br>of the resistors by $\\frac{1}{R}=\\frac{1}{R_1}+\\frac{1}{R_2}+...+\\frac{1}{R_n}$. Write a programme to calculate the effective resistance of a circuit of five resistors.  "
      ]
    }
  ]
}